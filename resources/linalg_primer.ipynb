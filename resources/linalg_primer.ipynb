{
 "metadata": {
  "name": "",
  "signature": "sha256:4779431c37033b662a47fbfdbd8227dfa657814432cbcb9168210b4f8b14035b"
 },
 "nbformat": 3,
 "nbformat_minor": 0,
 "worksheets": [
  {
   "cells": [
    {
     "cell_type": "heading",
     "level": 1,
     "metadata": {},
     "source": [
      "Linear Algebra Primer"
     ]
    },
    {
     "cell_type": "heading",
     "level": 1,
     "metadata": {},
     "source": [
      "Vectors"
     ]
    },
    {
     "cell_type": "markdown",
     "metadata": {},
     "source": [
      "- typically, a vector $x$ refers to a column vector (an $n \\times 1$-dimensional matrix)\n",
      "\n",
      "\\begin{equation}\n",
      "x = \\begin{bmatrix} \n",
      "x_1 \\\\\n",
      "x_2 \\\\\n",
      "\\cdots \\\\\n",
      "x_n\n",
      "\\end{bmatrix}\\end{equation}"
     ]
    },
    {
     "cell_type": "markdown",
     "metadata": {},
     "source": [
      "- row vectors are typically written as  $x^T$ (an $1 \\times n$-dimensional matrix)\n",
      "\n",
      "\\begin{equation}\n",
      "x^T = \\begin{bmatrix} \n",
      "x_1 \\;\n",
      "x_2 \\;\n",
      "\\cdots \\; \n",
      "x_n\n",
      "\\end{bmatrix}\\end{equation}"
     ]
    },
    {
     "cell_type": "code",
     "collapsed": false,
     "input": [
      "%matplotlib inline\n",
      "import numpy as np\n",
      "import matplotlib.pyplot as plt"
     ],
     "language": "python",
     "metadata": {},
     "outputs": [],
     "prompt_number": 1
    },
    {
     "cell_type": "code",
     "collapsed": false,
     "input": [
      "a = np.array([1,4])\n",
      "b = np.array([2,3])"
     ],
     "language": "python",
     "metadata": {},
     "outputs": [],
     "prompt_number": 2
    },
    {
     "cell_type": "code",
     "collapsed": false,
     "input": [
      "ax = plt.axes()\n",
      "ax.arrow(0, 0, a[0], a[1], fc='b', ec='b', head_width=0.1, head_length=0.1)\n",
      "ax.arrow(0, 0, b[0], b[1], fc='g', ec='g', head_width=0.1, head_length=0.1)\n",
      "plt.xlim([0,3])\n",
      "plt.ylim([0,5])\n",
      "plt.grid()\n",
      "plt.show()"
     ],
     "language": "python",
     "metadata": {},
     "outputs": [
      {
       "metadata": {},
       "output_type": "display_data",
       "png": "[encoded data removed]",
       "text": [
        "<matplotlib.figure.Figure at 0x10537e4e0>"
       ]
      }
     ],
     "prompt_number": 3
    },
    {
     "cell_type": "heading",
     "level": 3,
     "metadata": {},
     "source": [
      "Vector addition"
     ]
    },
    {
     "cell_type": "code",
     "collapsed": false,
     "input": [
      "c1 = a + b\n",
      "c2 = b + a\n",
      "\n",
      "print('c1=%s, c2=%s' %(c1, c2))\n",
      "\n",
      "print('\\na + (-a) = %s' %(a+(-a)))"
     ],
     "language": "python",
     "metadata": {},
     "outputs": [
      {
       "output_type": "stream",
       "stream": "stdout",
       "text": [
        "c1=[3 7], c2=[3 7]\n",
        "\n",
        "a + (-a) = [0 0]\n"
       ]
      }
     ],
     "prompt_number": 4
    },
    {
     "cell_type": "code",
     "collapsed": false,
     "input": [
      "c = a + b\n",
      "\n",
      "ax = plt.axes()\n",
      "ax.arrow(0, 0, a[0], a[1], fc='b', ec='b', head_width=0.1, head_length=0.1)\n",
      "ax.arrow(a[0], a[1], b[0], b[1], fc='g', ec='g', head_width=0.1, head_length=0.1)\n",
      "ax.arrow(0, 0, c[0], c[1], fc='r', ec='r', head_width=0.1, head_length=0.1)\n",
      "plt.xlim([0,4])\n",
      "plt.ylim([0,9])\n",
      "plt.grid()\n",
      "plt.show()"
     ],
     "language": "python",
     "metadata": {},
     "outputs": [
      {
       "metadata": {},
       "output_type": "display_data",
       "png": "[encoded data removed]",
       "text": [
        "<matplotlib.figure.Figure at 0x105439dd8>"
       ]
      }
     ],
     "prompt_number": 5
    },
    {
     "cell_type": "code",
     "collapsed": false,
     "input": [
      "assert( (a+b).all() == (b+a).all() )               # Commutativity\n",
      "assert( ( (a+b)+c ).all() == ( a+(b+c) ).all() )   # Associativity"
     ],
     "language": "python",
     "metadata": {},
     "outputs": [],
     "prompt_number": 6
    },
    {
     "cell_type": "heading",
     "level": 3,
     "metadata": {},
     "source": [
      "Vector scalar multiplication"
     ]
    },
    {
     "cell_type": "code",
     "collapsed": false,
     "input": [
      "c1 = a * 2\n",
      "c2 = 2 * a\n",
      "\n",
      "print('c1=%s, c2=%s' %(c1, c2))"
     ],
     "language": "python",
     "metadata": {},
     "outputs": [
      {
       "output_type": "stream",
       "stream": "stdout",
       "text": [
        "c1=[2 8], c2=[2 8]\n"
       ]
      }
     ],
     "prompt_number": 7
    },
    {
     "cell_type": "code",
     "collapsed": false,
     "input": [
      "ax = plt.axes()\n",
      "ax.arrow(0, 0, a[0], a[1], fc='b', ec='b', head_width=0.1, head_length=0.1)\n",
      "ax.arrow(0, 0, c1[0], c1[1], fc='g', ec='g', head_width=0.1, head_length=0.1)\n",
      "\n",
      "plt.xlim([0,3])\n",
      "plt.ylim([0,9])\n",
      "plt.grid()\n",
      "plt.show()"
     ],
     "language": "python",
     "metadata": {},
     "outputs": [
      {
       "metadata": {},
       "output_type": "display_data",
       "png": "[encoded data removed]",
       "text": [
        "<matplotlib.figure.Figure at 0x10543c630>"
       ]
      }
     ],
     "prompt_number": 8
    },
    {
     "cell_type": "code",
     "collapsed": false,
     "input": [
      "assert( ( (a*2)*3 ).all() == (a*(2*3) ).all() )    # Associativity\n",
      "assert( ( (2+3)*a ).all() == (2*a + 3*a).all() )   # Distributivity I\n",
      "assert( ( (a+b)*2 ).all() == (2*a + 2*b).all() )   # Distributivity II"
     ],
     "language": "python",
     "metadata": {},
     "outputs": [],
     "prompt_number": 9
    },
    {
     "cell_type": "heading",
     "level": 3,
     "metadata": {},
     "source": [
      "Dot product"
     ]
    },
    {
     "cell_type": "markdown",
     "metadata": {},
     "source": [
      "\\begin{equation} \\pmb a \\cdot \\pmb b = \\sum_{i=1}^{n} a_i b_i \\end{equation}"
     ]
    },
    {
     "cell_type": "markdown",
     "metadata": {},
     "source": [
      "\\begin{equation} \\pmb a \\cdot \\pmb b = a_1*b_1 + a_2*b_2 \\end{equation}"
     ]
    },
    {
     "cell_type": "code",
     "collapsed": false,
     "input": [
      "print('a . b = %s' %(a.dot(b)))"
     ],
     "language": "python",
     "metadata": {},
     "outputs": [
      {
       "output_type": "stream",
       "stream": "stdout",
       "text": [
        "a . b = 14\n"
       ]
      }
     ],
     "prompt_number": 10
    },
    {
     "cell_type": "markdown",
     "metadata": {},
     "source": [
      "Compute length of a vector $\\sqrt{\\pmb a \\cdot \\pmb a} = ||\\pmb a||$"
     ]
    },
    {
     "cell_type": "code",
     "collapsed": false,
     "input": [
      "from numpy.linalg import norm\n",
      "\n",
      "len_a = np.sqrt(a.dot(a))\n",
      "assert(norm(a) == len_a)\n",
      "\n",
      "print('len(a) = %s' %(len_a))"
     ],
     "language": "python",
     "metadata": {},
     "outputs": [
      {
       "output_type": "stream",
       "stream": "stdout",
       "text": [
        "len(a) = 4.12310562562\n"
       ]
      }
     ],
     "prompt_number": 11
    },
    {
     "cell_type": "markdown",
     "metadata": {},
     "source": [
      "\\begin{equation} \\pmb a \\cdot \\pmb b = ||\\pmb a|| \\; ||\\pmb b|| \\; cos(\\sigma) \\\\\n",
      "\\Rightarrow cos(\\sigma) = \\frac{\\pmb a \\cdot \\pmb b}{||\\pmb a|| \\; ||\\pmb b||} \n",
      "\\end{equation}"
     ]
    },
    {
     "cell_type": "code",
     "collapsed": false,
     "input": [
      "cos_theta = (a.dot(b) / (norm(a)*norm(b)))\n",
      "print('cos(theta) = %s' %cos_theta)\n",
      "print('theta = %s (in degrees)' %np.degrees(np.arccos(cos_theta)))"
     ],
     "language": "python",
     "metadata": {},
     "outputs": [
      {
       "output_type": "stream",
       "stream": "stdout",
       "text": [
        "cos(theta) = 0.941741911595\n",
        "theta = 19.6538240581 (in degrees)\n"
       ]
      }
     ],
     "prompt_number": 12
    },
    {
     "cell_type": "heading",
     "level": 3,
     "metadata": {},
     "source": [
      "Inner product"
     ]
    },
    {
     "cell_type": "markdown",
     "metadata": {},
     "source": [
      "- synonymous to dot product\n",
      "- if $x$ and $y$ are column vectors\n",
      "\n",
      "\\begin{bmatrix}x_1 & x_2 & x_3 \\end{bmatrix}"
     ]
    },
    {
     "cell_type": "heading",
     "level": 3,
     "metadata": {},
     "source": [
      "Normalizing a vector to unit length"
     ]
    },
    {
     "cell_type": "markdown",
     "metadata": {},
     "source": [
      "\\begin{equation} \\frac{\\pmb a}{||a||} \\end{equation}"
     ]
    },
    {
     "cell_type": "code",
     "collapsed": false,
     "input": [
      "a_n = a/norm(a)\n",
      "\n",
      "print('normalized vector\\na\\' = %s' % a_n)\n",
      "print('||a\\'|| = %s' %norm(a_n))"
     ],
     "language": "python",
     "metadata": {},
     "outputs": [
      {
       "output_type": "stream",
       "stream": "stdout",
       "text": [
        "normalized vector\n",
        "a' = [ 0.24253563  0.9701425 ]\n",
        "||a'|| = 1.0\n"
       ]
      }
     ],
     "prompt_number": 13
    },
    {
     "cell_type": "heading",
     "level": 3,
     "metadata": {},
     "source": [
      "Cosine Similarity"
     ]
    },
    {
     "cell_type": "markdown",
     "metadata": {},
     "source": [
      "\\begin{matrix} cos(\\pmb a, \\pmb b) = \\frac{\\pmb a}{||\\pmb a||} \\cdot \\frac{\\pmb b}{||\\pmb a||}\\end{matrix}"
     ]
    },
    {
     "cell_type": "code",
     "collapsed": false,
     "input": [
      "cos_sim = (a / norm(a)).dot(b / norm(a))\n",
      "print('cosine similarity betw. a and b: %s' %cos_sim)"
     ],
     "language": "python",
     "metadata": {},
     "outputs": [
      {
       "output_type": "stream",
       "stream": "stdout",
       "text": [
        "cosine similarity betw. a and b: 0.823529411765\n"
       ]
      }
     ],
     "prompt_number": 14
    },
    {
     "cell_type": "heading",
     "level": 3,
     "metadata": {},
     "source": [
      "Euclidean Distance"
     ]
    },
    {
     "cell_type": "markdown",
     "metadata": {},
     "source": [
      "\\begin{matrix} eucliddist(\\pmb a, \\pmb b) = \\sqrt{\\sum_{i=1}^n (a_i b_i)^2}= \\sqrt{(\\pmb a - \\pmb b)\\cdot(\\pmb a - \\pmb b)}\\end{matrix}"
     ]
    },
    {
     "cell_type": "code",
     "collapsed": false,
     "input": [
      "eucl_dist = np.sqrt((a-b).dot(a-b))\n",
      "print('euclidean dist betw. a and b: %s' %eucl_dist)"
     ],
     "language": "python",
     "metadata": {},
     "outputs": [
      {
       "output_type": "stream",
       "stream": "stdout",
       "text": [
        "euclidean dist betw. a and b: 1.41421356237\n"
       ]
      }
     ],
     "prompt_number": 15
    },
    {
     "cell_type": "heading",
     "level": 3,
     "metadata": {},
     "source": [
      "Transpose"
     ]
    },
    {
     "cell_type": "markdown",
     "metadata": {},
     "source": [
      "- 1D to 2D array first"
     ]
    },
    {
     "cell_type": "code",
     "collapsed": false,
     "input": [
      "a = np.array([1,4])\n",
      "a.shape"
     ],
     "language": "python",
     "metadata": {},
     "outputs": [
      {
       "metadata": {},
       "output_type": "pyout",
       "prompt_number": 16,
       "text": [
        "(2,)"
       ]
      }
     ],
     "prompt_number": 16
    },
    {
     "cell_type": "code",
     "collapsed": false,
     "input": [
      "a = np.array([[1],[4]])\n",
      "a.shape"
     ],
     "language": "python",
     "metadata": {},
     "outputs": [
      {
       "metadata": {},
       "output_type": "pyout",
       "prompt_number": 17,
       "text": [
        "(2, 1)"
       ]
      }
     ],
     "prompt_number": 17
    },
    {
     "cell_type": "code",
     "collapsed": false,
     "input": [
      "a"
     ],
     "language": "python",
     "metadata": {},
     "outputs": [
      {
       "metadata": {},
       "output_type": "pyout",
       "prompt_number": 18,
       "text": [
        "array([[1],\n",
        "       [4]])"
       ]
      }
     ],
     "prompt_number": 18
    },
    {
     "cell_type": "code",
     "collapsed": false,
     "input": [
      "np.array([1,4]).reshape(2,1)"
     ],
     "language": "python",
     "metadata": {},
     "outputs": [
      {
       "metadata": {},
       "output_type": "pyout",
       "prompt_number": 19,
       "text": [
        "array([[1],\n",
        "       [4]])"
       ]
      }
     ],
     "prompt_number": 19
    },
    {
     "cell_type": "code",
     "collapsed": false,
     "input": [
      "a.T"
     ],
     "language": "python",
     "metadata": {},
     "outputs": [
      {
       "metadata": {},
       "output_type": "pyout",
       "prompt_number": 20,
       "text": [
        "array([[1, 4]])"
       ]
      }
     ],
     "prompt_number": 20
    },
    {
     "cell_type": "code",
     "collapsed": false,
     "input": [
      "a.T.T"
     ],
     "language": "python",
     "metadata": {},
     "outputs": [
      {
       "metadata": {},
       "output_type": "pyout",
       "prompt_number": 21,
       "text": [
        "array([[1],\n",
        "       [4]])"
       ]
      }
     ],
     "prompt_number": 21
    },
    {
     "cell_type": "heading",
     "level": 1,
     "metadata": {},
     "source": [
      "Matrices"
     ]
    },
    {
     "cell_type": "markdown",
     "metadata": {},
     "source": [
      "- an $m \\times n$ matrix $A$ consists of m-rows and n-columns.\n",
      "- the first subscript of an element $a_{ij}$ represents its row position, the second subscript its column position, respectively.\n",
      "\n",
      "\\begin{equation} A = \\begin{bmatrix}\n",
      "a_{11} & \\cdots & a_{1n} \\\\\n",
      "\\vdots \\\\\n",
      "a_{m1} & \\cdots & a_{mn} \\\\\n",
      "\\end{bmatrix}\\\\\n",
      "\\text{for } i = 1, \\dots, m \\\\\n",
      "j = 1, \\dots, n\n",
      "\\end{equation} "
     ]
    },
    {
     "cell_type": "markdown",
     "metadata": {},
     "source": [
      "- we can summarize the matrix by summarizing the column cells as column vectors $a_1, \\dots, a_n$\n",
      "\n",
      "\\begin{equation} A = \\begin{bmatrix}\n",
      "a_{1} & \\cdots & a_{n} \n",
      "\\end{bmatrix}\\\\\n",
      "\\end{equation} \n",
      "    \n",
      "    "
     ]
    },
    {
     "cell_type": "markdown",
     "metadata": {},
     "source": [
      "- similarly, we can summarize the matrix by using row vectors $a_1, \\dots, a_m$\n",
      "\n",
      "\\begin{equation} A = \\begin{bmatrix}\n",
      "a_{1}^T \\\\\n",
      "\\cdots \\\\\n",
      "a_{m}^T \n",
      "\\end{bmatrix}\\\\\n",
      "\\end{equation} \n",
      "    "
     ]
    },
    {
     "cell_type": "markdown",
     "metadata": {},
     "source": [
      "- typically, a data table represents samples as rows and measurements as columns"
     ]
    },
    {
     "cell_type": "heading",
     "level": 4,
     "metadata": {},
     "source": [
      "Iris dataset example"
     ]
    },
    {
     "cell_type": "code",
     "collapsed": false,
     "input": [
      "import pandas as pd\n",
      "\n",
      "df = pd.io.parsers.read_csv(\n",
      "    filepath_or_buffer='https://archive.ics.uci.edu/ml/machine-learning-databases/iris/iris.data', \n",
      "    header=None, \n",
      "    sep=',', \n",
      "    )\n",
      "df.columns = ['sepal length in cm', \n",
      "              'sepal width in cm', \n",
      "              'petal length in cm', \n",
      "              'petal width in cm',\n",
      "              'class label']\n",
      "df.dropna(how=\"all\", inplace=True) # to drop the empty line at file-end\n",
      "\n",
      "df.tail()"
     ],
     "language": "python",
     "metadata": {},
     "outputs": [
      {
       "output_type": "stream",
       "stream": "stderr",
       "text": [
        "/Users/sebastian/miniconda3/envs/py34/lib/python3.4/site-packages/pandas/io/excel.py:626: UserWarning: Installed openpyxl is not supported at this time. Use >=1.6.1 and <2.0.0.\n",
        "  .format(openpyxl_compat.start_ver, openpyxl_compat.stop_ver))\n"
       ]
      },
      {
       "html": [
        "<div style=\"max-height:1000px;max-width:1500px;overflow:auto;\">\n",
        "<table border=\"1\" class=\"dataframe\">\n",
        "  <thead>\n",
        "    <tr style=\"text-align: right;\">\n",
        "      <th></th>\n",
        "      <th>sepal length in cm</th>\n",
        "      <th>sepal width in cm</th>\n",
        "      <th>petal length in cm</th>\n",
        "      <th>petal width in cm</th>\n",
        "      <th>class label</th>\n",
        "    </tr>\n",
        "  </thead>\n",
        "  <tbody>\n",
        "    <tr>\n",
        "      <th>145</th>\n",
        "      <td> 6.7</td>\n",
        "      <td> 3.0</td>\n",
        "      <td> 5.2</td>\n",
        "      <td> 2.3</td>\n",
        "      <td> Iris-virginica</td>\n",
        "    </tr>\n",
        "    <tr>\n",
        "      <th>146</th>\n",
        "      <td> 6.3</td>\n",
        "      <td> 2.5</td>\n",
        "      <td> 5.0</td>\n",
        "      <td> 1.9</td>\n",
        "      <td> Iris-virginica</td>\n",
        "    </tr>\n",
        "    <tr>\n",
        "      <th>147</th>\n",
        "      <td> 6.5</td>\n",
        "      <td> 3.0</td>\n",
        "      <td> 5.2</td>\n",
        "      <td> 2.0</td>\n",
        "      <td> Iris-virginica</td>\n",
        "    </tr>\n",
        "    <tr>\n",
        "      <th>148</th>\n",
        "      <td> 6.2</td>\n",
        "      <td> 3.4</td>\n",
        "      <td> 5.4</td>\n",
        "      <td> 2.3</td>\n",
        "      <td> Iris-virginica</td>\n",
        "    </tr>\n",
        "    <tr>\n",
        "      <th>149</th>\n",
        "      <td> 5.9</td>\n",
        "      <td> 3.0</td>\n",
        "      <td> 5.1</td>\n",
        "      <td> 1.8</td>\n",
        "      <td> Iris-virginica</td>\n",
        "    </tr>\n",
        "  </tbody>\n",
        "</table>\n",
        "</div>"
       ],
       "metadata": {},
       "output_type": "pyout",
       "prompt_number": 2,
       "text": [
        "     sepal length in cm  sepal width in cm  petal length in cm  \\\n",
        "145                 6.7                3.0                 5.2   \n",
        "146                 6.3                2.5                 5.0   \n",
        "147                 6.5                3.0                 5.2   \n",
        "148                 6.2                3.4                 5.4   \n",
        "149                 5.9                3.0                 5.1   \n",
        "\n",
        "     petal width in cm     class label  \n",
        "145                2.3  Iris-virginica  \n",
        "146                1.9  Iris-virginica  \n",
        "147                2.0  Iris-virginica  \n",
        "148                2.3  Iris-virginica  \n",
        "149                1.8  Iris-virginica  "
       ]
      }
     ],
     "prompt_number": 2
    },
    {
     "cell_type": "heading",
     "level": 4,
     "metadata": {},
     "source": [
      "NumPy example"
     ]
    },
    {
     "cell_type": "code",
     "collapsed": false,
     "input": [
      "A = np.array([[1,2,3], [4,5,6]])\n",
      "A"
     ],
     "language": "python",
     "metadata": {},
     "outputs": [
      {
       "metadata": {},
       "output_type": "pyout",
       "prompt_number": 22,
       "text": [
        "array([[1, 2, 3],\n",
        "       [4, 5, 6]])"
       ]
      }
     ],
     "prompt_number": 22
    },
    {
     "cell_type": "code",
     "collapsed": false,
     "input": [
      "rows, cols = A.shape\n",
      "print('A is a %s x %s matrix (%s rows, %s columns)' %(rows, cols, rows, cols))"
     ],
     "language": "python",
     "metadata": {},
     "outputs": [
      {
       "output_type": "stream",
       "stream": "stdout",
       "text": [
        "A is a 2 x 3 matrix (2 rows, 3 columns)\n"
       ]
      }
     ],
     "prompt_number": 23
    },
    {
     "cell_type": "heading",
     "level": 3,
     "metadata": {},
     "source": [
      "Transpose"
     ]
    },
    {
     "cell_type": "code",
     "collapsed": false,
     "input": [
      "A.T"
     ],
     "language": "python",
     "metadata": {},
     "outputs": [
      {
       "metadata": {},
       "output_type": "pyout",
       "prompt_number": 24,
       "text": [
        "array([[1, 4],\n",
        "       [2, 5],\n",
        "       [3, 6]])"
       ]
      }
     ],
     "prompt_number": 24
    },
    {
     "cell_type": "heading",
     "level": 3,
     "metadata": {},
     "source": [
      "Matrix Addition"
     ]
    },
    {
     "cell_type": "code",
     "collapsed": false,
     "input": [
      "B = np.array([[3,4,5], [7,8,9]])\n",
      "C = np.array([[9,6,2], [1,3,6]])"
     ],
     "language": "python",
     "metadata": {},
     "outputs": [],
     "prompt_number": 25
    },
    {
     "cell_type": "code",
     "collapsed": false,
     "input": [
      "assert( (A+B).all() == (B+A).all() )               # Commutativity\n",
      "assert( ( (A+B)+C ).all() == ( A+(B+C) ).all() )   # Associativity"
     ],
     "language": "python",
     "metadata": {},
     "outputs": [],
     "prompt_number": 26
    },
    {
     "cell_type": "heading",
     "level": 3,
     "metadata": {},
     "source": [
      "Vector scalar multiplication"
     ]
    },
    {
     "cell_type": "code",
     "collapsed": false,
     "input": [
      "assert( ( (A*2)*3 ).all() == (A*(2*3) ).all() )    # Associativity\n",
      "assert( ( (2+3)*A ).all() == (2*A + 3*A).all() )   # Distributivity I\n",
      "assert( ( (A+B)*2 ).all() == (2*A + 2*B).all() )   # Distributivity II"
     ],
     "language": "python",
     "metadata": {},
     "outputs": [],
     "prompt_number": 27
    },
    {
     "cell_type": "heading",
     "level": 3,
     "metadata": {},
     "source": [
      "Matrix-vector multiplication"
     ]
    },
    {
     "cell_type": "markdown",
     "metadata": {},
     "source": [
      "- \"inner\" dimensions have to match, \n",
      "\n",
      "Assume we have a \n",
      "\n",
      "Matrix A = MxN  \n",
      "Vector v = Nx1 (1-column matrix)\n",
      "\n",
      "We can multiply either\n",
      "\n",
      "A x v\n",
      "\n",
      "or \n",
      "\n",
      "v.T x A.T \n"
     ]
    },
    {
     "cell_type": "code",
     "collapsed": false,
     "input": [
      "v = np.array([2,2,2]).reshape(3,1)"
     ],
     "language": "python",
     "metadata": {},
     "outputs": [],
     "prompt_number": 28
    },
    {
     "cell_type": "code",
     "collapsed": false,
     "input": [
      "print('A dimensions:', A.shape)\n",
      "print('v dimensions:', v.shape)\n",
      "\n",
      "Av = A.dot(v)\n",
      "vA = v.T.dot(A.T)\n",
      "\n",
      "print('\\nA x v =\\n', Av)\n",
      "print('\\nv.T x A.t =', vA)"
     ],
     "language": "python",
     "metadata": {},
     "outputs": [
      {
       "output_type": "stream",
       "stream": "stdout",
       "text": [
        "A dimensions: (2, 3)\n",
        "v dimensions: (3, 1)\n",
        "\n",
        "A x v =\n",
        " [[12]\n",
        " [30]]\n",
        "\n",
        "v.T x A.t = [[12 30]]\n"
       ]
      }
     ],
     "prompt_number": 29
    },
    {
     "cell_type": "heading",
     "level": 3,
     "metadata": {},
     "source": [
      "Matrix-matrix multiplication"
     ]
    },
    {
     "cell_type": "markdown",
     "metadata": {},
     "source": [
      "\n",
      "\n",
      "\\begin{equation}C = AB\\\\\n",
      "\\text{where } A^{m \\times n}, B^{n \\times p}, C^{m \\times p}\\end{equation}"
     ]
    },
    {
     "cell_type": "markdown",
     "metadata": {},
     "source": [
      "\n",
      "\\begin{equation} A = \\begin{bmatrix}\n",
      "a_{11} & \\cdots & a_{1n} \\\\\n",
      "\\vdots \\\\\n",
      "a_{m1} & \\cdots & a_{mn} \\\\\n",
      "\\end{bmatrix}\\\\\n",
      "\\end{equation} \n",
      "\n",
      "\n",
      "\\begin{equation} B = \\begin{bmatrix}\n",
      "b_{11} & \\cdots & b_{1n} \\\\\n",
      "\\vdots \\\\\n",
      "b_{m1} & \\cdots & b_{mn} \\\\\n",
      "\\end{bmatrix}\\\\\n",
      "\\end{equation} \n",
      "\n",
      "\n",
      "\\begin{equation} C = \\begin{bmatrix}\n",
      "c_{11} & \\cdots & c_{1n} \\\\\n",
      "\\vdots \\\\\n",
      "c_{m1} & \\cdots & c_{mn} \\\\\n",
      "\\end{bmatrix}\\\\\n",
      "\\end{equation} "
     ]
    },
    {
     "cell_type": "code",
     "collapsed": false,
     "input": [],
     "language": "python",
     "metadata": {},
     "outputs": []
    },
    {
     "cell_type": "code",
     "collapsed": false,
     "input": [
      "A = np.array([[1,2], [3,4]])\n",
      "B = np.array([[3,4], [5,6]])"
     ],
     "language": "python",
     "metadata": {},
     "outputs": [],
     "prompt_number": 30
    },
    {
     "cell_type": "heading",
     "level": 3,
     "metadata": {},
     "source": [
      "Identity Matrix"
     ]
    },
    {
     "cell_type": "code",
     "collapsed": false,
     "input": [
      "np.eye(3,3)"
     ],
     "language": "python",
     "metadata": {},
     "outputs": [
      {
       "metadata": {},
       "output_type": "pyout",
       "prompt_number": 31,
       "text": [
        "array([[ 1.,  0.,  0.],\n",
        "       [ 0.,  1.,  0.],\n",
        "       [ 0.,  0.,  1.]])"
       ]
      }
     ],
     "prompt_number": 31
    },
    {
     "cell_type": "heading",
     "level": 3,
     "metadata": {},
     "source": [
      "Matrix Inverse"
     ]
    },
    {
     "cell_type": "markdown",
     "metadata": {},
     "source": [
      "- only for square matrices"
     ]
    },
    {
     "cell_type": "code",
     "collapsed": false,
     "input": [
      "A"
     ],
     "language": "python",
     "metadata": {},
     "outputs": [
      {
       "metadata": {},
       "output_type": "pyout",
       "prompt_number": 32,
       "text": [
        "array([[1, 2],\n",
        "       [3, 4]])"
       ]
      }
     ],
     "prompt_number": 32
    },
    {
     "cell_type": "code",
     "collapsed": false,
     "input": [
      "A_inv = np.linalg.inv(A)"
     ],
     "language": "python",
     "metadata": {},
     "outputs": [],
     "prompt_number": 33
    },
    {
     "cell_type": "code",
     "collapsed": false,
     "input": [
      "A.dot(A_inv)"
     ],
     "language": "python",
     "metadata": {},
     "outputs": [
      {
       "metadata": {},
       "output_type": "pyout",
       "prompt_number": 34,
       "text": [
        "array([[  1.00000000e+00,   0.00000000e+00],\n",
        "       [  8.88178420e-16,   1.00000000e+00]])"
       ]
      }
     ],
     "prompt_number": 34
    },
    {
     "cell_type": "heading",
     "level": 2,
     "metadata": {},
     "source": [
      "Linear Transformation"
     ]
    },
    {
     "cell_type": "markdown",
     "metadata": {},
     "source": [
      "- A 4x3 matrix multiplied by a  3x1 vector will yield a transformed 4x1 vector (more dimensions)\n",
      "- A 3x3 matrix (square matrix) multiplied by a  3x1 vector will yield a transformed 3x1 vector (same dimensions)"
     ]
    },
    {
     "cell_type": "heading",
     "level": 3,
     "metadata": {},
     "source": [
      "Scaling Matrix"
     ]
    },
    {
     "cell_type": "markdown",
     "metadata": {},
     "source": [
      "- vector still has same direction, but magnitude (length) changes\n",
      "- vector x scalar is the same as vector x (identity matrix x scalar)"
     ]
    },
    {
     "cell_type": "code",
     "collapsed": false,
     "input": [
      "S = np.eye(2,2) * 2\n",
      "a = np.array([[1], [4]])\n",
      "\n",
      "Sa = S.dot(a)"
     ],
     "language": "python",
     "metadata": {},
     "outputs": [],
     "prompt_number": 35
    },
    {
     "cell_type": "code",
     "collapsed": false,
     "input": [
      "ax = plt.axes()\n",
      "ax.arrow(0, 0, a[0,0], a[1,0], fc='b', ec='b', head_width=0.1, head_length=0.1)\n",
      "ax.arrow(0, 0, Sa[0,0], Sa[1,0], fc='g', ec='g', head_width=0.1, head_length=0.1)\n",
      "plt.xlim([0,3])\n",
      "plt.ylim([0,10])\n",
      "plt.grid()\n",
      "plt.show()"
     ],
     "language": "python",
     "metadata": {},
     "outputs": [
      {
       "metadata": {},
       "output_type": "display_data",
       "png": "[encoded data removed]",
       "text": [
        "<matplotlib.figure.Figure at 0x1055a9278>"
       ]
      }
     ],
     "prompt_number": 36
    },
    {
     "cell_type": "heading",
     "level": 3,
     "metadata": {},
     "source": [
      "Rotation Matrix"
     ]
    },
    {
     "cell_type": "markdown",
     "metadata": {},
     "source": [
      "- changes directions but not the magnitude (length)"
     ]
    },
    {
     "cell_type": "code",
     "collapsed": false,
     "input": [
      "from numpy import sin, cos\n",
      "\n",
      "theta = np.radians(90)\n",
      "\n",
      "R = np.array([[cos(theta), -sin(theta)], \n",
      "              [sin(theta),  cos(theta)]])\n",
      "\n",
      "Ra = R.dot(a)"
     ],
     "language": "python",
     "metadata": {},
     "outputs": [],
     "prompt_number": 37
    },
    {
     "cell_type": "code",
     "collapsed": false,
     "input": [
      "ax = plt.axes()\n",
      "ax.arrow(0, 0, a[0,0], a[1,0], fc='b', ec='b', head_width=0.1, head_length=0.1)\n",
      "ax.arrow(0, 0, Ra[0,0], Ra[1,0], fc='g', ec='g', head_width=0.1, head_length=0.1)\n",
      "plt.xlim([-5,3])\n",
      "plt.ylim([-1,5])\n",
      "plt.grid()\n",
      "plt.show()"
     ],
     "language": "python",
     "metadata": {},
     "outputs": [
      {
       "metadata": {},
       "output_type": "display_data",
       "png": "[encoded data removed]",
       "text": [
        "<matplotlib.figure.Figure at 0x1055724e0>"
       ]
      }
     ],
     "prompt_number": 38
    },
    {
     "cell_type": "heading",
     "level": 3,
     "metadata": {},
     "source": [
      "Projection matrix"
     ]
    },
    {
     "cell_type": "markdown",
     "metadata": {},
     "source": [
      "- simple projection matrix to reduce dimensions"
     ]
    },
    {
     "cell_type": "code",
     "collapsed": false,
     "input": [
      "a = np.array([[1],[2],[3]])\n",
      "P = np.eye(2,3)\n",
      "\n",
      "a"
     ],
     "language": "python",
     "metadata": {},
     "outputs": [
      {
       "metadata": {},
       "output_type": "pyout",
       "prompt_number": 39,
       "text": [
        "array([[1],\n",
        "       [2],\n",
        "       [3]])"
       ]
      }
     ],
     "prompt_number": 39
    },
    {
     "cell_type": "code",
     "collapsed": false,
     "input": [
      "P"
     ],
     "language": "python",
     "metadata": {},
     "outputs": [
      {
       "metadata": {},
       "output_type": "pyout",
       "prompt_number": 40,
       "text": [
        "array([[ 1.,  0.,  0.],\n",
        "       [ 0.,  1.,  0.]])"
       ]
      }
     ],
     "prompt_number": 40
    },
    {
     "cell_type": "code",
     "collapsed": false,
     "input": [
      "P.dot(a)"
     ],
     "language": "python",
     "metadata": {},
     "outputs": [
      {
       "metadata": {},
       "output_type": "pyout",
       "prompt_number": 41,
       "text": [
        "array([[ 1.],\n",
        "       [ 2.]])"
       ]
      }
     ],
     "prompt_number": 41
    },
    {
     "cell_type": "heading",
     "level": 2,
     "metadata": {},
     "source": [
      "Eigenvectors and Eigenvalues"
     ]
    },
    {
     "cell_type": "markdown",
     "metadata": {},
     "source": [
      "\\begin{equation} \\pmb A \\cdot \\pmb v =  \\lambda  \\cdot \\pmb A \\end{equation}\n",
      "\n",
      "where \n",
      "\n",
      "- $\\pmb A$ = a matrix  \n",
      "- $\\pmb v$ = an eigenvector of matrix  $\\pmb A$\n",
      "- $\\pmb \\lambda$ = a corresponding eigenvalue"
     ]
    },
    {
     "cell_type": "markdown",
     "metadata": {},
     "source": [
      "- eigenvector -> direction\n",
      "- eigenvector -> magnitude (scaling factor)"
     ]
    },
    {
     "cell_type": "code",
     "collapsed": false,
     "input": [
      "A = np.array([[1, 3], [3, 1]])\n",
      "\n",
      "eigvals, eigvecs = np.linalg.eig(A)"
     ],
     "language": "python",
     "metadata": {},
     "outputs": [],
     "prompt_number": 42
    },
    {
     "cell_type": "code",
     "collapsed": false,
     "input": [
      "eigvecs"
     ],
     "language": "python",
     "metadata": {},
     "outputs": [
      {
       "metadata": {},
       "output_type": "pyout",
       "prompt_number": 43,
       "text": [
        "array([[ 0.70710678, -0.70710678],\n",
        "       [ 0.70710678,  0.70710678]])"
       ]
      }
     ],
     "prompt_number": 43
    },
    {
     "cell_type": "code",
     "collapsed": false,
     "input": [
      "eigvals"
     ],
     "language": "python",
     "metadata": {},
     "outputs": [
      {
       "metadata": {},
       "output_type": "pyout",
       "prompt_number": 44,
       "text": [
        "array([ 4., -2.])"
       ]
      }
     ],
     "prompt_number": 44
    },
    {
     "cell_type": "code",
     "collapsed": false,
     "input": [
      "A.dot(eigvecs[:,0])"
     ],
     "language": "python",
     "metadata": {},
     "outputs": [
      {
       "metadata": {},
       "output_type": "pyout",
       "prompt_number": 45,
       "text": [
        "array([ 2.82842712,  2.82842712])"
       ]
      }
     ],
     "prompt_number": 45
    },
    {
     "cell_type": "code",
     "collapsed": false,
     "input": [
      "eigvals[0] * eigvecs[:,0]"
     ],
     "language": "python",
     "metadata": {},
     "outputs": [
      {
       "metadata": {},
       "output_type": "pyout",
       "prompt_number": 46,
       "text": [
        "array([ 2.82842712,  2.82842712])"
       ]
      }
     ],
     "prompt_number": 46
    },
    {
     "cell_type": "heading",
     "level": 3,
     "metadata": {},
     "source": [
      "Singular Value Decomposition"
     ]
    },
    {
     "cell_type": "markdown",
     "metadata": {},
     "source": [
      "First, let us consider the case of eigenvalue decomposition"
     ]
    },
    {
     "cell_type": "markdown",
     "metadata": {},
     "source": [
      "\\begin{equation} \\pmb A \\cdot \\pmb V = \\pmb \\lambda  \\cdot \\pmb A \\end{equation}\n",
      "\n",
      "where \n",
      "\n",
      "- $\\pmb A$ = a matrix  \n",
      "- $\\pmb V$ = eigenvectors ($\\pmb v_1, \\pmb v_2, ..., \\pmb v_n$) of matrix  $\\pmb A$\n",
      "- $\\pmb \\lambda$ = corresponding eigenvalues ($ \\lambda_1,  \\lambda_2, ..., \\lambda_n$)"
     ]
    },
    {
     "cell_type": "markdown",
     "metadata": {},
     "source": [
      "The eigenvalue composition is then defined as"
     ]
    },
    {
     "cell_type": "markdown",
     "metadata": {},
     "source": [
      "$\\pmb A = \\pmb V \\pmb \\Lambda \\pmb V^{-1}$"
     ]
    },
    {
     "cell_type": "code",
     "collapsed": false,
     "input": [
      "lam = np.eye(2,2)\n",
      "lam[0,0] = 4\n",
      "lam[1,1] = -2"
     ],
     "language": "python",
     "metadata": {},
     "outputs": [],
     "prompt_number": 47
    },
    {
     "cell_type": "code",
     "collapsed": false,
     "input": [
      "A"
     ],
     "language": "python",
     "metadata": {},
     "outputs": [
      {
       "metadata": {},
       "output_type": "pyout",
       "prompt_number": 49,
       "text": [
        "array([[1, 3],\n",
        "       [3, 1]])"
       ]
      }
     ],
     "prompt_number": 49
    },
    {
     "cell_type": "code",
     "collapsed": false,
     "input": [
      "eigvecs.dot(lam).dot(np.linalg.inv(eigvecs))"
     ],
     "language": "python",
     "metadata": {},
     "outputs": [
      {
       "metadata": {},
       "output_type": "pyout",
       "prompt_number": 48,
       "text": [
        "array([[ 1.,  3.],\n",
        "       [ 3.,  1.]])"
       ]
      }
     ],
     "prompt_number": 48
    },
    {
     "cell_type": "markdown",
     "metadata": {},
     "source": [
      "In general"
     ]
    },
    {
     "cell_type": "code",
     "collapsed": false,
     "input": [],
     "language": "python",
     "metadata": {},
     "outputs": [],
     "prompt_number": 48
    }
   ],
   "metadata": {}
  }
 ]
}