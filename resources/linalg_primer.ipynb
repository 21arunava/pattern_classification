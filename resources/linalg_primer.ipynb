{
 "metadata": {
  "name": "",
  "signature": "sha256:dd95dc7b5702c7b4c448ba214320a5155bead8e4c1a250a9054790c7798edc45"
 },
 "nbformat": 3,
 "nbformat_minor": 0,
 "worksheets": [
  {
   "cells": [
    {
     "cell_type": "heading",
     "level": 1,
     "metadata": {},
     "source": [
      "Linear Algebra Primer"
     ]
    },
    {
     "cell_type": "heading",
     "level": 1,
     "metadata": {},
     "source": [
      "Vectors"
     ]
    },
    {
     "cell_type": "code",
     "collapsed": false,
     "input": [
      "%matplotlib inline\n",
      "import numpy as np\n",
      "import matplotlib.pyplot as plt"
     ],
     "language": "python",
     "metadata": {},
     "outputs": [],
     "prompt_number": 4
    },
    {
     "cell_type": "code",
     "collapsed": false,
     "input": [
      "a = np.array([1,4])\n",
      "b = np.array([2,3])"
     ],
     "language": "python",
     "metadata": {},
     "outputs": [],
     "prompt_number": 36
    },
    {
     "cell_type": "code",
     "collapsed": false,
     "input": [
      "ax = plt.axes()\n",
      "ax.arrow(0, 0, a[0], a[1], fc='b', ec='b', head_width=0.1, head_length=0.1)\n",
      "ax.arrow(0, 0, b[0], b[1], fc='g', ec='g', head_width=0.1, head_length=0.1)\n",
      "plt.xlim([0,3])\n",
      "plt.ylim([0,5])\n",
      "plt.grid()\n",
      "plt.show()"
     ],
     "language": "python",
     "metadata": {},
     "outputs": [
      {
       "metadata": {},
       "output_type": "display_data",
       "png": "[encoded data removed]",
       "text": [
        "<matplotlib.figure.Figure at 0x105585630>"
       ]
      }
     ],
     "prompt_number": 29
    },
    {
     "cell_type": "heading",
     "level": 3,
     "metadata": {},
     "source": [
      "Vector addition"
     ]
    },
    {
     "cell_type": "code",
     "collapsed": false,
     "input": [
      "c1 = a + b\n",
      "c2 = b + a\n",
      "\n",
      "print('c1=%s, c2=%s' %(c1, c2))\n",
      "\n",
      "print('\\na + (-a) = %s' %(a+(-a)))"
     ],
     "language": "python",
     "metadata": {},
     "outputs": [
      {
       "output_type": "stream",
       "stream": "stdout",
       "text": [
        "c1=[3 7], c2=[3 7]\n",
        "\n",
        "a + (-a) = [0 0]\n"
       ]
      }
     ],
     "prompt_number": 7
    },
    {
     "cell_type": "code",
     "collapsed": false,
     "input": [
      "c = a + b\n",
      "\n",
      "ax = plt.axes()\n",
      "ax.arrow(0, 0, a[0], a[1], fc='b', ec='b', head_width=0.1, head_length=0.1)\n",
      "ax.arrow(a[0], a[1], b[0], b[1], fc='g', ec='g', head_width=0.1, head_length=0.1)\n",
      "ax.arrow(0, 0, c[0], c[1], fc='r', ec='r', head_width=0.1, head_length=0.1)\n",
      "plt.xlim([0,4])\n",
      "plt.ylim([0,9])\n",
      "plt.grid()\n",
      "plt.show()"
     ],
     "language": "python",
     "metadata": {},
     "outputs": [
      {
       "metadata": {},
       "output_type": "display_data",
       "png": "[encoded data removed]",
       "text": [
        "<matplotlib.figure.Figure at 0x1054ad710>"
       ]
      }
     ],
     "prompt_number": 8
    },
    {
     "cell_type": "code",
     "collapsed": false,
     "input": [
      "assert( (a+b).all() == (b+a).all() )               # Commutativity\n",
      "assert( ( (a+b)+c ).all() == ( a+(b+c) ).all() )   # Associativity"
     ],
     "language": "python",
     "metadata": {},
     "outputs": [],
     "prompt_number": 51
    },
    {
     "cell_type": "heading",
     "level": 3,
     "metadata": {},
     "source": [
      "Vector scalar multiplication"
     ]
    },
    {
     "cell_type": "code",
     "collapsed": false,
     "input": [
      "c1 = a * 2\n",
      "c2 = 2 * a\n",
      "\n",
      "print('c1=%s, c2=%s' %(c1, c2))"
     ],
     "language": "python",
     "metadata": {},
     "outputs": [
      {
       "output_type": "stream",
       "stream": "stdout",
       "text": [
        "c1=[2 8], c2=[2 8]\n"
       ]
      }
     ],
     "prompt_number": 9
    },
    {
     "cell_type": "code",
     "collapsed": false,
     "input": [
      "ax = plt.axes()\n",
      "ax.arrow(0, 0, a[0], a[1], fc='b', ec='b', head_width=0.1, head_length=0.1)\n",
      "ax.arrow(0, 0, c1[0], c1[1], fc='g', ec='g', head_width=0.1, head_length=0.1)\n",
      "\n",
      "plt.xlim([0,3])\n",
      "plt.ylim([0,9])\n",
      "plt.grid()\n",
      "plt.show()"
     ],
     "language": "python",
     "metadata": {},
     "outputs": [
      {
       "metadata": {},
       "output_type": "display_data",
       "png": "[encoded data removed]",
       "text": [
        "<matplotlib.figure.Figure at 0x105455550>"
       ]
      }
     ],
     "prompt_number": 10
    },
    {
     "cell_type": "code",
     "collapsed": false,
     "input": [
      "assert( ( (a*2)*3 ).all() == (a*(2*3) ).all() )    # Associativity\n",
      "assert( ( (2+3)*a ).all() == (2*a + 3*a).all() )   # Distributivity I\n",
      "assert( ( (a+b)*2 ).all() == (2*a + 2*b).all() )   # Distributivity II"
     ],
     "language": "python",
     "metadata": {},
     "outputs": [],
     "prompt_number": 54
    },
    {
     "cell_type": "heading",
     "level": 3,
     "metadata": {},
     "source": [
      "Dot product"
     ]
    },
    {
     "cell_type": "markdown",
     "metadata": {},
     "source": [
      "\\begin{equation} \\pmb a \\cdot \\pmb b = \\sum_{i=1}^{n} a_i b_i \\end{equation}"
     ]
    },
    {
     "cell_type": "markdown",
     "metadata": {},
     "source": [
      "\\begin{equation} \\pmb a \\cdot \\pmb b = a_1*b_1 + a_2*b_2 \\end{equation}"
     ]
    },
    {
     "cell_type": "code",
     "collapsed": false,
     "input": [
      "print('a . b = %s' %(a.dot(b)))"
     ],
     "language": "python",
     "metadata": {},
     "outputs": [
      {
       "output_type": "stream",
       "stream": "stdout",
       "text": [
        "a . b = 14\n"
       ]
      }
     ],
     "prompt_number": 11
    },
    {
     "cell_type": "markdown",
     "metadata": {},
     "source": [
      "Compute length of a vector $\\sqrt{\\pmb a \\cdot \\pmb a} = ||\\pmb a||$"
     ]
    },
    {
     "cell_type": "code",
     "collapsed": false,
     "input": [
      "from numpy.linalg import norm\n",
      "\n",
      "len_a = np.sqrt(a.dot(a))\n",
      "assert(norm(a) == len_a)\n",
      "\n",
      "print('len(a) = %s' %(len_a))"
     ],
     "language": "python",
     "metadata": {},
     "outputs": [
      {
       "output_type": "stream",
       "stream": "stdout",
       "text": [
        "len(a) = 4.12310562562\n"
       ]
      }
     ],
     "prompt_number": 12
    },
    {
     "cell_type": "markdown",
     "metadata": {},
     "source": [
      "\\begin{equation} \\pmb a \\cdot \\pmb b = ||\\pmb a|| \\; ||\\pmb b|| \\; cos(\\sigma) \\\\\n",
      "\\Rightarrow cos(\\sigma) = \\frac{\\pmb a \\cdot \\pmb b}{||\\pmb a|| \\; ||\\pmb b||} \n",
      "\\end{equation}"
     ]
    },
    {
     "cell_type": "code",
     "collapsed": false,
     "input": [
      "cos_theta = (a.dot(b) / (norm(a)*norm(b)))\n",
      "print('cos(theta) = %s' %cos_theta)\n",
      "print('theta = %s (in degrees)' %np.degrees(np.arccos(cos_theta)))"
     ],
     "language": "python",
     "metadata": {},
     "outputs": [
      {
       "output_type": "stream",
       "stream": "stdout",
       "text": [
        "cos(theta) = 0.941741911595\n",
        "theta = 19.6538240581 (in degrees)\n"
       ]
      }
     ],
     "prompt_number": 13
    },
    {
     "cell_type": "heading",
     "level": 3,
     "metadata": {},
     "source": [
      "Normalizing a vector to unit length"
     ]
    },
    {
     "cell_type": "markdown",
     "metadata": {},
     "source": [
      "\\begin{equation} \\frac{\\pmb a}{||a||} \\end{equation}"
     ]
    },
    {
     "cell_type": "code",
     "collapsed": false,
     "input": [
      "a_n = a/norm(a)\n",
      "\n",
      "print('normalized vector\\na\\' = %s' % a_n)\n",
      "print('||a\\'|| = %s' %norm(a_n))"
     ],
     "language": "python",
     "metadata": {},
     "outputs": [
      {
       "output_type": "stream",
       "stream": "stdout",
       "text": [
        "normalized vector\n",
        "a' = [ 0.24253563  0.9701425 ]\n",
        "||a'|| = 1.0\n"
       ]
      }
     ],
     "prompt_number": 14
    },
    {
     "cell_type": "heading",
     "level": 3,
     "metadata": {},
     "source": [
      "Cosine Similarity"
     ]
    },
    {
     "cell_type": "markdown",
     "metadata": {},
     "source": [
      "\\begin{matrix} cos(\\pmb a, \\pmb b) = \\frac{\\pmb a}{||\\pmb a||} \\cdot \\frac{\\pmb b}{||\\pmb a||}\\end{matrix}"
     ]
    },
    {
     "cell_type": "code",
     "collapsed": false,
     "input": [
      "cos_sim = (a / norm(a)).dot(b / norm(a))\n",
      "print('cosine similarity betw. a and b: %s' %cos_sim)"
     ],
     "language": "python",
     "metadata": {},
     "outputs": [
      {
       "output_type": "stream",
       "stream": "stdout",
       "text": [
        "cosine similarity betw. a and b: 0.823529411765\n"
       ]
      }
     ],
     "prompt_number": 15
    },
    {
     "cell_type": "heading",
     "level": 3,
     "metadata": {},
     "source": [
      "Euclidean Distance"
     ]
    },
    {
     "cell_type": "markdown",
     "metadata": {},
     "source": [
      "\\begin{matrix} eucliddist(\\pmb a, \\pmb b) = \\sqrt{\\sum_{i=1}^n (a_i b_i)^2}= \\sqrt{(\\pmb a - \\pmb b)\\cdot(\\pmb a - \\pmb b)}\\end{matrix}"
     ]
    },
    {
     "cell_type": "code",
     "collapsed": false,
     "input": [
      "eucl_dist = np.sqrt((a-b).dot(a-b))\n",
      "print('euclidean dist betw. a and b: %s' %eucl_dist)"
     ],
     "language": "python",
     "metadata": {},
     "outputs": [
      {
       "output_type": "stream",
       "stream": "stdout",
       "text": [
        "euclidean dist betw. a and b: 1.41421356237\n"
       ]
      }
     ],
     "prompt_number": 16
    },
    {
     "cell_type": "heading",
     "level": 3,
     "metadata": {},
     "source": [
      "Transpose"
     ]
    },
    {
     "cell_type": "markdown",
     "metadata": {},
     "source": [
      "- 1D to 2D array first"
     ]
    },
    {
     "cell_type": "code",
     "collapsed": false,
     "input": [
      "a = np.array([1,4])\n",
      "a.shape"
     ],
     "language": "python",
     "metadata": {},
     "outputs": [
      {
       "metadata": {},
       "output_type": "pyout",
       "prompt_number": 42,
       "text": [
        "(2,)"
       ]
      }
     ],
     "prompt_number": 42
    },
    {
     "cell_type": "code",
     "collapsed": false,
     "input": [
      "a = np.array([[1],[4]])\n",
      "a.shape"
     ],
     "language": "python",
     "metadata": {},
     "outputs": [
      {
       "metadata": {},
       "output_type": "pyout",
       "prompt_number": 43,
       "text": [
        "(2, 1)"
       ]
      }
     ],
     "prompt_number": 43
    },
    {
     "cell_type": "code",
     "collapsed": false,
     "input": [
      "a"
     ],
     "language": "python",
     "metadata": {},
     "outputs": [
      {
       "metadata": {},
       "output_type": "pyout",
       "prompt_number": 44,
       "text": [
        "array([[1],\n",
        "       [4]])"
       ]
      }
     ],
     "prompt_number": 44
    },
    {
     "cell_type": "code",
     "collapsed": false,
     "input": [
      "np.array([1,4]).reshape(2,1)"
     ],
     "language": "python",
     "metadata": {},
     "outputs": [
      {
       "metadata": {},
       "output_type": "pyout",
       "prompt_number": 47,
       "text": [
        "array([[1],\n",
        "       [4]])"
       ]
      }
     ],
     "prompt_number": 47
    },
    {
     "cell_type": "code",
     "collapsed": false,
     "input": [
      "a.T"
     ],
     "language": "python",
     "metadata": {},
     "outputs": [
      {
       "metadata": {},
       "output_type": "pyout",
       "prompt_number": 45,
       "text": [
        "array([[1, 4]])"
       ]
      }
     ],
     "prompt_number": 45
    },
    {
     "cell_type": "code",
     "collapsed": false,
     "input": [
      "a.T.T"
     ],
     "language": "python",
     "metadata": {},
     "outputs": [
      {
       "metadata": {},
       "output_type": "pyout",
       "prompt_number": 46,
       "text": [
        "array([[1],\n",
        "       [4]])"
       ]
      }
     ],
     "prompt_number": 46
    },
    {
     "cell_type": "heading",
     "level": 1,
     "metadata": {},
     "source": [
      "Matrices"
     ]
    },
    {
     "cell_type": "code",
     "collapsed": false,
     "input": [
      "A = np.array([[1,2,3], [4,5,6]])\n",
      "A"
     ],
     "language": "python",
     "metadata": {},
     "outputs": [
      {
       "metadata": {},
       "output_type": "pyout",
       "prompt_number": 17,
       "text": [
        "array([[1, 2, 3],\n",
        "       [4, 5, 6]])"
       ]
      }
     ],
     "prompt_number": 17
    },
    {
     "cell_type": "code",
     "collapsed": false,
     "input": [
      "rows, cols = A.shape\n",
      "print('A is a %s x %s matrix (%s rows, %s columns)' %(rows, cols, rows, cols))"
     ],
     "language": "python",
     "metadata": {},
     "outputs": [
      {
       "output_type": "stream",
       "stream": "stdout",
       "text": [
        "A is a 2 x 3 matrix (2 rows, 3 columns)\n"
       ]
      }
     ],
     "prompt_number": 23
    },
    {
     "cell_type": "heading",
     "level": 3,
     "metadata": {},
     "source": [
      "Transpose"
     ]
    },
    {
     "cell_type": "code",
     "collapsed": false,
     "input": [
      "A.T"
     ],
     "language": "python",
     "metadata": {},
     "outputs": [
      {
       "metadata": {},
       "output_type": "pyout",
       "prompt_number": 48,
       "text": [
        "array([[1, 4],\n",
        "       [2, 5],\n",
        "       [3, 6]])"
       ]
      }
     ],
     "prompt_number": 48
    },
    {
     "cell_type": "heading",
     "level": 3,
     "metadata": {},
     "source": [
      "Matrix Addition"
     ]
    },
    {
     "cell_type": "code",
     "collapsed": false,
     "input": [
      "B = np.array([[3,4,5], [7,8,9]])\n",
      "C = np.array([[9,6,2], [1,3,6]])"
     ],
     "language": "python",
     "metadata": {},
     "outputs": [],
     "prompt_number": 56
    },
    {
     "cell_type": "code",
     "collapsed": false,
     "input": [
      "assert( (A+B).all() == (B+A).all() )               # Commutativity\n",
      "assert( ( (A+B)+C ).all() == ( A+(B+C) ).all() )   # Associativity"
     ],
     "language": "python",
     "metadata": {},
     "outputs": [],
     "prompt_number": 57
    },
    {
     "cell_type": "heading",
     "level": 3,
     "metadata": {},
     "source": [
      "Vector scalar multiplication"
     ]
    },
    {
     "cell_type": "code",
     "collapsed": false,
     "input": [
      "assert( ( (A*2)*3 ).all() == (A*(2*3) ).all() )    # Associativity\n",
      "assert( ( (2+3)*A ).all() == (2*A + 3*A).all() )   # Distributivity I\n",
      "assert( ( (A+B)*2 ).all() == (2*A + 2*B).all() )   # Distributivity II"
     ],
     "language": "python",
     "metadata": {},
     "outputs": [],
     "prompt_number": 58
    },
    {
     "cell_type": "heading",
     "level": 3,
     "metadata": {},
     "source": [
      "Matrix-vector multiplication"
     ]
    },
    {
     "cell_type": "markdown",
     "metadata": {},
     "source": [
      "- \"inner\" dimensions have to match, \n",
      "\n",
      "Assume we have a \n",
      "\n",
      "Matrix A = MxN  \n",
      "Vector v = Nx1 (1-column matrix)\n",
      "\n",
      "We can multiply either\n",
      "\n",
      "A x v\n",
      "\n",
      "or \n",
      "\n",
      "v.T x A.T \n"
     ]
    },
    {
     "cell_type": "code",
     "collapsed": false,
     "input": [
      "v = np.array([2,2,2]).reshape(3,1)"
     ],
     "language": "python",
     "metadata": {},
     "outputs": [],
     "prompt_number": 59
    },
    {
     "cell_type": "code",
     "collapsed": false,
     "input": [
      "print('A dimensions:', A.shape)\n",
      "print('v dimensions:', v.shape)\n",
      "\n",
      "Av = A.dot(v)\n",
      "vA = v.T.dot(A.T)\n",
      "\n",
      "print('\\nA x v =\\n', Av)\n",
      "print('\\nv.T x A.t =', vA)"
     ],
     "language": "python",
     "metadata": {},
     "outputs": [
      {
       "output_type": "stream",
       "stream": "stdout",
       "text": [
        "A dimensions: (2, 3)\n",
        "v dimensions: (3, 1)\n",
        "\n",
        "A x v =\n",
        " [[12]\n",
        " [30]]\n",
        "\n",
        "v.T x A.t = [[12 30]]\n"
       ]
      }
     ],
     "prompt_number": 64
    },
    {
     "cell_type": "heading",
     "level": 3,
     "metadata": {},
     "source": [
      "Matrix-matrix multiplication"
     ]
    },
    {
     "cell_type": "code",
     "collapsed": false,
     "input": [
      "A = np.array([[1,2], [3,4]])\n",
      "B = np.array([[3,4], [5,6]])"
     ],
     "language": "python",
     "metadata": {},
     "outputs": [],
     "prompt_number": 67
    },
    {
     "cell_type": "heading",
     "level": 3,
     "metadata": {},
     "source": [
      "Identity Matrix"
     ]
    },
    {
     "cell_type": "code",
     "collapsed": false,
     "input": [
      "np.eye(3,3)"
     ],
     "language": "python",
     "metadata": {},
     "outputs": [
      {
       "metadata": {},
       "output_type": "pyout",
       "prompt_number": 68,
       "text": [
        "array([[ 1.,  0.,  0.],\n",
        "       [ 0.,  1.,  0.],\n",
        "       [ 0.,  0.,  1.]])"
       ]
      }
     ],
     "prompt_number": 68
    },
    {
     "cell_type": "heading",
     "level": 3,
     "metadata": {},
     "source": [
      "Matrix Inverse"
     ]
    },
    {
     "cell_type": "markdown",
     "metadata": {},
     "source": [
      "- only for square matrices"
     ]
    },
    {
     "cell_type": "code",
     "collapsed": false,
     "input": [
      "A"
     ],
     "language": "python",
     "metadata": {},
     "outputs": [
      {
       "metadata": {},
       "output_type": "pyout",
       "prompt_number": 121,
       "text": [
        "array([[1, 2],\n",
        "       [3, 4]])"
       ]
      }
     ],
     "prompt_number": 121
    },
    {
     "cell_type": "code",
     "collapsed": false,
     "input": [
      "A_inv = np.linalg.inv(A)"
     ],
     "language": "python",
     "metadata": {},
     "outputs": [],
     "prompt_number": 122
    },
    {
     "cell_type": "code",
     "collapsed": false,
     "input": [
      "A.dot(A_inv)"
     ],
     "language": "python",
     "metadata": {},
     "outputs": [
      {
       "metadata": {},
       "output_type": "pyout",
       "prompt_number": 123,
       "text": [
        "array([[  1.00000000e+00,   0.00000000e+00],\n",
        "       [  8.88178420e-16,   1.00000000e+00]])"
       ]
      }
     ],
     "prompt_number": 123
    },
    {
     "cell_type": "heading",
     "level": 2,
     "metadata": {},
     "source": [
      "Linear Transformation"
     ]
    },
    {
     "cell_type": "markdown",
     "metadata": {},
     "source": [
      "- A 4x3 matrix multiplied by a  3x1 vector will yield a transformed 4x1 vector (more dimensions)\n",
      "- A 3x3 matrix (square matrix) multiplied by a  3x1 vector will yield a transformed 3x1 vector (same dimensions)"
     ]
    },
    {
     "cell_type": "heading",
     "level": 3,
     "metadata": {},
     "source": [
      "Scaling Matrix"
     ]
    },
    {
     "cell_type": "markdown",
     "metadata": {},
     "source": [
      "- vector still has same direction, but magnitude (length) changes\n",
      "- vector x scalar is the same as vector x (identity matrix x scalar)"
     ]
    },
    {
     "cell_type": "code",
     "collapsed": false,
     "input": [
      "S = np.eye(2,2) * 2\n",
      "a = np.array([[1], [4]])\n",
      "\n",
      "Sa = S.dot(a)"
     ],
     "language": "python",
     "metadata": {},
     "outputs": [],
     "prompt_number": 81
    },
    {
     "cell_type": "code",
     "collapsed": false,
     "input": [
      "ax = plt.axes()\n",
      "ax.arrow(0, 0, a[0,0], a[1,0], fc='b', ec='b', head_width=0.1, head_length=0.1)\n",
      "ax.arrow(0, 0, Sa[0,0], Sa[1,0], fc='g', ec='g', head_width=0.1, head_length=0.1)\n",
      "plt.xlim([0,3])\n",
      "plt.ylim([0,10])\n",
      "plt.grid()\n",
      "plt.show()"
     ],
     "language": "python",
     "metadata": {},
     "outputs": [
      {
       "metadata": {},
       "output_type": "display_data",
       "png": "[encoded data removed]",
       "text": [
        "<matplotlib.figure.Figure at 0x105455f60>"
       ]
      }
     ],
     "prompt_number": 93
    },
    {
     "cell_type": "heading",
     "level": 3,
     "metadata": {},
     "source": [
      "Rotation Matrix"
     ]
    },
    {
     "cell_type": "markdown",
     "metadata": {},
     "source": [
      "- changes directions but not the magnitude (length)"
     ]
    },
    {
     "cell_type": "code",
     "collapsed": false,
     "input": [
      "from numpy import sin, cos\n",
      "\n",
      "theta = np.radians(90)\n",
      "\n",
      "R = np.array([[cos(theta), -sin(theta)], \n",
      "              [sin(theta),  cos(theta)]])\n",
      "\n",
      "Ra = R.dot(a)"
     ],
     "language": "python",
     "metadata": {},
     "outputs": [],
     "prompt_number": 102
    },
    {
     "cell_type": "code",
     "collapsed": false,
     "input": [
      "ax = plt.axes()\n",
      "ax.arrow(0, 0, a[0,0], a[1,0], fc='b', ec='b', head_width=0.1, head_length=0.1)\n",
      "ax.arrow(0, 0, Ra[0,0], Ra[1,0], fc='g', ec='g', head_width=0.1, head_length=0.1)\n",
      "plt.xlim([-5,3])\n",
      "plt.ylim([-1,5])\n",
      "plt.grid()\n",
      "plt.show()"
     ],
     "language": "python",
     "metadata": {},
     "outputs": [
      {
       "metadata": {},
       "output_type": "display_data",
       "png": "[encoded data removed]",
       "text": [
        "<matplotlib.figure.Figure at 0x10526f5f8>"
       ]
      }
     ],
     "prompt_number": 104
    },
    {
     "cell_type": "heading",
     "level": 3,
     "metadata": {},
     "source": [
      "Projection matrix"
     ]
    },
    {
     "cell_type": "markdown",
     "metadata": {},
     "source": [
      "- simple projection matrix to reduce dimensions"
     ]
    },
    {
     "cell_type": "code",
     "collapsed": false,
     "input": [
      "a = np.array([[1],[2],[3]])\n",
      "P = np.eye(2,3)\n",
      "\n",
      "a"
     ],
     "language": "python",
     "metadata": {},
     "outputs": [
      {
       "metadata": {},
       "output_type": "pyout",
       "prompt_number": 113,
       "text": [
        "array([[1],\n",
        "       [2],\n",
        "       [3]])"
       ]
      }
     ],
     "prompt_number": 113
    },
    {
     "cell_type": "code",
     "collapsed": false,
     "input": [
      "P"
     ],
     "language": "python",
     "metadata": {},
     "outputs": [
      {
       "metadata": {},
       "output_type": "pyout",
       "prompt_number": 114,
       "text": [
        "array([[ 1.,  0.,  0.],\n",
        "       [ 0.,  1.,  0.]])"
       ]
      }
     ],
     "prompt_number": 114
    },
    {
     "cell_type": "code",
     "collapsed": false,
     "input": [
      "P.dot(a)"
     ],
     "language": "python",
     "metadata": {},
     "outputs": [
      {
       "metadata": {},
       "output_type": "pyout",
       "prompt_number": 115,
       "text": [
        "array([[ 1.],\n",
        "       [ 2.]])"
       ]
      }
     ],
     "prompt_number": 115
    },
    {
     "cell_type": "heading",
     "level": 2,
     "metadata": {},
     "source": [
      "Eigenvectors and Eigenvalues"
     ]
    },
    {
     "cell_type": "markdown",
     "metadata": {},
     "source": [
      "matrix x eigenvector = eigenvalue x matrix"
     ]
    },
    {
     "cell_type": "markdown",
     "metadata": {},
     "source": [
      "- eigenvector -> direction\n",
      "- eigenvector -> magnitude (scaling factor)"
     ]
    },
    {
     "cell_type": "code",
     "collapsed": false,
     "input": [
      "A = np.array([[1, 3], [3, 1]])\n",
      "\n",
      "eigvals, eigvecs = np.linalg.eig(A)"
     ],
     "language": "python",
     "metadata": {},
     "outputs": [],
     "prompt_number": 161
    },
    {
     "cell_type": "code",
     "collapsed": false,
     "input": [
      "eigvecs"
     ],
     "language": "python",
     "metadata": {},
     "outputs": [
      {
       "metadata": {},
       "output_type": "pyout",
       "prompt_number": 162,
       "text": [
        "array([[ 0.70710678, -0.70710678],\n",
        "       [ 0.70710678,  0.70710678]])"
       ]
      }
     ],
     "prompt_number": 162
    },
    {
     "cell_type": "code",
     "collapsed": false,
     "input": [
      "eigvals"
     ],
     "language": "python",
     "metadata": {},
     "outputs": [
      {
       "metadata": {},
       "output_type": "pyout",
       "prompt_number": 163,
       "text": [
        "array([ 4., -2.])"
       ]
      }
     ],
     "prompt_number": 163
    },
    {
     "cell_type": "code",
     "collapsed": false,
     "input": [
      "A.dot(eigvecs[:,0])"
     ],
     "language": "python",
     "metadata": {},
     "outputs": [
      {
       "metadata": {},
       "output_type": "pyout",
       "prompt_number": 164,
       "text": [
        "array([ 2.82842712,  2.82842712])"
       ]
      }
     ],
     "prompt_number": 164
    },
    {
     "cell_type": "code",
     "collapsed": false,
     "input": [
      "eigvals[0] * eigvecs[:,0]"
     ],
     "language": "python",
     "metadata": {},
     "outputs": [
      {
       "metadata": {},
       "output_type": "pyout",
       "prompt_number": 166,
       "text": [
        "array([ 2.82842712,  2.82842712])"
       ]
      }
     ],
     "prompt_number": 166
    },
    {
     "cell_type": "heading",
     "level": 3,
     "metadata": {},
     "source": [
      "Singular Value Decomposition"
     ]
    },
    {
     "cell_type": "markdown",
     "metadata": {},
     "source": [
      "For eigenvectors and eigenvalues"
     ]
    },
    {
     "cell_type": "markdown",
     "metadata": {},
     "source": [
      "$A = U \\Lambda U^{-1}$"
     ]
    },
    {
     "cell_type": "code",
     "collapsed": false,
     "input": [
      "lam = np.eye(2,2)\n",
      "lam[0,0] = 4\n",
      "lam[1,1] = -2"
     ],
     "language": "python",
     "metadata": {},
     "outputs": [],
     "prompt_number": 167
    },
    {
     "cell_type": "code",
     "collapsed": false,
     "input": [
      "eigvecs.dot(lam).dot(np.linalg.inv(eigvecs))"
     ],
     "language": "python",
     "metadata": {},
     "outputs": [
      {
       "metadata": {},
       "output_type": "pyout",
       "prompt_number": 168,
       "text": [
        "array([[ 1.,  3.],\n",
        "       [ 3.,  1.]])"
       ]
      }
     ],
     "prompt_number": 168
    },
    {
     "cell_type": "markdown",
     "metadata": {},
     "source": [
      "In general"
     ]
    },
    {
     "cell_type": "code",
     "collapsed": false,
     "input": [],
     "language": "python",
     "metadata": {},
     "outputs": []
    }
   ],
   "metadata": {}
  }
 ]
}