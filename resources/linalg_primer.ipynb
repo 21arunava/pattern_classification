{
 "metadata": {
  "name": "",
  "signature": "sha256:4779431c37033b662a47fbfdbd8227dfa657814432cbcb9168210b4f8b14035b"
 },
 "nbformat": 3,
 "nbformat_minor": 0,
 "worksheets": [
  {
   "cells": [
    {
     "cell_type": "heading",
     "level": 1,
     "metadata": {},
     "source": [
      "Linear Algebra Primer"
     ]
    },
    {
     "cell_type": "code",
     "collapsed": false,
     "input": [
      "%load_ext watermark"
     ],
     "language": "python",
     "metadata": {},
     "outputs": [],
     "prompt_number": 1
    },
    {
     "cell_type": "code",
     "collapsed": false,
     "input": [
      "%watermark -v -u -d -p matplotlib,numpy,scipy,pandas"
     ],
     "language": "python",
     "metadata": {},
     "outputs": [
      {
       "output_type": "stream",
       "stream": "stdout",
       "text": [
        "Last updated: 03/09/2014 \n",
        "\n",
        "CPython 3.4.1\n",
        "IPython 2.0.0\n",
        "\n",
        "matplotlib 1.3.1\n",
        "numpy 1.8.2\n",
        "scipy 0.14.0\n",
        "pandas 0.14.0\n"
       ]
      }
     ],
     "prompt_number": 2
    },
    {
     "cell_type": "markdown",
     "metadata": {},
     "source": [
      "<br>\n",
      "<br>"
     ]
    },
    {
     "cell_type": "heading",
     "level": 2,
     "metadata": {},
     "source": [
      "Sections"
     ]
    },
    {
     "cell_type": "markdown",
     "metadata": {},
     "source": [
      "- [Vectors](#Vectors)\n",
      "    - [Transpose](#Transpose)\n",
      "    - [Vector visualization](#Vector-visualization)\n",
      "    - [Vector addition](#Vector-addition)\n",
      "    - [Vector scalar multiplication](#Vector-scalar-multiplication)"
     ]
    },
    {
     "cell_type": "markdown",
     "metadata": {},
     "source": [
      "<br>\n",
      "<br>"
     ]
    },
    {
     "cell_type": "heading",
     "level": 1,
     "metadata": {},
     "source": [
      "Vectors"
     ]
    },
    {
     "cell_type": "markdown",
     "metadata": {},
     "source": [
      "[[back to top](#Sections)]"
     ]
    },
    {
     "cell_type": "markdown",
     "metadata": {},
     "source": [
      "- Typically, a vector $a$ refers to a column vector (an $n \\times 1$-dimensional matrix).\n",
      "\n",
      "\\begin{equation}\n",
      "a = \\begin{bmatrix} \n",
      "a_1 \\\\\n",
      "a_2 \\\\\n",
      "\\cdots \\\\\n",
      "a_n\n",
      "\\end{bmatrix}\\end{equation}"
     ]
    },
    {
     "cell_type": "markdown",
     "metadata": {},
     "source": [
      "- Row vectors are typically written as  $a^T$ (an $1 \\times n$-dimensional matrix).\n",
      "\n",
      "\\begin{equation}\n",
      "a^T = \\begin{bmatrix} \n",
      "a_1 \\;\n",
      "a_2 \\;\n",
      "\\cdots \\; \n",
      "a_n\n",
      "\\end{bmatrix}\\end{equation}\n",
      "\n",
      "- The subscript *T* stands for \"Transpose\"."
     ]
    },
    {
     "cell_type": "markdown",
     "metadata": {},
     "source": [
      "<br>\n",
      "<br>"
     ]
    },
    {
     "cell_type": "heading",
     "level": 3,
     "metadata": {},
     "source": [
      "Transpose"
     ]
    },
    {
     "cell_type": "markdown",
     "metadata": {},
     "source": [
      "[[back to top](#Sections)]"
     ]
    },
    {
     "cell_type": "markdown",
     "metadata": {},
     "source": [
      "- A transpose operation simply swaps rows and columns of a vector or a matrix (i.e., an $n \\times 1$ vector becomes an $1 \\times n$ vector if transposed)."
     ]
    },
    {
     "cell_type": "markdown",
     "metadata": {},
     "source": [
      "<br>\n",
      "<br>"
     ]
    },
    {
     "cell_type": "heading",
     "level": 4,
     "metadata": {},
     "source": [
      "NumPy examples"
     ]
    },
    {
     "cell_type": "markdown",
     "metadata": {},
     "source": [
      "- By default, NumPy's arrays are 1-dimensional."
     ]
    },
    {
     "cell_type": "code",
     "collapsed": false,
     "input": [
      "import numpy as np\n",
      "\n",
      "a = np.array([1,2,3])\n",
      "print(a.shape)"
     ],
     "language": "python",
     "metadata": {},
     "outputs": [
      {
       "output_type": "stream",
       "stream": "stdout",
       "text": [
        "(3,)\n"
       ]
      }
     ],
     "prompt_number": 4
    },
    {
     "cell_type": "markdown",
     "metadata": {},
     "source": [
      "- We can convert an 1D array to a 2D array many different ways, below are just two possibilities:"
     ]
    },
    {
     "cell_type": "markdown",
     "metadata": {},
     "source": [
      "<br>\n",
      "<br>"
     ]
    },
    {
     "cell_type": "markdown",
     "metadata": {},
     "source": [
      "[np.reshape](http://docs.scipy.org/doc/numpy/reference/generated/numpy.reshape.html):"
     ]
    },
    {
     "cell_type": "code",
     "collapsed": false,
     "input": [
      "a1 = a.reshape(3,1)\n",
      "print('a1=\\n%s\\n' %a1)\n",
      "print('new dimensions:', a1.shape)"
     ],
     "language": "python",
     "metadata": {},
     "outputs": [
      {
       "output_type": "stream",
       "stream": "stdout",
       "text": [
        "a1=\n",
        "[[1]\n",
        " [2]\n",
        " [3]]\n",
        "\n",
        "new dimensions: (3, 1)\n"
       ]
      }
     ],
     "prompt_number": 5
    },
    {
     "cell_type": "markdown",
     "metadata": {},
     "source": [
      "<br>\n",
      "<br>"
     ]
    },
    {
     "cell_type": "markdown",
     "metadata": {},
     "source": [
      "np.newaxis:"
     ]
    },
    {
     "cell_type": "code",
     "collapsed": false,
     "input": [
      "a2 = a[:,np.newaxis]\n",
      "print('a2=\\n%s\\n' %a2)\n",
      "print('new dimensions:', a2.shape)"
     ],
     "language": "python",
     "metadata": {},
     "outputs": [
      {
       "output_type": "stream",
       "stream": "stdout",
       "text": [
        "a2=\n",
        "[[1]\n",
        " [2]\n",
        " [3]]\n",
        "\n",
        "new dimensions: (3, 1)\n"
       ]
      }
     ],
     "prompt_number": 6
    },
    {
     "cell_type": "markdown",
     "metadata": {},
     "source": [
      "<br>\n",
      "<br>"
     ]
    },
    {
     "cell_type": "heading",
     "level": 3,
     "metadata": {},
     "source": [
      "Vector visualization"
     ]
    },
    {
     "cell_type": "markdown",
     "metadata": {},
     "source": [
      "[[back to top](#Sections)]"
     ]
    },
    {
     "cell_type": "markdown",
     "metadata": {},
     "source": [
      "- Below is an example for visualizing 2D vectors in a cartesian coordinate system using `matplotlib`.\n",
      "- Typically, vectors are drawn from the coordinate origin; here, we assume that the point (x=0, y=0) is the origin of our cartesian coordinate system."
     ]
    },
    {
     "cell_type": "code",
     "collapsed": false,
     "input": [
      "%matplotlib inline\n",
      "import matplotlib.pyplot as plt"
     ],
     "language": "python",
     "metadata": {},
     "outputs": [],
     "prompt_number": 7
    },
    {
     "cell_type": "code",
     "collapsed": false,
     "input": [
      "a = np.array([1,4])\n",
      "b = np.array([2,3])"
     ],
     "language": "python",
     "metadata": {},
     "outputs": [],
     "prompt_number": 8
    },
    {
     "cell_type": "code",
     "collapsed": false,
     "input": [
      "ax = plt.axes()\n",
      "ax.arrow(0, 0, a[0], a[1], fc='b', ec='b', head_width=0.1, head_length=0.1)\n",
      "ax.arrow(0, 0, b[0], b[1], fc='g', ec='g', head_width=0.1, head_length=0.1)\n",
      "plt.xlim([0,3])\n",
      "plt.ylim([0,5])\n",
      "plt.grid()\n",
      "plt.show()"
     ],
     "language": "python",
     "metadata": {},
     "outputs": [
      {
       "metadata": {},
       "output_type": "display_data",
       "png": "[encoded data removed]",
       "text": [
        "<matplotlib.figure.Figure at 0x10656cfd0>"
       ]
      }
     ],
     "prompt_number": 9
    },
    {
     "cell_type": "markdown",
     "metadata": {},
     "source": [
      "<br>\n",
      "<br>"
     ]
    },
    {
     "cell_type": "heading",
     "level": 3,
     "metadata": {},
     "source": [
      "Vector addition"
     ]
    },
    {
     "cell_type": "markdown",
     "metadata": {},
     "source": [
      "[[back to top](#Sections)]"
     ]
    },
    {
     "cell_type": "markdown",
     "metadata": {},
     "source": [
      "- Vector addition requires vectors of same dimensions."
     ]
    },
    {
     "cell_type": "markdown",
     "metadata": {},
     "source": [
      "\n",
      "\n",
      "\\begin{equation}\n",
      "\\begin{bmatrix} \n",
      "a_1 \\\\\n",
      "a_2 \\\\\n",
      "\\cdots \\\\\n",
      "a_n\n",
      "\\end{bmatrix} + \n",
      "\\begin{bmatrix} \n",
      "b_1 \\\\\n",
      "b_2 \\\\\n",
      "\\cdots \\\\\n",
      "b_n\n",
      "\\end{bmatrix} =\n",
      "\\begin{bmatrix} \n",
      "a_1 + b_1\\\\\n",
      "a_2 + b_2 \\\\\n",
      "\\cdots \\\\\n",
      "a_n + b_n\n",
      "\\end{bmatrix}\n",
      "\\end{equation}"
     ]
    },
    {
     "cell_type": "code",
     "collapsed": false,
     "input": [
      "a = np.array([1,4]).reshape(2,1)\n",
      "b = np.array([2,3]).reshape(2,1)\n",
      "\n",
      "c1 = a + b\n",
      "c2 = b + a\n",
      "\n",
      "print('c1=\\n%s, \\n\\n c2=\\n%s' %(c1, c2))\n",
      "print('\\na + (-a) = \\n%s' %(a+(-a)))"
     ],
     "language": "python",
     "metadata": {},
     "outputs": [
      {
       "output_type": "stream",
       "stream": "stdout",
       "text": [
        "c1=\n",
        "[[3]\n",
        " [7]], \n",
        "\n",
        " c2=\n",
        "[[3]\n",
        " [7]]\n",
        "\n",
        "a + (-a) = \n",
        "[[0]\n",
        " [0]]\n"
       ]
      }
     ],
     "prompt_number": 12
    },
    {
     "cell_type": "code",
     "collapsed": false,
     "input": [
      "c = a + b\n",
      "\n",
      "ax = plt.axes()\n",
      "ar1 = ax.arrow(0, 0, a[0,0], a[1,0], fc='b', ec='b', head_width=0.1, head_length=0.1)\n",
      "ar2 = ax.arrow(a[0,0], a[1,0], b[0,0], b[1,0], fc='g', ec='g', head_width=0.1, head_length=0.1)\n",
      "ar3 = ax.arrow(0, 0, c[0,0], c[1,0], fc='r', ec='r', head_width=0.1, head_length=0.1)\n",
      "plt.xlim([0,4])\n",
      "plt.ylim([0,9])\n",
      "plt.legend([ar1, ar2, ar3], ['a', 'b', 'c'])\n",
      "plt.grid()\n",
      "plt.show()"
     ],
     "language": "python",
     "metadata": {},
     "outputs": [
      {
       "metadata": {},
       "output_type": "display_data",
       "png": "[encoded data removed]",
       "text": [
        "<matplotlib.figure.Figure at 0x1065c0630>"
       ]
      }
     ],
     "prompt_number": 29
    },
    {
     "cell_type": "markdown",
     "metadata": {},
     "source": [
      "<br>\n",
      "<br>"
     ]
    },
    {
     "cell_type": "heading",
     "level": 4,
     "metadata": {},
     "source": [
      "Commutativity and Associativity"
     ]
    },
    {
     "cell_type": "markdown",
     "metadata": {},
     "source": [
      "- Here, **a**, **b**, **c** are all $n \\times 1$ (or $1 \\times n$) vectors, not scalars."
     ]
    },
    {
     "cell_type": "markdown",
     "metadata": {},
     "source": [
      "Commutativity: $\\pmb a + \\pmb b = \\pmb b + \\pmb a$\n",
      "\n",
      "Associativity: $(\\pmb a + \\pmb b) + \\pmb c = \\pmb a + (\\pmb b + \\pmb c)$"
     ]
    },
    {
     "cell_type": "code",
     "collapsed": false,
     "input": [
      "assert( (a+b).all() == (b+a).all() )               # Commutativity\n",
      "assert( ( (a+b)+c ).all() == ( a+(b+c) ).all() )   # Associativity"
     ],
     "language": "python",
     "metadata": {},
     "outputs": [],
     "prompt_number": 6
    },
    {
     "cell_type": "markdown",
     "metadata": {},
     "source": [
      "<br>\n",
      "<br>"
     ]
    },
    {
     "cell_type": "heading",
     "level": 3,
     "metadata": {},
     "source": [
      "Vector scalar multiplication"
     ]
    },
    {
     "cell_type": "markdown",
     "metadata": {},
     "source": [
      "[[back to top](#Sections)]"
     ]
    },
    {
     "cell_type": "markdown",
     "metadata": {},
     "source": [
      "\n",
      "\n",
      "\\begin{equation}\n",
      "\\begin{bmatrix} \n",
      "a_1 \\\\\n",
      "a_2 \\\\\n",
      "\\cdots \\\\\n",
      "a_n\n",
      "\\end{bmatrix} \\times b =\n",
      "\\begin{bmatrix}  \n",
      "a_1 \\times b\\\\\n",
      "a_2 \\times b \\\\\n",
      "\\cdots \\\\\n",
      "a_n \\times b\n",
      "\\end{bmatrix} = \n",
      "b \\times \\begin{bmatrix} \n",
      "a_1 \\\\\n",
      "a_2 \\\\\n",
      "\\cdots \\\\\n",
      "a_n\n",
      "\\end{bmatrix}\n",
      "\\end{equation}\n"
     ]
    },
    {
     "cell_type": "code",
     "collapsed": false,
     "input": [
      "a = np.array([2,3]).reshape(2,1)\n",
      "c = a[:] * 2\n",
      "\n",
      "print('a * 2 =\\n%s ' %c)"
     ],
     "language": "python",
     "metadata": {},
     "outputs": [
      {
       "output_type": "stream",
       "stream": "stdout",
       "text": [
        "a * 2 =\n",
        "[[4]\n",
        " [6]] \n"
       ]
      }
     ],
     "prompt_number": 34
    },
    {
     "cell_type": "code",
     "collapsed": false,
     "input": [
      "ax = plt.axes()\n",
      "ar1 = ax.arrow(0, 0, a[0,0], a[1,0], fc='b', ec='b', \n",
      "         head_width=0.1, head_length=0.1, alpha=0.5, lw=2)\n",
      "ar2 = ax.arrow(0, 0, c[0,0], c[1,0], fc='r', ec='r',\n",
      "         head_width=0.1, head_length=0.1, alpha=0.5, lw=1)\n",
      "\n",
      "plt.xlim([0,5])\n",
      "plt.ylim([0,7])\n",
      "plt.legend([ar1, ar2], ['a', 'c'])\n",
      "plt.grid()\n",
      "plt.show()"
     ],
     "language": "python",
     "metadata": {},
     "outputs": [
      {
       "metadata": {},
       "output_type": "display_data",
       "png": "[encoded data removed]",
       "text": [
        "<matplotlib.figure.Figure at 0x10685add8>"
       ]
      }
     ],
     "prompt_number": 52
    },
    {
     "cell_type": "markdown",
     "metadata": {},
     "source": [
      "<br>\n",
      "<br>"
     ]
    },
    {
     "cell_type": "heading",
     "level": 4,
     "metadata": {},
     "source": [
      "Associativity and Distributivity"
     ]
    },
    {
     "cell_type": "markdown",
     "metadata": {},
     "source": [
      "Associativity: $(a \\times(2)) \\times 3 =   a \\times (2\\times 3)$\n",
      "\n",
      "Distributivity I: $(2+3) \\times a =   2 \\times a + 3 \\times a$\n",
      "\n",
      "Distributivity II: $(a + b)\\times 2 =   2 \\times a + 2 \\times b$"
     ]
    },
    {
     "cell_type": "code",
     "collapsed": false,
     "input": [
      "assert( ( (a*2)*3 ).all() == (a*(2*3) ).all() )    # Associativity\n",
      "assert( ( (2+3)*a ).all() == (2*a + 3*a).all() )   # Distributivity I\n",
      "assert( ( (a+b)*2 ).all() == (2*a + 2*b).all() )   # Distributivity II"
     ],
     "language": "python",
     "metadata": {},
     "outputs": [],
     "prompt_number": 49
    },
    {
     "cell_type": "markdown",
     "metadata": {},
     "source": [
      "<br>\n",
      "<br>"
     ]
    },
    {
     "cell_type": "heading",
     "level": 3,
     "metadata": {},
     "source": [
      "Inner product (dot product)"
     ]
    },
    {
     "cell_type": "markdown",
     "metadata": {},
     "source": [
      "\\begin{equation} \\pmb a^T \\pmb b = \\sum_{i=1}^{n} a_i b_i \\end{equation}"
     ]
    },
    {
     "cell_type": "markdown",
     "metadata": {},
     "source": [
      "\\begin{equation} \\pmb a^T  \\pmb b = a_1 \\times b_1 + \\dots + a_n \\times b_n \\end{equation}"
     ]
    },
    {
     "cell_type": "heading",
     "level": 4,
     "metadata": {},
     "source": [
      "NumPy example"
     ]
    },
    {
     "cell_type": "code",
     "collapsed": false,
     "input": [
      "a = np.array([1,2,3]).reshape(3,1) # column vector\n",
      "b = np.array([4,5,6]).reshape(3,1)\n",
      "\n",
      "print('a^T . b = %s' %(a.T.dot(b)))"
     ],
     "language": "python",
     "metadata": {},
     "outputs": [
      {
       "output_type": "stream",
       "stream": "stdout",
       "text": [
        "a^T . b = [[32]]\n"
       ]
      }
     ],
     "prompt_number": 9
    },
    {
     "cell_type": "markdown",
     "metadata": {},
     "source": [
      "Is equal to "
     ]
    },
    {
     "cell_type": "code",
     "collapsed": false,
     "input": [
      "sum([(a_i*b_i) for a_i,b_i in zip(a, b)])"
     ],
     "language": "python",
     "metadata": {},
     "outputs": [
      {
       "metadata": {},
       "output_type": "pyout",
       "prompt_number": 12,
       "text": [
        "array([32])"
       ]
      }
     ],
     "prompt_number": 12
    },
    {
     "cell_type": "heading",
     "level": 3,
     "metadata": {},
     "source": [
      "Outer product"
     ]
    },
    {
     "cell_type": "code",
     "collapsed": false,
     "input": [
      "print('a . b^T =\\n %s' %(a.dot(b.T)))"
     ],
     "language": "python",
     "metadata": {},
     "outputs": [
      {
       "output_type": "stream",
       "stream": "stdout",
       "text": [
        "a . b^T =\n",
        " [[ 4  5  6]\n",
        " [ 8 10 12]\n",
        " [12 15 18]]\n"
       ]
      }
     ],
     "prompt_number": 14
    },
    {
     "cell_type": "heading",
     "level": 3,
     "metadata": {},
     "source": [
      "Vector norm"
     ]
    },
    {
     "cell_type": "markdown",
     "metadata": {},
     "source": [
      "- length of a vector\n",
      "\n",
      "\\begin{equation}a=\\begin{bmatrix}a_1 \\\\ a_2 \\\\ \\vdots \\\\ a_n \\end{bmatrix}\\end{equation}"
     ]
    },
    {
     "cell_type": "heading",
     "level": 4,
     "metadata": {},
     "source": [
      "L1 norm "
     ]
    },
    {
     "cell_type": "markdown",
     "metadata": {},
     "source": [
      "\\begin{equation}|a| = \\sum_{i=1}^{n} |a_i|\\end{equation}"
     ]
    },
    {
     "cell_type": "code",
     "collapsed": false,
     "input": [
      "a = np.array([1,2,3]).reshape(3,1) # column vector\n",
      "sum([abs(a_i) for a_i in a])"
     ],
     "language": "python",
     "metadata": {},
     "outputs": [
      {
       "metadata": {},
       "output_type": "pyout",
       "prompt_number": 29,
       "text": [
        "array([6])"
       ]
      }
     ],
     "prompt_number": 29
    },
    {
     "cell_type": "code",
     "collapsed": false,
     "input": [
      "np.linalg.norm(a, ord=1)"
     ],
     "language": "python",
     "metadata": {},
     "outputs": [
      {
       "metadata": {},
       "output_type": "pyout",
       "prompt_number": 30,
       "text": [
        "6"
       ]
      }
     ],
     "prompt_number": 30
    },
    {
     "cell_type": "heading",
     "level": 4,
     "metadata": {},
     "source": [
      "L2 norm "
     ]
    },
    {
     "cell_type": "markdown",
     "metadata": {},
     "source": [
      "- Length of a vector"
     ]
    },
    {
     "cell_type": "markdown",
     "metadata": {},
     "source": [
      "\\begin{equation}||a|| = \\sqrt{\\sum_{i=1}^{n} |a_i|^2}\\end{equation}"
     ]
    },
    {
     "cell_type": "code",
     "collapsed": false,
     "input": [
      "np.sqrt(sum([a_i**2 for a_i in a]))"
     ],
     "language": "python",
     "metadata": {},
     "outputs": [
      {
       "metadata": {},
       "output_type": "pyout",
       "prompt_number": 26,
       "text": [
        "array([ 3.74165739])"
       ]
      }
     ],
     "prompt_number": 26
    },
    {
     "cell_type": "code",
     "collapsed": false,
     "input": [
      "np.linalg.norm(a, ord=2)"
     ],
     "language": "python",
     "metadata": {},
     "outputs": [
      {
       "metadata": {},
       "output_type": "pyout",
       "prompt_number": 27,
       "text": [
        "3.7416573867739413"
       ]
      }
     ],
     "prompt_number": 27
    },
    {
     "cell_type": "markdown",
     "metadata": {},
     "source": [
      "Equivalent to \n",
      "\n",
      "$\\sqrt{\\pmb a^T \\pmb a} = ||\\pmb a||$"
     ]
    },
    {
     "cell_type": "code",
     "collapsed": false,
     "input": [
      "np.sqrt(a.T.dot(a))"
     ],
     "language": "python",
     "metadata": {},
     "outputs": [
      {
       "metadata": {},
       "output_type": "pyout",
       "prompt_number": 28,
       "text": [
        "array([[ 3.74165739]])"
       ]
      }
     ],
     "prompt_number": 28
    },
    {
     "cell_type": "heading",
     "level": 3,
     "metadata": {},
     "source": [
      "Normalizing a vector to unit length"
     ]
    },
    {
     "cell_type": "markdown",
     "metadata": {},
     "source": [
      "\\begin{equation} \\frac{\\pmb a}{||a||} \\end{equation}"
     ]
    },
    {
     "cell_type": "code",
     "collapsed": false,
     "input": [
      "a_n = a/norm(a, ord=2)\n",
      "\n",
      "print('normalized vector\\na\\' = \\n %s' % a_n)\n",
      "print('\\nL2 norm: ||a\\'|| = %s' %norm(a_n, ord=2))"
     ],
     "language": "python",
     "metadata": {},
     "outputs": [
      {
       "output_type": "stream",
       "stream": "stdout",
       "text": [
        "normalized vector\n",
        "a' = \n",
        " [[ 0.26726124]\n",
        " [ 0.53452248]\n",
        " [ 0.80178373]]\n",
        "\n",
        "L2 norm: ||a'|| = 1.0\n"
       ]
      }
     ],
     "prompt_number": 37
    },
    {
     "cell_type": "heading",
     "level": 3,
     "metadata": {},
     "source": [
      "Angle between vectors"
     ]
    },
    {
     "cell_type": "markdown",
     "metadata": {},
     "source": [
      "\\begin{equation} \\pmb a \\cdot \\pmb b = ||\\pmb a|| \\; ||\\pmb b|| \\; cos(\\sigma) \\\\\n",
      "\\Rightarrow cos(\\sigma) = \\frac{\\pmb a \\cdot \\pmb b}{||\\pmb a|| \\; ||\\pmb b||} \n",
      "\\end{equation}"
     ]
    },
    {
     "cell_type": "code",
     "collapsed": false,
     "input": [
      "cos_theta = (a.dot(b) / (norm(a)*norm(b)))\n",
      "print('cos(theta) = %s' %cos_theta)\n",
      "print('theta = %s (in degrees)' %np.degrees(np.arccos(cos_theta)))"
     ],
     "language": "python",
     "metadata": {},
     "outputs": [
      {
       "output_type": "stream",
       "stream": "stdout",
       "text": [
        "cos(theta) = 0.941741911595\n",
        "theta = 19.6538240581 (in degrees)\n"
       ]
      }
     ],
     "prompt_number": 12
    },
    {
     "cell_type": "heading",
     "level": 3,
     "metadata": {},
     "source": [
      "Cosine Similarity"
     ]
    },
    {
     "cell_type": "markdown",
     "metadata": {},
     "source": [
      "\\begin{matrix} cos(\\pmb a, \\pmb b) = \\frac{\\pmb a}{||\\pmb a||} \\cdot \\frac{\\pmb b}{||\\pmb a||}\\end{matrix}"
     ]
    },
    {
     "cell_type": "code",
     "collapsed": false,
     "input": [
      "cos_sim = (a / norm(a)).dot(b / norm(a))\n",
      "print('cosine similarity betw. a and b: %s' %cos_sim)"
     ],
     "language": "python",
     "metadata": {},
     "outputs": [
      {
       "output_type": "stream",
       "stream": "stdout",
       "text": [
        "cosine similarity betw. a and b: 0.823529411765\n"
       ]
      }
     ],
     "prompt_number": 14
    },
    {
     "cell_type": "heading",
     "level": 3,
     "metadata": {},
     "source": [
      "Euclidean Distance"
     ]
    },
    {
     "cell_type": "markdown",
     "metadata": {},
     "source": [
      "\\begin{matrix} eucliddist(\\pmb a, \\pmb b) = \\sqrt{\\sum_{i=1}^n (a_i b_i)^2}= \\sqrt{(\\pmb a - \\pmb b)\\cdot(\\pmb a - \\pmb b)}\\end{matrix}"
     ]
    },
    {
     "cell_type": "code",
     "collapsed": false,
     "input": [
      "eucl_dist = np.sqrt((a-b).dot(a-b))\n",
      "print('euclidean dist betw. a and b: %s' %eucl_dist)"
     ],
     "language": "python",
     "metadata": {},
     "outputs": [
      {
       "output_type": "stream",
       "stream": "stdout",
       "text": [
        "euclidean dist betw. a and b: 1.41421356237\n"
       ]
      }
     ],
     "prompt_number": 15
    },
    {
     "cell_type": "heading",
     "level": 1,
     "metadata": {},
     "source": [
      "Matrices"
     ]
    },
    {
     "cell_type": "markdown",
     "metadata": {},
     "source": [
      "- an $m \\times n$ matrix $A$ consists of m-rows and n-columns.\n",
      "- the first subscript of an element $a_{ij}$ represents its row position, the second subscript its column position, respectively.\n",
      "\n",
      "\\begin{equation} A = \\begin{bmatrix}\n",
      "a_{11} & \\cdots & a_{1n} \\\\\n",
      "\\vdots \\\\\n",
      "a_{m1} & \\cdots & a_{mn} \\\\\n",
      "\\end{bmatrix}\\\\\n",
      "\\text{for } i = 1, \\dots, m \\\\\n",
      "j = 1, \\dots, n\n",
      "\\end{equation} "
     ]
    },
    {
     "cell_type": "markdown",
     "metadata": {},
     "source": [
      "- we can summarize the matrix by summarizing the column cells as column vectors $a_1, \\dots, a_n$\n",
      "\n",
      "\\begin{equation} A = \\begin{bmatrix}\n",
      "a_{1} & \\cdots & a_{n} \n",
      "\\end{bmatrix}\\\\\n",
      "\\end{equation} \n",
      "    \n",
      "    "
     ]
    },
    {
     "cell_type": "markdown",
     "metadata": {},
     "source": [
      "- similarly, we can summarize the matrix by using row vectors $a_1, \\dots, a_m$\n",
      "\n",
      "\\begin{equation} A = \\begin{bmatrix}\n",
      "a_{1}^T \\\\\n",
      "\\cdots \\\\\n",
      "a_{m}^T \n",
      "\\end{bmatrix}\\\\\n",
      "\\end{equation} \n",
      "    "
     ]
    },
    {
     "cell_type": "markdown",
     "metadata": {},
     "source": [
      "- typically, a data table represents samples as rows and measurements as columns"
     ]
    },
    {
     "cell_type": "heading",
     "level": 4,
     "metadata": {},
     "source": [
      "Iris dataset example"
     ]
    },
    {
     "cell_type": "code",
     "collapsed": false,
     "input": [
      "import pandas as pd\n",
      "\n",
      "df = pd.io.parsers.read_csv(\n",
      "    filepath_or_buffer='https://archive.ics.uci.edu/ml/machine-learning-databases/iris/iris.data', \n",
      "    header=None, \n",
      "    sep=',', \n",
      "    )\n",
      "df.columns = ['sepal length in cm', \n",
      "              'sepal width in cm', \n",
      "              'petal length in cm', \n",
      "              'petal width in cm',\n",
      "              'class label']\n",
      "df.dropna(how=\"all\", inplace=True) # to drop the empty line at file-end\n",
      "\n",
      "df.tail()"
     ],
     "language": "python",
     "metadata": {},
     "outputs": [
      {
       "output_type": "stream",
       "stream": "stderr",
       "text": [
        "/Users/sebastian/miniconda3/envs/py34/lib/python3.4/site-packages/pandas/io/excel.py:626: UserWarning: Installed openpyxl is not supported at this time. Use >=1.6.1 and <2.0.0.\n",
        "  .format(openpyxl_compat.start_ver, openpyxl_compat.stop_ver))\n"
       ]
      },
      {
       "html": [
        "<div style=\"max-height:1000px;max-width:1500px;overflow:auto;\">\n",
        "<table border=\"1\" class=\"dataframe\">\n",
        "  <thead>\n",
        "    <tr style=\"text-align: right;\">\n",
        "      <th></th>\n",
        "      <th>sepal length in cm</th>\n",
        "      <th>sepal width in cm</th>\n",
        "      <th>petal length in cm</th>\n",
        "      <th>petal width in cm</th>\n",
        "      <th>class label</th>\n",
        "    </tr>\n",
        "  </thead>\n",
        "  <tbody>\n",
        "    <tr>\n",
        "      <th>145</th>\n",
        "      <td> 6.7</td>\n",
        "      <td> 3.0</td>\n",
        "      <td> 5.2</td>\n",
        "      <td> 2.3</td>\n",
        "      <td> Iris-virginica</td>\n",
        "    </tr>\n",
        "    <tr>\n",
        "      <th>146</th>\n",
        "      <td> 6.3</td>\n",
        "      <td> 2.5</td>\n",
        "      <td> 5.0</td>\n",
        "      <td> 1.9</td>\n",
        "      <td> Iris-virginica</td>\n",
        "    </tr>\n",
        "    <tr>\n",
        "      <th>147</th>\n",
        "      <td> 6.5</td>\n",
        "      <td> 3.0</td>\n",
        "      <td> 5.2</td>\n",
        "      <td> 2.0</td>\n",
        "      <td> Iris-virginica</td>\n",
        "    </tr>\n",
        "    <tr>\n",
        "      <th>148</th>\n",
        "      <td> 6.2</td>\n",
        "      <td> 3.4</td>\n",
        "      <td> 5.4</td>\n",
        "      <td> 2.3</td>\n",
        "      <td> Iris-virginica</td>\n",
        "    </tr>\n",
        "    <tr>\n",
        "      <th>149</th>\n",
        "      <td> 5.9</td>\n",
        "      <td> 3.0</td>\n",
        "      <td> 5.1</td>\n",
        "      <td> 1.8</td>\n",
        "      <td> Iris-virginica</td>\n",
        "    </tr>\n",
        "  </tbody>\n",
        "</table>\n",
        "</div>"
       ],
       "metadata": {},
       "output_type": "pyout",
       "prompt_number": 2,
       "text": [
        "     sepal length in cm  sepal width in cm  petal length in cm  \\\n",
        "145                 6.7                3.0                 5.2   \n",
        "146                 6.3                2.5                 5.0   \n",
        "147                 6.5                3.0                 5.2   \n",
        "148                 6.2                3.4                 5.4   \n",
        "149                 5.9                3.0                 5.1   \n",
        "\n",
        "     petal width in cm     class label  \n",
        "145                2.3  Iris-virginica  \n",
        "146                1.9  Iris-virginica  \n",
        "147                2.0  Iris-virginica  \n",
        "148                2.3  Iris-virginica  \n",
        "149                1.8  Iris-virginica  "
       ]
      }
     ],
     "prompt_number": 2
    },
    {
     "cell_type": "heading",
     "level": 4,
     "metadata": {},
     "source": [
      "NumPy example"
     ]
    },
    {
     "cell_type": "code",
     "collapsed": false,
     "input": [
      "A = np.array([[1,2,3], [4,5,6]])\n",
      "A"
     ],
     "language": "python",
     "metadata": {},
     "outputs": [
      {
       "metadata": {},
       "output_type": "pyout",
       "prompt_number": 22,
       "text": [
        "array([[1, 2, 3],\n",
        "       [4, 5, 6]])"
       ]
      }
     ],
     "prompt_number": 22
    },
    {
     "cell_type": "code",
     "collapsed": false,
     "input": [
      "rows, cols = A.shape\n",
      "print('A is a %s x %s matrix (%s rows, %s columns)' %(rows, cols, rows, cols))"
     ],
     "language": "python",
     "metadata": {},
     "outputs": [
      {
       "output_type": "stream",
       "stream": "stdout",
       "text": [
        "A is a 2 x 3 matrix (2 rows, 3 columns)\n"
       ]
      }
     ],
     "prompt_number": 23
    },
    {
     "cell_type": "heading",
     "level": 3,
     "metadata": {},
     "source": [
      "Transpose"
     ]
    },
    {
     "cell_type": "code",
     "collapsed": false,
     "input": [
      "A.T"
     ],
     "language": "python",
     "metadata": {},
     "outputs": [
      {
       "metadata": {},
       "output_type": "pyout",
       "prompt_number": 24,
       "text": [
        "array([[1, 4],\n",
        "       [2, 5],\n",
        "       [3, 6]])"
       ]
      }
     ],
     "prompt_number": 24
    },
    {
     "cell_type": "heading",
     "level": 3,
     "metadata": {},
     "source": [
      "Matrix Addition"
     ]
    },
    {
     "cell_type": "code",
     "collapsed": false,
     "input": [
      "B = np.array([[3,4,5], [7,8,9]])\n",
      "C = np.array([[9,6,2], [1,3,6]])"
     ],
     "language": "python",
     "metadata": {},
     "outputs": [],
     "prompt_number": 25
    },
    {
     "cell_type": "code",
     "collapsed": false,
     "input": [
      "assert( (A+B).all() == (B+A).all() )               # Commutativity\n",
      "assert( ( (A+B)+C ).all() == ( A+(B+C) ).all() )   # Associativity"
     ],
     "language": "python",
     "metadata": {},
     "outputs": [],
     "prompt_number": 26
    },
    {
     "cell_type": "heading",
     "level": 3,
     "metadata": {},
     "source": [
      "Vector scalar multiplication"
     ]
    },
    {
     "cell_type": "code",
     "collapsed": false,
     "input": [
      "assert( ( (A*2)*3 ).all() == (A*(2*3) ).all() )    # Associativity\n",
      "assert( ( (2+3)*A ).all() == (2*A + 3*A).all() )   # Distributivity I\n",
      "assert( ( (A+B)*2 ).all() == (2*A + 2*B).all() )   # Distributivity II"
     ],
     "language": "python",
     "metadata": {},
     "outputs": [],
     "prompt_number": 27
    },
    {
     "cell_type": "heading",
     "level": 3,
     "metadata": {},
     "source": [
      "Matrix-vector multiplication"
     ]
    },
    {
     "cell_type": "markdown",
     "metadata": {},
     "source": [
      "- \"inner\" dimensions have to match, \n",
      "\n",
      "Assume we have a \n",
      "\n",
      "Matrix A = MxN  \n",
      "Vector v = Nx1 (1-column matrix)\n",
      "\n",
      "We can multiply either\n",
      "\n",
      "A x v\n",
      "\n",
      "or \n",
      "\n",
      "v.T x A.T \n"
     ]
    },
    {
     "cell_type": "code",
     "collapsed": false,
     "input": [
      "v = np.array([2,2,2]).reshape(3,1)"
     ],
     "language": "python",
     "metadata": {},
     "outputs": [],
     "prompt_number": 28
    },
    {
     "cell_type": "code",
     "collapsed": false,
     "input": [
      "print('A dimensions:', A.shape)\n",
      "print('v dimensions:', v.shape)\n",
      "\n",
      "Av = A.dot(v)\n",
      "vA = v.T.dot(A.T)\n",
      "\n",
      "print('\\nA x v =\\n', Av)\n",
      "print('\\nv.T x A.t =', vA)"
     ],
     "language": "python",
     "metadata": {},
     "outputs": [
      {
       "output_type": "stream",
       "stream": "stdout",
       "text": [
        "A dimensions: (2, 3)\n",
        "v dimensions: (3, 1)\n",
        "\n",
        "A x v =\n",
        " [[12]\n",
        " [30]]\n",
        "\n",
        "v.T x A.t = [[12 30]]\n"
       ]
      }
     ],
     "prompt_number": 29
    },
    {
     "cell_type": "heading",
     "level": 3,
     "metadata": {},
     "source": [
      "Matrix-matrix multiplication"
     ]
    },
    {
     "cell_type": "markdown",
     "metadata": {},
     "source": [
      "\n",
      "\n",
      "\\begin{equation}C = AB\\\\\n",
      "\\text{where } A^{m \\times n}, B^{n \\times p}, C^{m \\times p}\\end{equation}"
     ]
    },
    {
     "cell_type": "markdown",
     "metadata": {},
     "source": [
      "\n",
      "\\begin{equation} A = \\begin{bmatrix}\n",
      "a_{11} & \\cdots & a_{1n} \\\\\n",
      "\\vdots \\\\\n",
      "a_{m1} & \\cdots & a_{mn} \\\\\n",
      "\\end{bmatrix}\\\\\n",
      "\\end{equation} \n",
      "\n",
      "\n",
      "\\begin{equation} B = \\begin{bmatrix}\n",
      "b_{11} & \\cdots & b_{1n} \\\\\n",
      "\\vdots \\\\\n",
      "b_{m1} & \\cdots & b_{mn} \\\\\n",
      "\\end{bmatrix}\\\\\n",
      "\\end{equation} \n",
      "\n",
      "\n",
      "\\begin{equation} C = \\begin{bmatrix}\n",
      "c_{11} & \\cdots & c_{1n} \\\\\n",
      "\\vdots \\\\\n",
      "c_{m1} & \\cdots & c_{mn} \\\\\n",
      "\\end{bmatrix}\\\\\n",
      "\\end{equation} "
     ]
    },
    {
     "cell_type": "code",
     "collapsed": false,
     "input": [],
     "language": "python",
     "metadata": {},
     "outputs": []
    },
    {
     "cell_type": "code",
     "collapsed": false,
     "input": [
      "A = np.array([[1,2], [3,4]])\n",
      "B = np.array([[3,4], [5,6]])"
     ],
     "language": "python",
     "metadata": {},
     "outputs": [],
     "prompt_number": 30
    },
    {
     "cell_type": "heading",
     "level": 3,
     "metadata": {},
     "source": [
      "Identity Matrix"
     ]
    },
    {
     "cell_type": "code",
     "collapsed": false,
     "input": [
      "np.eye(3,3)"
     ],
     "language": "python",
     "metadata": {},
     "outputs": [
      {
       "metadata": {},
       "output_type": "pyout",
       "prompt_number": 31,
       "text": [
        "array([[ 1.,  0.,  0.],\n",
        "       [ 0.,  1.,  0.],\n",
        "       [ 0.,  0.,  1.]])"
       ]
      }
     ],
     "prompt_number": 31
    },
    {
     "cell_type": "heading",
     "level": 3,
     "metadata": {},
     "source": [
      "Matrix Inverse"
     ]
    },
    {
     "cell_type": "markdown",
     "metadata": {},
     "source": [
      "- only for square matrices"
     ]
    },
    {
     "cell_type": "code",
     "collapsed": false,
     "input": [
      "A"
     ],
     "language": "python",
     "metadata": {},
     "outputs": [
      {
       "metadata": {},
       "output_type": "pyout",
       "prompt_number": 32,
       "text": [
        "array([[1, 2],\n",
        "       [3, 4]])"
       ]
      }
     ],
     "prompt_number": 32
    },
    {
     "cell_type": "code",
     "collapsed": false,
     "input": [
      "A_inv = np.linalg.inv(A)"
     ],
     "language": "python",
     "metadata": {},
     "outputs": [],
     "prompt_number": 33
    },
    {
     "cell_type": "code",
     "collapsed": false,
     "input": [
      "A.dot(A_inv)"
     ],
     "language": "python",
     "metadata": {},
     "outputs": [
      {
       "metadata": {},
       "output_type": "pyout",
       "prompt_number": 34,
       "text": [
        "array([[  1.00000000e+00,   0.00000000e+00],\n",
        "       [  8.88178420e-16,   1.00000000e+00]])"
       ]
      }
     ],
     "prompt_number": 34
    },
    {
     "cell_type": "markdown",
     "metadata": {},
     "source": [
      "<br>\n",
      "<br>"
     ]
    },
    {
     "cell_type": "heading",
     "level": 3,
     "metadata": {},
     "source": [
      "Matrix trace"
     ]
    },
    {
     "cell_type": "markdown",
     "metadata": {},
     "source": [
      "- sum of the diagonal elements\n",
      "\n",
      "\\begin{equation} A = \\begin{bmatrix}1 & 0 & 0 \\\\ 0 & 1 & 0 \\\\ 0 & 0 & 1\\end{bmatrix}\\\\\n",
      "\\Rightarrow 1 + 1 + 1 = 3\\end{equation}"
     ]
    },
    {
     "cell_type": "code",
     "collapsed": false,
     "input": [
      "A = np.eye(3)\n",
      "A"
     ],
     "language": "python",
     "metadata": {},
     "outputs": [
      {
       "metadata": {},
       "output_type": "pyout",
       "prompt_number": 39,
       "text": [
        "array([[ 1.,  0.,  0.],\n",
        "       [ 0.,  1.,  0.],\n",
        "       [ 0.,  0.,  1.]])"
       ]
      }
     ],
     "prompt_number": 39
    },
    {
     "cell_type": "code",
     "collapsed": false,
     "input": [
      "A.trace()"
     ],
     "language": "python",
     "metadata": {},
     "outputs": [
      {
       "metadata": {},
       "output_type": "pyout",
       "prompt_number": 40,
       "text": [
        "3.0"
       ]
      }
     ],
     "prompt_number": 40
    },
    {
     "cell_type": "markdown",
     "metadata": {},
     "source": [
      "<br>\n",
      "<br>"
     ]
    },
    {
     "cell_type": "heading",
     "level": 3,
     "metadata": {},
     "source": [
      "Matrix rank"
     ]
    },
    {
     "cell_type": "markdown",
     "metadata": {},
     "source": [
      "- row rank is the number of linearly independent rows in a matrix\n",
      "- Example:"
     ]
    },
    {
     "cell_type": "markdown",
     "metadata": {},
     "source": [
      "\\begin{equation} A = \\begin{bmatrix}\n",
      "1  & 2  & 0  & 3 \\\\\n",
      "1 & -2 &  3 & 0 \\\\\n",
      "0 &  0 &  4 &  8 \\\\\n",
      "2  & 4 &  0  & 6\\end{bmatrix}\\end{equation} "
     ]
    },
    {
     "cell_type": "markdown",
     "metadata": {},
     "source": [
      "- Would have rank 4 if all rows were linearly independent, but row4 = row1 * 2, so it has rank 3\n",
      "\n"
     ]
    },
    {
     "cell_type": "code",
     "collapsed": false,
     "input": [
      "A = np.array([\n",
      "              [1, 2, 0, 3], \n",
      "              [1, -2, 3, 0], \n",
      "              [0, 0, 4, 8], \n",
      "              [2, 4, 0, 6]\n",
      "            ])\n",
      "\n",
      "np.linalg.matrix_rank(A)"
     ],
     "language": "python",
     "metadata": {},
     "outputs": [
      {
       "metadata": {},
       "output_type": "pyout",
       "prompt_number": 41,
       "text": [
        "3"
       ]
      }
     ],
     "prompt_number": 41
    },
    {
     "cell_type": "markdown",
     "metadata": {},
     "source": [
      "<br>\n",
      "<br>"
     ]
    },
    {
     "cell_type": "markdown",
     "metadata": {},
     "source": [
      "<br>\n",
      "<br>"
     ]
    },
    {
     "cell_type": "heading",
     "level": 2,
     "metadata": {},
     "source": [
      "Linear Transformation"
     ]
    },
    {
     "cell_type": "markdown",
     "metadata": {},
     "source": [
      "- A 4x3 matrix multiplied by a  3x1 vector will yield a transformed 4x1 vector (more dimensions)\n",
      "- A 3x3 matrix (square matrix) multiplied by a  3x1 vector will yield a transformed 3x1 vector (same dimensions)"
     ]
    },
    {
     "cell_type": "heading",
     "level": 3,
     "metadata": {},
     "source": [
      "Scaling Matrix"
     ]
    },
    {
     "cell_type": "markdown",
     "metadata": {},
     "source": [
      "- vector still has same direction, but magnitude (length) changes\n",
      "- vector x scalar is the same as vector x (identity matrix x scalar)"
     ]
    },
    {
     "cell_type": "code",
     "collapsed": false,
     "input": [
      "S = np.eye(2,2) * 2\n",
      "a = np.array([[1], [4]])\n",
      "\n",
      "Sa = S.dot(a)"
     ],
     "language": "python",
     "metadata": {},
     "outputs": [],
     "prompt_number": 35
    },
    {
     "cell_type": "code",
     "collapsed": false,
     "input": [
      "ax = plt.axes()\n",
      "ax.arrow(0, 0, a[0,0], a[1,0], fc='b', ec='b', head_width=0.1, head_length=0.1)\n",
      "ax.arrow(0, 0, Sa[0,0], Sa[1,0], fc='g', ec='g', head_width=0.1, head_length=0.1)\n",
      "plt.xlim([0,3])\n",
      "plt.ylim([0,10])\n",
      "plt.grid()\n",
      "plt.show()"
     ],
     "language": "python",
     "metadata": {},
     "outputs": [
      {
       "metadata": {},
       "output_type": "display_data",
       "png": "[encoded data removed]",
       "text": [
        "<matplotlib.figure.Figure at 0x1055a9278>"
       ]
      }
     ],
     "prompt_number": 36
    },
    {
     "cell_type": "heading",
     "level": 3,
     "metadata": {},
     "source": [
      "Rotation Matrix"
     ]
    },
    {
     "cell_type": "markdown",
     "metadata": {},
     "source": [
      "- changes directions but not the magnitude (length)"
     ]
    },
    {
     "cell_type": "code",
     "collapsed": false,
     "input": [
      "from numpy import sin, cos\n",
      "\n",
      "theta = np.radians(90)\n",
      "\n",
      "R = np.array([[cos(theta), -sin(theta)], \n",
      "              [sin(theta),  cos(theta)]])\n",
      "\n",
      "Ra = R.dot(a)"
     ],
     "language": "python",
     "metadata": {},
     "outputs": [],
     "prompt_number": 37
    },
    {
     "cell_type": "code",
     "collapsed": false,
     "input": [
      "ax = plt.axes()\n",
      "ax.arrow(0, 0, a[0,0], a[1,0], fc='b', ec='b', head_width=0.1, head_length=0.1)\n",
      "ax.arrow(0, 0, Ra[0,0], Ra[1,0], fc='g', ec='g', head_width=0.1, head_length=0.1)\n",
      "plt.xlim([-5,3])\n",
      "plt.ylim([-1,5])\n",
      "plt.grid()\n",
      "plt.show()"
     ],
     "language": "python",
     "metadata": {},
     "outputs": [
      {
       "metadata": {},
       "output_type": "display_data",
       "png": "[encoded data removed]",
       "text": [
        "<matplotlib.figure.Figure at 0x1055724e0>"
       ]
      }
     ],
     "prompt_number": 38
    },
    {
     "cell_type": "heading",
     "level": 3,
     "metadata": {},
     "source": [
      "Projection matrix"
     ]
    },
    {
     "cell_type": "markdown",
     "metadata": {},
     "source": [
      "- simple projection matrix to reduce dimensions"
     ]
    },
    {
     "cell_type": "code",
     "collapsed": false,
     "input": [
      "a = np.array([[1],[2],[3]])\n",
      "P = np.eye(2,3)\n",
      "\n",
      "a"
     ],
     "language": "python",
     "metadata": {},
     "outputs": [
      {
       "metadata": {},
       "output_type": "pyout",
       "prompt_number": 39,
       "text": [
        "array([[1],\n",
        "       [2],\n",
        "       [3]])"
       ]
      }
     ],
     "prompt_number": 39
    },
    {
     "cell_type": "code",
     "collapsed": false,
     "input": [
      "P"
     ],
     "language": "python",
     "metadata": {},
     "outputs": [
      {
       "metadata": {},
       "output_type": "pyout",
       "prompt_number": 40,
       "text": [
        "array([[ 1.,  0.,  0.],\n",
        "       [ 0.,  1.,  0.]])"
       ]
      }
     ],
     "prompt_number": 40
    },
    {
     "cell_type": "code",
     "collapsed": false,
     "input": [
      "P.dot(a)"
     ],
     "language": "python",
     "metadata": {},
     "outputs": [
      {
       "metadata": {},
       "output_type": "pyout",
       "prompt_number": 41,
       "text": [
        "array([[ 1.],\n",
        "       [ 2.]])"
       ]
      }
     ],
     "prompt_number": 41
    },
    {
     "cell_type": "heading",
     "level": 2,
     "metadata": {},
     "source": [
      "Eigenvectors and Eigenvalues"
     ]
    },
    {
     "cell_type": "markdown",
     "metadata": {},
     "source": [
      "\\begin{equation} \\pmb A \\cdot \\pmb v =  \\lambda  \\cdot \\pmb A \\end{equation}\n",
      "\n",
      "where \n",
      "\n",
      "- $\\pmb A$ = a matrix  \n",
      "- $\\pmb v$ = an eigenvector of matrix  $\\pmb A$\n",
      "- $\\pmb \\lambda$ = a corresponding eigenvalue"
     ]
    },
    {
     "cell_type": "markdown",
     "metadata": {},
     "source": [
      "- eigenvector -> direction\n",
      "- eigenvector -> magnitude (scaling factor)"
     ]
    },
    {
     "cell_type": "code",
     "collapsed": false,
     "input": [
      "A = np.array([[1, 3], [3, 1]])\n",
      "\n",
      "eigvals, eigvecs = np.linalg.eig(A)"
     ],
     "language": "python",
     "metadata": {},
     "outputs": [],
     "prompt_number": 42
    },
    {
     "cell_type": "code",
     "collapsed": false,
     "input": [
      "eigvecs"
     ],
     "language": "python",
     "metadata": {},
     "outputs": [
      {
       "metadata": {},
       "output_type": "pyout",
       "prompt_number": 43,
       "text": [
        "array([[ 0.70710678, -0.70710678],\n",
        "       [ 0.70710678,  0.70710678]])"
       ]
      }
     ],
     "prompt_number": 43
    },
    {
     "cell_type": "code",
     "collapsed": false,
     "input": [
      "eigvals"
     ],
     "language": "python",
     "metadata": {},
     "outputs": [
      {
       "metadata": {},
       "output_type": "pyout",
       "prompt_number": 44,
       "text": [
        "array([ 4., -2.])"
       ]
      }
     ],
     "prompt_number": 44
    },
    {
     "cell_type": "code",
     "collapsed": false,
     "input": [
      "A.dot(eigvecs[:,0])"
     ],
     "language": "python",
     "metadata": {},
     "outputs": [
      {
       "metadata": {},
       "output_type": "pyout",
       "prompt_number": 45,
       "text": [
        "array([ 2.82842712,  2.82842712])"
       ]
      }
     ],
     "prompt_number": 45
    },
    {
     "cell_type": "code",
     "collapsed": false,
     "input": [
      "eigvals[0] * eigvecs[:,0]"
     ],
     "language": "python",
     "metadata": {},
     "outputs": [
      {
       "metadata": {},
       "output_type": "pyout",
       "prompt_number": 46,
       "text": [
        "array([ 2.82842712,  2.82842712])"
       ]
      }
     ],
     "prompt_number": 46
    },
    {
     "cell_type": "heading",
     "level": 3,
     "metadata": {},
     "source": [
      "Singular Value Decomposition"
     ]
    },
    {
     "cell_type": "markdown",
     "metadata": {},
     "source": [
      "First, let us consider the case of eigenvalue decomposition"
     ]
    },
    {
     "cell_type": "markdown",
     "metadata": {},
     "source": [
      "\\begin{equation} \\pmb A \\cdot \\pmb V = \\pmb \\lambda  \\cdot \\pmb A \\end{equation}\n",
      "\n",
      "where \n",
      "\n",
      "- $\\pmb A$ = a matrix  \n",
      "- $\\pmb V$ = eigenvectors ($\\pmb v_1, \\pmb v_2, ..., \\pmb v_n$) of matrix  $\\pmb A$\n",
      "- $\\pmb \\lambda$ = corresponding eigenvalues ($ \\lambda_1,  \\lambda_2, ..., \\lambda_n$)"
     ]
    },
    {
     "cell_type": "markdown",
     "metadata": {},
     "source": [
      "The eigenvalue composition is then defined as"
     ]
    },
    {
     "cell_type": "markdown",
     "metadata": {},
     "source": [
      "$\\pmb A = \\pmb V \\pmb \\Lambda \\pmb V^{-1}$"
     ]
    },
    {
     "cell_type": "code",
     "collapsed": false,
     "input": [
      "lam = np.eye(2,2)\n",
      "lam[0,0] = 4\n",
      "lam[1,1] = -2"
     ],
     "language": "python",
     "metadata": {},
     "outputs": [],
     "prompt_number": 47
    },
    {
     "cell_type": "code",
     "collapsed": false,
     "input": [
      "A"
     ],
     "language": "python",
     "metadata": {},
     "outputs": [
      {
       "metadata": {},
       "output_type": "pyout",
       "prompt_number": 49,
       "text": [
        "array([[1, 3],\n",
        "       [3, 1]])"
       ]
      }
     ],
     "prompt_number": 49
    },
    {
     "cell_type": "code",
     "collapsed": false,
     "input": [
      "eigvecs.dot(lam).dot(np.linalg.inv(eigvecs))"
     ],
     "language": "python",
     "metadata": {},
     "outputs": [
      {
       "metadata": {},
       "output_type": "pyout",
       "prompt_number": 48,
       "text": [
        "array([[ 1.,  3.],\n",
        "       [ 3.,  1.]])"
       ]
      }
     ],
     "prompt_number": 48
    },
    {
     "cell_type": "markdown",
     "metadata": {},
     "source": [
      "In general"
     ]
    },
    {
     "cell_type": "code",
     "collapsed": false,
     "input": [],
     "language": "python",
     "metadata": {},
     "outputs": [],
     "prompt_number": 48
    }
   ],
   "metadata": {}
  }
 ]
}