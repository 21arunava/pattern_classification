{
 "metadata": {
  "name": "",
  "signature": "sha256:dfcbf9c90fff60aa888918e40809dd6971892f417cd517d7996c8be9aed3ee3d"
 },
 "nbformat": 3,
 "nbformat_minor": 0,
 "worksheets": [
  {
   "cells": [
    {
     "cell_type": "code",
     "collapsed": false,
     "input": [
      "%load_ext watermark"
     ],
     "language": "python",
     "metadata": {},
     "outputs": [],
     "prompt_number": 1
    },
    {
     "cell_type": "code",
     "collapsed": false,
     "input": [
      "%watermark -d -v -p scikit-learn,matplotlib,numpy,pandas"
     ],
     "language": "python",
     "metadata": {},
     "outputs": [
      {
       "output_type": "stream",
       "stream": "stdout",
       "text": [
        "19/08/2014 \n",
        "\n",
        "CPython 3.4.1\n",
        "IPython 2.1.0\n",
        "\n",
        "scikit-learn 0.15.0b1\n",
        "matplotlib 1.3.1\n",
        "numpy 1.8.1\n",
        "pandas 0.14.0\n"
       ]
      }
     ],
     "prompt_number": 2
    },
    {
     "cell_type": "markdown",
     "metadata": {},
     "source": [
      "<font size=\"1.5em\">[More information](https://github.com/rasbt/watermark) about the `watermark` magic command extension.</font>"
     ]
    },
    {
     "cell_type": "markdown",
     "metadata": {},
     "source": [
      "<hr>\n",
      "I would be happy to hear your comments and suggestions. \n",
      "Please feel free to drop me a note via\n",
      "[twitter](https://twitter.com/rasbt), [email](mailto:bluewoodtree@gmail.com), or [google+](https://plus.google.com/+SebastianRaschka).\n",
      "<hr>"
     ]
    },
    {
     "cell_type": "heading",
     "level": 1,
     "metadata": {},
     "source": [
      "Predictive Modeling and Statistical Pattern Classification"
     ]
    },
    {
     "cell_type": "heading",
     "level": 2,
     "metadata": {},
     "source": [
      "- Training a Naive Bayes Classifier for Spam Filtering"
     ]
    },
    {
     "cell_type": "markdown",
     "metadata": {},
     "source": [
      "<br>\n",
      "<br>"
     ]
    },
    {
     "cell_type": "heading",
     "level": 2,
     "metadata": {},
     "source": [
      "Sections"
     ]
    },
    {
     "cell_type": "markdown",
     "metadata": {},
     "source": [
      "- [Introduction](#Introduction)\n",
      "    - [Pattern classification and predictive modeling](#Pattern-classification-and-predictive-modeling)\n",
      "    - [A typical workflow for supervised learning](#A-typical-workflow-for-supervised-learning)\n",
      "    - [Naive Bayes classifier](#Naive-Bayes-classifier)\n",
      "    - [Text classification and spam filtering](#Text-classification-and-spam-filtering)\n",
      "- [The SMS Spam dataset](#The-SMS-Spam-dataset)\n",
      "    - [Label Encoder](#Label-Encoder)\n",
      "    - [Test and training datasets](#Preparing-the-test-and-training-dataset)\n",
      "    - [Feature Extraction: Word counts and Vectorizers](#Feature-Extraction:-Word-counts-and-Vectorizers)\n",
      "- [Multinomial naive Bayes classifier](#Multinomial-naive-Bayes-classifier)\n",
      "- [K-fold cross-validation](#K-fold-cross-validation)\n",
      "- [Training and evaluation](#Training-and-evaluation)"
     ]
    },
    {
     "cell_type": "markdown",
     "metadata": {},
     "source": [
      "<br>\n",
      "<br>"
     ]
    },
    {
     "cell_type": "heading",
     "level": 1,
     "metadata": {},
     "source": [
      "Introduction"
     ]
    },
    {
     "cell_type": "markdown",
     "metadata": {},
     "source": [
      "[[back to top](#Sections)]"
     ]
    },
    {
     "cell_type": "markdown",
     "metadata": {},
     "source": [
      "<br>\n",
      "<br>"
     ]
    },
    {
     "cell_type": "heading",
     "level": 2,
     "metadata": {},
     "source": [
      "Pattern classification and predictive modeling"
     ]
    },
    {
     "cell_type": "markdown",
     "metadata": {},
     "source": [
      "[[back to top](#Sections)]"
     ]
    },
    {
     "cell_type": "markdown",
     "metadata": {},
     "source": [
      "![](../../Images/bayes_smsspam/supervised_learning_flowchart.png)"
     ]
    },
    {
     "cell_type": "markdown",
     "metadata": {},
     "source": [
      "<br>\n",
      "<br>"
     ]
    },
    {
     "cell_type": "markdown",
     "metadata": {},
     "source": [
      "<br>\n",
      "<br>"
     ]
    },
    {
     "cell_type": "markdown",
     "metadata": {},
     "source": [
      "<br>\n",
      "<br>"
     ]
    },
    {
     "cell_type": "heading",
     "level": 2,
     "metadata": {},
     "source": [
      "Text classification and spam filtering"
     ]
    },
    {
     "cell_type": "markdown",
     "metadata": {},
     "source": [
      "[[back to top](#Sections)]"
     ]
    },
    {
     "cell_type": "markdown",
     "metadata": {},
     "source": [
      "As mentioned above, text classification\n",
      "\n",
      "In our example, we will define the two class labels \"spam\" and \"ham\" (= not \"spam\") in order to group SMS text messages based on their contents. \n"
     ]
    },
    {
     "cell_type": "heading",
     "level": 2,
     "metadata": {},
     "source": [
      "Naive Bayes classifier"
     ]
    },
    {
     "cell_type": "markdown",
     "metadata": {},
     "source": [
      "[[back to top](#Sections)]"
     ]
    },
    {
     "cell_type": "markdown",
     "metadata": {},
     "source": [
      "- relationship between features and classes is based on Bayes' theorem (probabilities)\n",
      "- decision based on calculating posterior probabilities\n",
      "\n",
      "\n"
     ]
    },
    {
     "cell_type": "markdown",
     "metadata": {},
     "source": [
      "- relationship between features and classes is based on Bayes' theorem (probabilities)\n",
      "- decision based on calculating posterior probabilities\n",
      "\n",
      "\n"
     ]
    },
    {
     "cell_type": "markdown",
     "metadata": {},
     "source": [
      "The abbreviation \"iid\" stands for \"independent and identically distributed\" and describes random variables that are independent from one another and are drawn from a similar probability distribution. Independence means that the probability of one observation does not affect the probability of another variable (e.g., time series and network graphs are not independent).  One popular example of iid would be the tossing of a coin: One coin toss does not affect the outcome of another coin toss, and the probability of the coin landing on either \"heads\" or \"tails\" is the same for every coin toss."
     ]
    },
    {
     "cell_type": "markdown",
     "metadata": {},
     "source": [
      "\\begin{equation} P(\\omega \\, | \\, \\pmb x) = \\frac{P(\\pmb x \\, | \\, \\omega) \\cdot P(\\omega)}{P(\\pmb x)} \\end{equation}\n",
      "\n",
      "with\n",
      "\n",
      "\n"
     ]
    },
    {
     "cell_type": "markdown",
     "metadata": {},
     "source": [
      "\\begin{equation} \\text{posterior probability} = \\frac{\\text{likelihood} \\cdot \\text{prior probibility}}{\\text{evidence}} \\end{equation}"
     ]
    },
    {
     "cell_type": "markdown",
     "metadata": {},
     "source": [
      "\\begin{equation} P(\\omega_j \\, | \\, \\pmb x_i) = \\frac{P(\\pmb x_i \\, | \\, \\omega_j) \\cdot P(\\omega_j)}{P(\\pmb x_i)} \\end{equation}\n",
      "\n",
      "- *$i$ = 1, 2, ..., n* (samples)\n",
      "- *$j$ = 1, 2, ..., m* (class labels)\n",
      "\n",
      "- $\\omega_j$ = class $j$\n",
      "- $\\pmb x_i$ = features of sample $i$ "
     ]
    },
    {
     "cell_type": "markdown",
     "metadata": {},
     "source": [
      "- likelihood = class-conditional probability\n",
      "\n",
      "- prior can be estimated from training data (requires representative sample; independently drawn)"
     ]
    },
    {
     "cell_type": "markdown",
     "metadata": {},
     "source": [
      "\\begin{equation} P(\\text{spam} \\, | \\, \\text{words}) = P(\\text{words} \\, | \\, \\text{spam}) \\cdot P(\\text{spam}) \\\\\n",
      "  P(\\text{ham} \\, | \\, \\text{words}) = P(\\text{words} \\, | \\, \\text{ham}) \\cdot P(\\text{ham})\n",
      "\\end{equation}"
     ]
    },
    {
     "cell_type": "markdown",
     "metadata": {},
     "source": [
      "\\begin{equation} P(\\text{spam} \\, | \\, \\text{words}) >\n",
      "  P(\\text{ham} \\, | \\, \\text{words}) \n",
      "\\end{equation}"
     ]
    },
    {
     "cell_type": "heading",
     "level": 3,
     "metadata": {},
     "source": [
      "Calculating the prior probabilities"
     ]
    },
    {
     "cell_type": "markdown",
     "metadata": {},
     "source": [
      "- iid for samples\n",
      "- naive bayes: independent features"
     ]
    },
    {
     "cell_type": "markdown",
     "metadata": {},
     "source": [
      "\\begin{matrix} P{(\\omega_j)} = \\frac{\\text{number of samples with } \\omega_j=1}{\\text{total number of samples}} \\end{matrix}"
     ]
    },
    {
     "cell_type": "heading",
     "level": 3,
     "metadata": {},
     "source": [
      "Calculating the likelihood"
     ]
    },
    {
     "cell_type": "markdown",
     "metadata": {},
     "source": [
      "Conitional Independence Assumptions for features\n",
      "- allows us to estimate conditional probability for a particular sample given a class label instead of computing the probability from evaluating all possibilities of x.\n",
      "\n",
      "\\begin{equation} P(\\pmb x \\,|\\, \\omega) = \\prod_{k=1}^{d} P(\\pmb x_k \\,|\\, \\omega) \\end{equation}"
     ]
    },
    {
     "cell_type": "heading",
     "level": 3,
     "metadata": {},
     "source": [
      "Calculating the evidence"
     ]
    },
    {
     "cell_type": "markdown",
     "metadata": {},
     "source": [
      "- evidence can be dropped (constant for every class)"
     ]
    },
    {
     "cell_type": "markdown",
     "metadata": {},
     "source": [
      "<br>\n",
      "<br>"
     ]
    },
    {
     "cell_type": "heading",
     "level": 2,
     "metadata": {},
     "source": [
      "Naive Bayes - A toy example"
     ]
    },
    {
     "cell_type": "markdown",
     "metadata": {},
     "source": [
      "Let us consider a simple toy example with the following training set:"
     ]
    },
    {
     "cell_type": "markdown",
     "metadata": {},
     "source": [
      "![](../../Images/bayes_smsspam/toy_dataset_1.png)"
     ]
    },
    {
     "cell_type": "markdown",
     "metadata": {},
     "source": [
      "Let us assume this dataset consists of 2 classes: green circles and blue squares, and each sample has the two attributes: a letter and a plus or minus sign.\n",
      "\n",
      "$\\omega_1$ (class 1) = green circle  \n",
      "$\\omega_2$ (class 2) = blue square\n",
      "\n",
      "$\\pmb x$ (feature vector) = $[x_1, x_2], \\quad$  for $x_1 \\in \\{ A, B, C, D \\}, \\quad x_2 \\in \\{ +, - \\}$      \n",
      "\n",
      " "
     ]
    },
    {
     "cell_type": "markdown",
     "metadata": {},
     "source": [
      "Now, if we were to classify a new sample:\n",
      "![](../../Images/bayes_smsspam/toy_dataset_2.png)"
     ]
    },
    {
     "cell_type": "markdown",
     "metadata": {},
     "source": [
      "Our decision could be formulated as:\n",
      "\n",
      "Classify sample as $\\omega_1$ (class 1, blue square) if   \n",
      "\n",
      "$P(\\omega_1\\,|\\,\\pmb x) \\geq P(\\omega_2\\,|\\,\\pmb x)$  \n",
      "\n",
      "else classify sample as $\\omega_2$ (class 2, green circle), where $\\pmb x$ = (A, +)."
     ]
    },
    {
     "cell_type": "markdown",
     "metadata": {},
     "source": [
      "Our **prior probabilities** could be calculated from the training set as follows:\n",
      "\n",
      "$P(\\omega_1) = \\frac{5}{12} = 0.42$    \n",
      "\n",
      "$P(\\omega_2) = \\frac{7}{12} = 0.58$    \n",
      "\n",
      "And the class-conditional probabilities (likelihoods):\n",
      "\n",
      "$P(\\pmb x \\,| \\, \\omega_1) = P(\\text{\"A\"} \\,| \\, \\omega_1) \\cdot P(\\text{\"+\"} \\,| \\, \\omega_1) = \\frac{2}{5} \\cdot \\frac{2}{5} = 0.16$   \n",
      "\n",
      "$P(\\pmb x \\,| \\, \\omega_2) = P(\\text{\"A\"} \\,| \\, \\omega_2) \\cdot P(\\text{\"+\"} \\,| \\, \\omega_2) = \\frac{3}{7} \\cdot \\frac{4}{7} = 0.24$  "
     ]
    },
    {
     "cell_type": "markdown",
     "metadata": {},
     "source": [
      "And the posterior probabilities"
     ]
    },
    {
     "cell_type": "markdown",
     "metadata": {},
     "source": [
      "$P(\\omega_1\\,|\\,\\pmb x) = P(\\pmb x \\,|\\, \\omega_1) \\cdot P(\\omega_1) = 0.16  \\cdot  0.42 = 0.07$  \n",
      "\n",
      "$P(\\omega_2\\,|\\,\\pmb x) = P(\\pmb x \\,|\\, \\omega_2) \\cdot P(\\omega_2) = 0.24  \\cdot  0.58 = 0.14$"
     ]
    },
    {
     "cell_type": "markdown",
     "metadata": {},
     "source": [
      "And if we apply those values in our decision rule"
     ]
    },
    {
     "cell_type": "markdown",
     "metadata": {},
     "source": [
      "$P(\\omega_1\\,|\\,\\pmb x) \\geq P(\\omega_2\\,|\\,\\pmb x)$  \n",
      "\n",
      "$\\Rightarrow 0.07 > 0.24$  \n",
      "\n",
      "$\\Rightarrow \\text{classify as } \\omega_2$  "
     ]
    },
    {
     "cell_type": "heading",
     "level": 3,
     "metadata": {},
     "source": [
      "Laplace smoothening"
     ]
    },
    {
     "cell_type": "markdown",
     "metadata": {},
     "source": [
      "What happens if we have a sample that has the letter attribute \"C\"? Since the letter \"C\" doesn't occur in our training set, we would run into the problem of a class-conditional probability of 0 which will cause a 0 for the posterior probabilities.\n",
      "\n",
      "$P(\\omega_1\\,|\\,\\pmb x) = 0  \\cdot  0.42 = 0$  \n",
      "\n",
      "$P(\\omega_2\\,|\\,\\pmb x) = 0  \\cdot  0.58 = 0$  \n",
      "\n",
      "In this case, we could apply an additive smoothening for categorical variables, the so-called Laplace smoothening.\n",
      "\n",
      "..."
     ]
    },
    {
     "cell_type": "heading",
     "level": 3,
     "metadata": {},
     "source": [
      "Continuous variables"
     ]
    },
    {
     "cell_type": "markdown",
     "metadata": {},
     "source": [
      "- discretize\n",
      "- or more common: use probability density function (pdf) values. E.g.,  assumption that probability distribution for an attribute follows a normal or Gaussian distribution. (Multinomial in spam-classification) "
     ]
    },
    {
     "cell_type": "markdown",
     "metadata": {},
     "source": [
      "<br>\n",
      "<br>"
     ]
    },
    {
     "cell_type": "markdown",
     "metadata": {},
     "source": [
      "<br>\n",
      "<br>"
     ]
    },
    {
     "cell_type": "heading",
     "level": 1,
     "metadata": {},
     "source": [
      "The SMS Spam dataset"
     ]
    },
    {
     "cell_type": "markdown",
     "metadata": {},
     "source": [
      "[[back to top](#Sections)]"
     ]
    },
    {
     "cell_type": "code",
     "collapsed": false,
     "input": [
      "import pandas as pd\n",
      "\n",
      "df = pd.read_csv(\n",
      "        'https://raw.githubusercontent.com/rasbt/pattern_classification/master/data/sms_spam_collection.txt', \n",
      "        sep='\\t', \n",
      "        header=None)\n",
      "\n",
      "df.columns = ['class', 'text']\n",
      "\n",
      "df.head(3)"
     ],
     "language": "python",
     "metadata": {},
     "outputs": [
      {
       "output_type": "stream",
       "stream": "stderr",
       "text": [
        "/Users/sebastian/miniconda3/envs/py34/lib/python3.4/site-packages/pandas/io/excel.py:626: UserWarning: Installed openpyxl is not supported at this time. Use >=1.6.1 and <2.0.0.\n",
        "  .format(openpyxl_compat.start_ver, openpyxl_compat.stop_ver))\n"
       ]
      },
      {
       "html": [
        "<div style=\"max-height:1000px;max-width:1500px;overflow:auto;\">\n",
        "<table border=\"1\" class=\"dataframe\">\n",
        "  <thead>\n",
        "    <tr style=\"text-align: right;\">\n",
        "      <th></th>\n",
        "      <th>class</th>\n",
        "      <th>text</th>\n",
        "    </tr>\n",
        "  </thead>\n",
        "  <tbody>\n",
        "    <tr>\n",
        "      <th>0</th>\n",
        "      <td> spam</td>\n",
        "      <td> Free entry in 2 a wkly comp to win FA Cup fina...</td>\n",
        "    </tr>\n",
        "    <tr>\n",
        "      <th>1</th>\n",
        "      <td>  ham</td>\n",
        "      <td> Go until jurong point, crazy.. Available only ...</td>\n",
        "    </tr>\n",
        "    <tr>\n",
        "      <th>2</th>\n",
        "      <td>  ham</td>\n",
        "      <td>                     Ok lar... Joking wif u oni...</td>\n",
        "    </tr>\n",
        "  </tbody>\n",
        "</table>\n",
        "</div>"
       ],
       "metadata": {},
       "output_type": "pyout",
       "prompt_number": 3,
       "text": [
        "  class                                               text\n",
        "0  spam  Free entry in 2 a wkly comp to win FA Cup fina...\n",
        "1   ham  Go until jurong point, crazy.. Available only ...\n",
        "2   ham                      Ok lar... Joking wif u oni..."
       ]
      }
     ],
     "prompt_number": 3
    },
    {
     "cell_type": "code",
     "collapsed": false,
     "input": [
      "df.tail(3)"
     ],
     "language": "python",
     "metadata": {},
     "outputs": [
      {
       "html": [
        "<div style=\"max-height:1000px;max-width:1500px;overflow:auto;\">\n",
        "<table border=\"1\" class=\"dataframe\">\n",
        "  <thead>\n",
        "    <tr style=\"text-align: right;\">\n",
        "      <th></th>\n",
        "      <th>class</th>\n",
        "      <th>text</th>\n",
        "    </tr>\n",
        "  </thead>\n",
        "  <tbody>\n",
        "    <tr>\n",
        "      <th>5569</th>\n",
        "      <td> ham</td>\n",
        "      <td> Pity, * was in mood for that. So...any other s...</td>\n",
        "    </tr>\n",
        "    <tr>\n",
        "      <th>5570</th>\n",
        "      <td> ham</td>\n",
        "      <td> The guy did some bitching but I acted like i'd...</td>\n",
        "    </tr>\n",
        "    <tr>\n",
        "      <th>5571</th>\n",
        "      <td> ham</td>\n",
        "      <td>                        Rofl. Its true to its name</td>\n",
        "    </tr>\n",
        "  </tbody>\n",
        "</table>\n",
        "</div>"
       ],
       "metadata": {},
       "output_type": "pyout",
       "prompt_number": 4,
       "text": [
        "     class                                               text\n",
        "5569   ham  Pity, * was in mood for that. So...any other s...\n",
        "5570   ham  The guy did some bitching but I acted like i'd...\n",
        "5571   ham                         Rofl. Its true to its name"
       ]
      }
     ],
     "prompt_number": 4
    },
    {
     "cell_type": "code",
     "collapsed": false,
     "input": [
      "%matplotlib inline"
     ],
     "language": "python",
     "metadata": {},
     "outputs": [],
     "prompt_number": 5
    },
    {
     "cell_type": "code",
     "collapsed": false,
     "input": [
      "from matplotlib import pyplot as plt\n",
      "import numpy as np\n",
      "\n",
      "plt.pie(\n",
      "    (len(df[df['class'] == 'spam']), len(df[df['class'] == 'ham'])),\n",
      "    labels=('spam','ham'),\n",
      "    shadow=True,\n",
      "    colors=('yellowgreen', 'lightskyblue'),\n",
      "    explode=(0,0.15),\n",
      "    startangle=90,\n",
      "    autopct='%1.1f%%',\n",
      "    )\n",
      "plt.legend(fancybox=True)\n",
      "plt.axis('equal')\n",
      "plt.tight_layout()\n",
      "plt.show()"
     ],
     "language": "python",
     "metadata": {},
     "outputs": [
      {
       "metadata": {},
       "output_type": "display_data",
       "png": "[encoded data removed]",
       "text": [
        "<matplotlib.figure.Figure at 0x10ba6b5c0>"
       ]
      }
     ],
     "prompt_number": 128
    },
    {
     "cell_type": "markdown",
     "metadata": {},
     "source": [
      "<br>\n",
      "<br>"
     ]
    },
    {
     "cell_type": "heading",
     "level": 2,
     "metadata": {},
     "source": [
      "Label Encoder"
     ]
    },
    {
     "cell_type": "markdown",
     "metadata": {},
     "source": [
      "[[back to top](#Sections)]"
     ]
    },
    {
     "cell_type": "code",
     "collapsed": false,
     "input": [
      "from sklearn.preprocessing import LabelEncoder\n",
      "\n",
      "X = df['text'].values \n",
      "y = df['class'].values\n",
      "\n",
      "print('before: %s ...' %y[:5])\n",
      "\n",
      "le = LabelEncoder()\n",
      "y = le.fit_transform(y)\n",
      "\n",
      "print('after: %s ...' %y[:5])"
     ],
     "language": "python",
     "metadata": {},
     "outputs": [
      {
       "output_type": "stream",
       "stream": "stdout",
       "text": [
        "before: ['spam' 'ham' 'ham' 'ham' 'ham'] ...\n",
        "after: [1 0 0 0 0] ...\n"
       ]
      }
     ],
     "prompt_number": 16
    },
    {
     "cell_type": "markdown",
     "metadata": {},
     "source": [
      "<br>\n",
      "<br>"
     ]
    },
    {
     "cell_type": "heading",
     "level": 2,
     "metadata": {},
     "source": [
      "Test and training datasets"
     ]
    },
    {
     "cell_type": "markdown",
     "metadata": {},
     "source": [
      "[[back to top](#Sections)]"
     ]
    },
    {
     "cell_type": "code",
     "collapsed": false,
     "input": [
      "from sklearn.cross_validation import train_test_split\n",
      "\n",
      "X_train, X_test, y_train, y_test = train_test_split(X, y, test_size=0.40, random_state=12345)"
     ],
     "language": "python",
     "metadata": {},
     "outputs": [],
     "prompt_number": 17
    },
    {
     "cell_type": "markdown",
     "metadata": {},
     "source": [
      "<br>\n",
      "<br>"
     ]
    },
    {
     "cell_type": "heading",
     "level": 2,
     "metadata": {},
     "source": [
      "Feature Extraction: Word counts and Vectorizers"
     ]
    },
    {
     "cell_type": "markdown",
     "metadata": {},
     "source": [
      "[[back to top](#Sections)]"
     ]
    },
    {
     "cell_type": "code",
     "collapsed": false,
     "input": [
      "from sklearn.feature_extraction.text import TfidfVectorizer,CountVectorizer\n",
      "\n",
      "vec = CountVectorizer().fit(['Hello World, this is a test!'])\n",
      "data1 = vec.transform(['This is a test'])\n",
      "data2 = vec.transform(['Hello World'])"
     ],
     "language": "python",
     "metadata": {},
     "outputs": [],
     "prompt_number": 18
    },
    {
     "cell_type": "code",
     "collapsed": false,
     "input": [
      "print('Features:\\n%s' %vec.get_feature_names())\n",
      "print(\"\\nText 'This is a test':\\n%s\" %data1.toarray())\n",
      "print(\"\\nText 'Hello World':\\n%s\" %data2.toarray())"
     ],
     "language": "python",
     "metadata": {},
     "outputs": [
      {
       "output_type": "stream",
       "stream": "stdout",
       "text": [
        "Features:\n",
        "['hello', 'is', 'test', 'this', 'world']\n",
        "\n",
        "Text 'This is a test':\n",
        "[[0 1 1 1 0]]\n",
        "\n",
        "Text 'Hello World':\n",
        "[[1 0 0 0 1]]\n"
       ]
      }
     ],
     "prompt_number": 19
    },
    {
     "cell_type": "markdown",
     "metadata": {},
     "source": [
      "\"Stop Words are words which do not contain important significance to be used in Search Queries. Usually these words are filtered out from search queries because they return vast amount of unnecessary information. A better definition is provided below:\n",
      "\n",
      "\u201cWords that do not appear in the index in a particular database because they are either insignificant (i.e., articles, prepositions) or so common that the results would be higher than the system can handle (as in the case of IUCAT where terms such as United States or Department are stop words in keyword searching.) Stop words vary from system to system. Also, some systems will merely ignore stop words where use of stop words in other systems will result in retrieving zero hits. \u201d\""
     ]
    },
    {
     "cell_type": "code",
     "collapsed": false,
     "input": [
      "from sklearn.feature_extraction.text import TfidfVectorizer,CountVectorizer\n",
      "\n",
      "vec = CountVectorizer().fit(X)\n",
      "allwords = vec.transform(X)\n",
      "spam = vec.transform(X[y==1])\n",
      "ham = vec.transform(X[y==0])"
     ],
     "language": "python",
     "metadata": {},
     "outputs": [],
     "prompt_number": 20
    },
    {
     "cell_type": "code",
     "collapsed": false,
     "input": [
      "spam_col_sum = np.sum(spam.toarray(), axis=0)\n",
      "spam_count_sorted = sorted([(count,index) for (index,count) in enumerate(spam_col_sum)], reverse=True)\n",
      "\n",
      "ham_col_sum = np.sum(ham.toarray(), axis=0)\n",
      "ham_count_sorted = sorted([(count,index) for (index,count) in enumerate(ham_col_sum)], reverse=True)"
     ],
     "language": "python",
     "metadata": {},
     "outputs": [],
     "prompt_number": 21
    },
    {
     "cell_type": "code",
     "collapsed": false,
     "input": [
      "fig, (ax1, ax2) = plt.subplots(nrows=1, ncols=2, figsize=(8,4))\n",
      "\n",
      "spam_labels = [vec.get_feature_names()[i[1]] for i in spam_count_sorted[:10]]\n",
      "ham_labels = [vec.get_feature_names()[i[1]] for i in ham_count_sorted[:10]]\n",
      "\n",
      "# plot bars\n",
      "x_pos = list(range(len(spam_labels)))\n",
      "\n",
      "ax1.bar(x_pos, \n",
      "        [i[0]/np.sum(spam_col_sum) for i in spam_count_sorted[:10]], \n",
      "        align='center', \n",
      "        alpha=0.5)\n",
      "\n",
      "ax2.bar(x_pos, \n",
      "        [i[0]/np.sum(ham_col_sum) for i in ham_count_sorted[:10]], \n",
      "        align='center', \n",
      "        alpha=0.5)\n",
      "\n",
      "# set axes labels and title\n",
      "ax1.set_ylabel('frequency in total spam text corpus')\n",
      "ax1.set_xticklabels(x_pos, spam_labels)\n",
      "\n",
      "ax2.set_xticklabels(x_pos, ham_labels)\n",
      "ax2.set_ylabel('frequency in total ham text corpus')\n",
      "\n",
      "for ax in (ax1,ax2):\n",
      "    # hiding axis ticks\n",
      "    ax.tick_params(axis=\"both\", which=\"both\", bottom=\"off\", top=\"off\",  \n",
      "            labelbottom=\"on\", left=\"off\", right=\"off\", labelleft=\"on\")\n",
      "\n",
      "    # remove axis spines\n",
      "    ax.spines[\"top\"].set_visible(False)  \n",
      "    ax.spines[\"right\"].set_visible(False) \n",
      "    ax.spines[\"bottom\"].set_visible(False) \n",
      "    ax.spines[\"left\"].set_visible(False)\n",
      "\n",
      "plt.tight_layout()\n",
      "\n",
      "plt.show()"
     ],
     "language": "python",
     "metadata": {},
     "outputs": [
      {
       "metadata": {},
       "output_type": "display_data",
       "png": "[encoded data removed]",
       "text": [
        "<matplotlib.figure.Figure at 0x10bb1a668>"
       ]
      }
     ],
     "prompt_number": 22
    },
    {
     "cell_type": "code",
     "collapsed": false,
     "input": [
      "print('Top 10 spam words:\\n')\n",
      "for i in spam_count_sorted[:10]:\n",
      "    print('%s (%sx)' %(vec.get_feature_names()[i[1]], i[0]))\n",
      "    \n",
      "print('\\nTop 10 ham words:\\n')\n",
      "for i in ham_count_sorted[:10]:\n",
      "    print('%s (%sx)' %(vec.get_feature_names()[i[1]], i[0]))"
     ],
     "language": "python",
     "metadata": {},
     "outputs": [
      {
       "output_type": "stream",
       "stream": "stdout",
       "text": [
        "Top 10 spam words:\n",
        "\n",
        "to (691x)\n",
        "call (355x)\n",
        "you (297x)\n",
        "your (264x)"
       ]
      },
      {
       "output_type": "stream",
       "stream": "stdout",
       "text": [
        "\n",
        "free (224x)\n",
        "the (206x)\n",
        "for (204x)\n",
        "now (199x)"
       ]
      },
      {
       "output_type": "stream",
       "stream": "stdout",
       "text": [
        "\n",
        "or (188x)\n",
        "txt (163x)\n",
        "\n",
        "Top 10 ham words:\n",
        "\n",
        "you (1948x)"
       ]
      },
      {
       "output_type": "stream",
       "stream": "stdout",
       "text": [
        "\n",
        "to (1562x)\n",
        "the (1133x)\n",
        "and (858x)\n",
        "in (823x)"
       ]
      },
      {
       "output_type": "stream",
       "stream": "stdout",
       "text": [
        "\n",
        "me (777x)\n",
        "my (754x)\n",
        "is (739x)"
       ]
      },
      {
       "output_type": "stream",
       "stream": "stdout",
       "text": [
        "\n",
        "it (718x)\n",
        "that (560x)\n"
       ]
      }
     ],
     "prompt_number": 23
    },
    {
     "cell_type": "markdown",
     "metadata": {},
     "source": [
      "\"TfidfVectorizer works like the CountVectorizer, but with a more advanced calculation called Term Frequency Inverse Document Frequency (TF-IDF). This is a statistic for measuring the importance of a word in a document or corpus. Intuitively, it looks for words that are more frequent in the current document, compared with their frequency in the whole corpus of documents. You can see this as a way to normalize the results and avoid words that are too frequent, and thus not useful to characterize the instances.\""
     ]
    },
    {
     "cell_type": "markdown",
     "metadata": {},
     "source": [
      "\"CountVectorizer basically creates a dictionary of words from the text corpus. Then, each instance is converted to a vector of numeric features where each element will be the count of the number of times a particular word appears in the document.\""
     ]
    },
    {
     "cell_type": "markdown",
     "metadata": {},
     "source": [
      "<br>\n",
      "<br>"
     ]
    },
    {
     "cell_type": "heading",
     "level": 1,
     "metadata": {},
     "source": [
      "Multinomial naive Bayes classifier"
     ]
    },
    {
     "cell_type": "markdown",
     "metadata": {},
     "source": [
      "[[back to top](#Sections)]"
     ]
    },
    {
     "cell_type": "markdown",
     "metadata": {},
     "source": [
      "<br>\n",
      "<br>"
     ]
    },
    {
     "cell_type": "heading",
     "level": 1,
     "metadata": {},
     "source": [
      "K-fold cross-validation"
     ]
    },
    {
     "cell_type": "markdown",
     "metadata": {},
     "source": [
      "[[back to top](#Sections)]"
     ]
    },
    {
     "cell_type": "markdown",
     "metadata": {},
     "source": [
      "The model is most commonly evaluated by the empirical error rate, which is calculated by the number of correct classifications (i.e., false postives and false negatives) divided by the number of total classifications. Inversly, the accuracy of a model is calculated by true postives and true negatives / number of total classifications or simply 1-error."
     ]
    },
    {
     "cell_type": "markdown",
     "metadata": {},
     "source": [
      "It is important to note that the test set should only be used once for evaluating the prediction error of a classifier after training it on the training dataset; repetitive evaluations of different models using the same test dataset would be prone to overfitting.\n",
      "A common approach to compare and evaluate different pre-processing techniques and models is cross-validation. Here, we will use a variant called \"k-fold cross-validation\" in order to compare different preprocessing steps and demonstrate the usefulness of a Pipeline.\n",
      "\n"
     ]
    },
    {
     "cell_type": "markdown",
     "metadata": {},
     "source": []
    },
    {
     "cell_type": "code",
     "collapsed": false,
     "input": [
      "from sklearn.naive_bayes import MultinomialNB\n",
      "from sklearn.pipeline import Pipeline"
     ],
     "language": "python",
     "metadata": {},
     "outputs": [],
     "prompt_number": 27
    },
    {
     "cell_type": "code",
     "collapsed": false,
     "input": [
      "clf_1 = Pipeline([\n",
      "    ('vectorizer', CountVectorizer()),\n",
      "    ('classifier', MultinomialNB()),\n",
      "    ])\n",
      "\n",
      "clf_2 = Pipeline([\n",
      "    ('vectorizer', CountVectorizer(ngram_range=(1,2))),\n",
      "    ('classifier', MultinomialNB()),\n",
      "    ])\n",
      "\n",
      "clf_3 = Pipeline([\n",
      "    ('vectorizer', CountVectorizer(ngram_range=(1,3))),\n",
      "    ('classifier', MultinomialNB()),\n",
      "    ])\n",
      "\n",
      "clf_4 = Pipeline([\n",
      "    ('vectorizer', TfidfVectorizer()),\n",
      "    ('classifier', MultinomialNB()),\n",
      "    ])\n",
      "\n",
      "clf_5 = Pipeline([\n",
      "    ('vectorizer', TfidfVectorizer(ngram_range=(1,2))),\n",
      "    ('classifier', MultinomialNB()),\n",
      "    ])\n",
      "\n",
      "clf_6 = Pipeline([\n",
      "    ('vectorizer', TfidfVectorizer(ngram_range=(1,3))),\n",
      "    ('classifier', MultinomialNB()),\n",
      "    ])"
     ],
     "language": "python",
     "metadata": {},
     "outputs": [],
     "prompt_number": 28
    },
    {
     "cell_type": "code",
     "collapsed": false,
     "input": [
      "vec = CountVectorizer(stop_words=\"english\").fit(X)"
     ],
     "language": "python",
     "metadata": {},
     "outputs": [],
     "prompt_number": 29
    },
    {
     "cell_type": "code",
     "collapsed": false,
     "input": [
      "from sklearn.cross_validation import cross_val_score, KFold\n",
      "\n",
      "# Constructing the k-fold cross validation iterator (k=10)  \n",
      "\n",
      "cv = KFold(n=X_train.shape[0],  # total number of samples\n",
      "           n_folds=10,           # number of folds the dataset is divided into\n",
      "           random_state=12345)\n",
      "\n"
     ],
     "language": "python",
     "metadata": {},
     "outputs": [],
     "prompt_number": 30
    },
    {
     "cell_type": "markdown",
     "metadata": {},
     "source": [
      "ACC = (TP + TN) / (TP+TN + FP+FN)"
     ]
    },
    {
     "cell_type": "code",
     "collapsed": false,
     "input": [
      "acc_scores = [\n",
      "    cross_val_score(clf, X_train, y_train, cv=cv, scoring='accuracy')\n",
      "            for clf in [clf_1, clf_2, clf_3, clf_4, clf_5, clf_6]\n",
      "    ]\n",
      "\n",
      "for score,label in zip(acc_scores, \n",
      "                       ['CountVectorizer unigram', \n",
      "                        'CountVectorizer bigram',\n",
      "                        'CountVectorizer trigram', \n",
      "                        'TfidfVectorizer unigram', \n",
      "                        'TfidfVectorizer bigram',\n",
      "                        'TfidfVectorizer trigram'\n",
      "                        ]\n",
      "                       ):\n",
      "    print(\"Accuracy: {:.2%} (+/- {:.2%}), {:}\".format(score.mean(), score.std(), label))"
     ],
     "language": "python",
     "metadata": {},
     "outputs": [
      {
       "output_type": "stream",
       "stream": "stdout",
       "text": [
        "Accuracy: 98.35% (+/- 0.70%), CountVectorizer unigram\n",
        "Accuracy: 98.50% (+/- 0.88%), CountVectorizer bigram\n",
        "Accuracy: 98.30% (+/- 1.04%), CountVectorizer trigram\n",
        "Accuracy: 95.21% (+/- 1.73%), TfidfVectorizer unigram\n",
        "Accuracy: 93.66% (+/- 1.68%), TfidfVectorizer bigram\n",
        "Accuracy: 92.88% (+/- 1.72%), TfidfVectorizer trigram\n"
       ]
      }
     ],
     "prompt_number": 31
    },
    {
     "cell_type": "markdown",
     "metadata": {},
     "source": [
      "<table cellspacing=\"0\" border=\"0\">\n",
      "    <colgroup width=\"60\"></colgroup>\n",
      "    <colgroup span=\"4\" width=\"82\"></colgroup>\n",
      "    <tr>\n",
      "        <td style=\"border-top: 1px solid #c1c1c1; border-bottom: 1px solid #c1c1c1; border-left: 1px solid #c1c1c1; border-right: 1px solid #c1c1c1\" colspan=2 rowspan=2 height=\"44\" align=\"center\" bgcolor=\"#FFFFFF\"><b><font face=\"Helvetica\" size=4><br></font></b></td>\n",
      "        <td style=\"border-top: 1px solid #c1c1c1; border-bottom: 1px solid #c1c1c1; border-left: 1px solid #c1c1c1; border-right: 1px solid #c1c1c1\" colspan=3 align=\"center\" bgcolor=\"#FFFFFF\"><b><font face=\"Helvetica\" size=4>predicted class</font></b></td>\n",
      "        </tr>\n",
      "    <tr>\n",
      "        <td style=\"border-top: 1px solid #c1c1c1; border-bottom: 1px solid #c1c1c1; border-left: 1px solid #c1c1c1; border-right: 1px solid #c1c1c1\" align=\"left\" bgcolor=\"#EEEEEE\"><font face=\"Helvetica\" size=4>0 (=Ham)</font></td>\n",
      "        <td style=\"border-top: 1px solid #c1c1c1; border-bottom: 1px solid #c1c1c1; border-left: 1px solid #c1c1c1; border-right: 1px solid #c1c1c1\" align=\"left\" bgcolor=\"#EEEEEE\"><font face=\"Helvetica\" size=4>1 (=Spam)</font></td>\n",
      "\n",
      "    </tr>\n",
      "    <tr>\n",
      "        <td style=\"border-top: 1px solid #c1c1c1; border-bottom: 1px solid #c1c1c1; border-left: 1px solid #c1c1c1; border-right: 1px solid #c1c1c1\" rowspan=3 height=\"116\" align=\"center\" bgcolor=\"#F6F6F6\"><b><font face=\"Helvetica\" size=4>true class</font></b></td>\n",
      "        <td style=\"border-top: 1px solid #c1c1c1; border-bottom: 1px solid #c1c1c1; border-left: 1px solid #c1c1c1; border-right: 1px solid #c1c1c1\" align=\"left\" bgcolor=\"#EEEEEE\"><font face=\"Helvetica\" size=4>0 (=Ham)</font></td>\n",
      "        <td style=\"border-top: 1px solid #c1c1c1; border-bottom: 1px solid #c1c1c1; border-left: 1px solid #c1c1c1; border-right: 1px solid #c1c1c1\" align=\"left\" bgcolor=\"#99FFCC\"><font face=\"Helvetica\" size=4>True Negative (TN)</font></td>\n",
      "        <td style=\"border-top: 1px solid #c1c1c1; border-bottom: 1px solid #c1c1c1; border-left: 1px solid #c1c1c1; border-right: 1px solid #c1c1c1\" align=\"left\" bgcolor=\"#F6F6F6\"><font face=\"Helvetica\" size=4>False Positive (FP)</font></td>\n",
      "\n",
      "    </tr>\n",
      "    <tr>\n",
      "        <td style=\"border-top: 1px solid #c1c1c1; border-bottom: 1px solid #c1c1c1; border-left: 1px solid #c1c1c1; border-right: 1px solid #c1c1c1\" align=\"left\" bgcolor=\"#EEEEEE\"><font face=\"Helvetica\" size=4>1 (=Spam)</font></td>\n",
      "        <td style=\"border-top: 1px solid #c1c1c1; border-bottom: 1px solid #c1c1c1; border-left: 1px solid #c1c1c1; border-right: 1px solid #c1c1c1\" align=\"left\" bgcolor=\"#FFFFFF\"><font face=\"Helvetica\" size=4>False Negative (FN)</font></td>\n",
      "        <td style=\"border-top: 1px solid #c1c1c1; border-bottom: 1px solid #c1c1c1; border-left: 1px solid #c1c1c1; border-right: 1px solid #c1c1c1\" align=\"left\" bgcolor=\"#99FFCC\"><font face=\"Helvetica\" size=4>True Positive (TP)</font></td>\n",
      "\n",
      "    </tr>\n",
      "\n",
      "</table>"
     ]
    },
    {
     "cell_type": "markdown",
     "metadata": {},
     "source": [
      "Compute the precision\n",
      "The precision is the ratio tp / (tp + fp) where tp is the number of true positives and fp the number of false positives. The precision is intuitively the ability of the classifier not to label as positive a sample that is negative"
     ]
    },
    {
     "cell_type": "markdown",
     "metadata": {},
     "source": [
      "PREC tp / (tp + fp)\n",
      "\"The precision is intuitively the ability of the classifier not to label as positive a sample that is negative.\"\n",
      "\"\"of all things that were labeled as spam, how many were actually spam?\"\"\n",
      "\n",
      "RECALL tp / (tp + fn)\n",
      "\"recall is intuitively the ability of the classifier to find all the positive samples.\"\n",
      "\"\"of all the things that are truly spam, how many did we label?\"\""
     ]
    },
    {
     "cell_type": "code",
     "collapsed": false,
     "input": [
      "prec_recall_scores = [\n",
      "    (cross_val_score(clf, X_train, y_train, cv=cv, scoring='precision'),\n",
      "    cross_val_score(clf, X_train, y_train, cv=cv, scoring='recall'))\n",
      "            for clf in [clf_1, clf_2, clf_3, clf_4, clf_5, clf_6]\n",
      "    ]\n",
      "\n",
      "for score,label in zip(prec_recall_scores, \n",
      "                       ['CountVectorizer unigram', \n",
      "                        'CountVectorizer bigram',\n",
      "                        'CountVectorizer trigram', \n",
      "                        'TfidfVectorizer unigram', \n",
      "                        'TfidfVectorizer bigram',\n",
      "                        'TfidfVectorizer trigram'\n",
      "                        ]\n",
      "                       ):\n",
      "    print(\"Precision: {:.2%} (+/- {:.2%}), {:}\".format(score[0].mean(), score[0].std(), label))\n",
      "    print(\"Recall: {:.2%} (+/- {:.2%}), {:}\\n\".format(score[1].mean(), score[1].std(), label))"
     ],
     "language": "python",
     "metadata": {},
     "outputs": [
      {
       "output_type": "stream",
       "stream": "stdout",
       "text": [
        "Precision: 96.51% (+/- 2.81%), CountVectorizer unigram\n",
        "Recall: 91.07% (+/- 4.78%), CountVectorizer unigram\n",
        "\n",
        "Precision: 99.74% (+/- 0.77%), CountVectorizer bigram\n",
        "Recall: 89.41% (+/- 4.80%), CountVectorizer bigram\n",
        "\n",
        "Precision: 99.74% (+/- 0.77%), CountVectorizer trigram\n",
        "Recall: 87.88% (+/- 5.82%), CountVectorizer trigram\n",
        "\n",
        "Precision: 100.00% (+/- 0.00%), TfidfVectorizer unigram\n",
        "Recall: 64.39% (+/- 7.70%), TfidfVectorizer unigram\n",
        "\n",
        "Precision: 100.00% (+/- 0.00%), TfidfVectorizer bigram\n",
        "Recall: 52.20% (+/- 6.07%), TfidfVectorizer bigram\n",
        "\n",
        "Precision: 100.00% (+/- 0.00%), TfidfVectorizer trigram\n",
        "Recall: 46.25% (+/- 4.76%), TfidfVectorizer trigram\n",
        "\n"
       ]
      }
     ],
     "prompt_number": 32
    },
    {
     "cell_type": "code",
     "collapsed": false,
     "input": [
      "from sklearn.naive_bayes import GaussianNB\n",
      "\n",
      "clf_7 = Pipeline([\n",
      "    ('vectorizer', CountVectorizer(ngram_range=(1,2), stop_words='english')),\n",
      "    ('classifier', MultinomialNB()),\n",
      "    ])\n",
      "\n",
      "clf_8 = Pipeline([\n",
      "    ('vectorizer', TfidfVectorizer(ngram_range=(1,2), stop_words='english')),\n",
      "    ('classifier', MultinomialNB()),\n",
      "    ])"
     ],
     "language": "python",
     "metadata": {},
     "outputs": [],
     "prompt_number": 69
    },
    {
     "cell_type": "code",
     "collapsed": false,
     "input": [
      "prec_recall_scores = [\n",
      "    (cross_val_score(clf, X_train, y_train, cv=cv, scoring='precision'),\n",
      "     cross_val_score(clf, X_train, y_train, cv=cv, scoring='recall'))\n",
      "            for clf in [clf_2, clf_7, clf_5, clf_8]\n",
      "    ]\n",
      " \n",
      "for score,label in zip(prec_recall_scores, \n",
      "                       [\n",
      "                        'CountVectorizer bigram',\n",
      "                        'CountVectorizer bigram w. stop words',\n",
      "                        'TfidfVectorizer bigram',\n",
      "                        'TfidfVectorizer bigram w. stop words',\n",
      "                        ]\n",
      "                       ):\n",
      "    print(\"Precision: {:.2%} (+/- {:.2%}), {:}\".format(score[0].mean(), score[0].std(), label))\n",
      "    print(\"Recall: {:.2%} (+/- {:.2%}), {:}\\n\".format(score[1].mean(), score[1].std(), label))"
     ],
     "language": "python",
     "metadata": {},
     "outputs": [
      {
       "output_type": "stream",
       "stream": "stdout",
       "text": [
        "Precision: 100.00% (+/- 0.00%), CountVectorizer bigram\n",
        "Recall: 88.60% (+/- 3.58%), CountVectorizer bigram\n",
        "\n",
        "Precision: 97.96% (+/- 1.69%), CountVectorizer bigram w. stop words\n",
        "Recall: 89.73% (+/- 3.97%), CountVectorizer bigram w. stop words\n",
        "\n",
        "Precision: 100.00% (+/- 0.00%), TfidfVectorizer bigram\n",
        "Recall: 47.63% (+/- 4.59%), TfidfVectorizer bigram\n",
        "\n",
        "Precision: 100.00% (+/- 0.00%), TfidfVectorizer bigram w. stop words\n",
        "Recall: 62.77% (+/- 6.53%), TfidfVectorizer bigram w. stop words\n",
        "\n"
       ]
      }
     ],
     "prompt_number": 70
    },
    {
     "cell_type": "markdown",
     "metadata": {},
     "source": [
      "<br>\n",
      "<br>"
     ]
    },
    {
     "cell_type": "heading",
     "level": 1,
     "metadata": {},
     "source": [
      "Training and evaluation"
     ]
    },
    {
     "cell_type": "markdown",
     "metadata": {},
     "source": [
      "[[back to top](#Sections)]"
     ]
    },
    {
     "cell_type": "code",
     "collapsed": false,
     "input": [
      "clf_2.fit(X_train, y_train)\n",
      "pred = clf_2.predict(X_test)"
     ],
     "language": "python",
     "metadata": {},
     "outputs": [],
     "prompt_number": 72
    },
    {
     "cell_type": "code",
     "collapsed": false,
     "input": [
      "from sklearn.metrics import confusion_matrix\n",
      "\n",
      "cm = confusion_matrix(y_test, y_pred)\n",
      "\n",
      "fig = plt.figure(figsize=(6,6))\n",
      "ax = plt.subplot(111) \n",
      "\n",
      "cax = ax.matshow(cm)\n",
      "\n",
      "fig.colorbar(cax)\n",
      "\n",
      "ax.set_ylabel('True label')\n",
      "ax.set_xlabel('Predicted label')\n",
      "ax.set_xticklabels(['', 'ham', 'spam'])\n",
      "ax.set_yticklabels(['', 'ham', 'spam'])\n",
      "\n",
      "plt.title('Confusion matrix')\n",
      "plt.show()\n",
      "\n",
      "print(cm)"
     ],
     "language": "python",
     "metadata": {},
     "outputs": [
      {
       "metadata": {},
       "output_type": "display_data",
       "png": "[encoded data removed]",
       "text": [
        "<matplotlib.figure.Figure at 0x109ab9748>"
       ]
      },
      {
       "output_type": "stream",
       "stream": "stdout",
       "text": [
        "[[1913    7]\n",
        " [  34  275]]\n"
       ]
      }
     ],
     "prompt_number": 103
    },
    {
     "cell_type": "code",
     "collapsed": false,
     "input": [
      "from sklearn.metrics import accuracy_score, recall_score, precision_score\n",
      "\n",
      "for score in [accuracy_score, recall_score, precision_score]:\n",
      "    print('%s: %s' %(score.__name__, score(y_test, y_pred)))"
     ],
     "language": "python",
     "metadata": {},
     "outputs": [
      {
       "output_type": "stream",
       "stream": "stdout",
       "text": [
        "accuracy_score: 0.981606101391\n",
        "recall_score: 0.88996763754\n",
        "precision_score: 0.975177304965\n"
       ]
      }
     ],
     "prompt_number": 126
    },
    {
     "cell_type": "markdown",
     "metadata": {},
     "source": [
      "<br>\n",
      "<br>"
     ]
    },
    {
     "cell_type": "heading",
     "level": 1,
     "metadata": {},
     "source": [
      "ROC curve"
     ]
    },
    {
     "cell_type": "markdown",
     "metadata": {},
     "source": [
      "[[back to top](#Sections)]"
     ]
    },
    {
     "cell_type": "code",
     "collapsed": false,
     "input": [
      "from sklearn.metrics import roc_curve, auc\n",
      "probas_ = clf_2.fit(X_train, y_train).predict_proba(X_test)\n",
      "fpr, tpr, thresholds = roc_curve(y_test, probas_[:, 1], pos_label=1)\n",
      "roc_auc = auc(fpr, tpr)\n",
      "\n",
      "plt.xlabel('False Positive Rate')\n",
      "plt.ylabel('True Positive Rate')\n",
      "plt.title('Receiver operating characteristic (ROC)')\n",
      "\n",
      "plt.plot(fpr, tpr, lw=1, label='ROC fold %d (area = %0.2f)' % (i, roc_auc))\n",
      "\n",
      "plt.show()"
     ],
     "language": "python",
     "metadata": {},
     "outputs": [
      {
       "metadata": {},
       "output_type": "display_data",
       "png": "[encoded data removed]",
       "text": [
        "<matplotlib.figure.Figure at 0x105f84a90>"
       ]
      }
     ],
     "prompt_number": 112
    },
    {
     "cell_type": "code",
     "collapsed": false,
     "input": [],
     "language": "python",
     "metadata": {},
     "outputs": []
    }
   ],
   "metadata": {}
  }
 ]
}