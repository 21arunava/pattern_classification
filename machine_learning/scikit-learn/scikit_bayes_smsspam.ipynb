{
 "metadata": {
  "name": "",
  "signature": "sha256:dfd10e22b426ed803dad4086cc9cb057fbb4a0d47d91ca39b40bfdedee567e3e"
 },
 "nbformat": 3,
 "nbformat_minor": 0,
 "worksheets": [
  {
   "cells": [
    {
     "cell_type": "code",
     "collapsed": false,
     "input": [
      "%load_ext watermark"
     ],
     "language": "python",
     "metadata": {},
     "outputs": [],
     "prompt_number": 1
    },
    {
     "cell_type": "code",
     "collapsed": false,
     "input": [
      "%watermark -d -v -p scikit-learn,matplotlib,numpy,pandas"
     ],
     "language": "python",
     "metadata": {},
     "outputs": [
      {
       "output_type": "stream",
       "stream": "stdout",
       "text": [
        "02/09/2014 \n",
        "\n",
        "CPython 3.4.1\n",
        "IPython 2.0.0\n",
        "\n",
        "scikit-learn 0.15.1\n",
        "matplotlib 1.3.1\n",
        "numpy 1.8.2\n",
        "pandas 0.14.0\n"
       ]
      }
     ],
     "prompt_number": 2
    },
    {
     "cell_type": "markdown",
     "metadata": {},
     "source": [
      "<font size=\"1.5em\">[More information](https://github.com/rasbt/watermark) about the `watermark` magic command extension.</font>"
     ]
    },
    {
     "cell_type": "markdown",
     "metadata": {},
     "source": [
      "<hr>\n",
      "I would be happy to hear your comments and suggestions. \n",
      "Please feel free to drop me a note via\n",
      "[twitter](https://twitter.com/rasbt), [email](mailto:se.raschka@gmail.com), or [google+](https://plus.google.com/+SebastianRaschka).\n",
      "<hr>"
     ]
    },
    {
     "cell_type": "heading",
     "level": 1,
     "metadata": {},
     "source": [
      "Naive Bayes classifiers in detail"
     ]
    },
    {
     "cell_type": "heading",
     "level": 2,
     "metadata": {},
     "source": [
      "- Training a model for spam filtering"
     ]
    },
    {
     "cell_type": "markdown",
     "metadata": {},
     "source": [
      "<br>\n",
      "<br>"
     ]
    },
    {
     "cell_type": "heading",
     "level": 1,
     "metadata": {},
     "source": [
      "Sections"
     ]
    },
    {
     "cell_type": "markdown",
     "metadata": {},
     "source": [
      "- [Introduction](#Introduction)\n",
      "- [Naive Bayes classifier](#Naive-Bayes-classifier)\n",
      "    - [Overview](#Overview)\n",
      "    - [Posterior probabilities](#Posterior-probabilities)\n",
      "    - [Class-conditional probabilities](#Class-conditional-probabilities)\n",
      "    - [Prior probabilities](#Prior-probabilities)\n",
      "    - [Evidence](#Evidence)\n",
      "    - [Multinomial Naive Bayes - A toy example](#Multinomial-naive-Bayes-A-toy-example)\n",
      "        - [Additive smoothening](#Additive-smoothening)\n",
      "    - [Naive Bayes and text classfication](#Naive-Bayes-and-text-classfication)\n",
      "        - [Mutli-variate Bernoulli naive Bayes](#Mutli-variate-Bernoulli-naive-Bayes)\n",
      "        - [Multinomial naive Bayes](#Multinomial-naive-Bayes)\n",
      "    - [Variants of the naive Bayes model](#Variants-of-the-naive-Bayes-model)\n",
      "    - [Eager and lazy learning algorithms](#Eager-and-lazy-learning-algorithms)\n",
      "- [Application - The SMS spam dataset](#Application-The-SMS-spam-dataset)\n",
      "    - [Label Encoder](#Label-encoder)\n",
      "    - [Test and training datasets](#Test-and-training-datasets)\n",
      "    - [Feature extraction: Word counts and Vectorizers](#Feature-extraction:-Word-counts-and-Vectorizers)\n",
      "    - [K-fold cross-validation and evaluation metrics](#K-fold-cross-validation-and-evaluation-metrics)\n",
      "        - [Accuracy](#Accuracy)\n",
      "        - [Confusion matrix](#Confusion-matrix)\n",
      "        - [Precision and recall](#Precision-and-recall)\n",
      "        - [Receiver Operator Characteristics - ROC Curves](Receiver-Operator-Characteristics-ROC-Curves)\n",
      "        - [Hyperparameter tuning and Grid Search](#Hyperparameter-tuning-and-Grid-Search)\n",
      "    - [Training and evaluation](#Training-and-evaluation)\n",
      "- [Further readings](#Further-readings)"
     ]
    },
    {
     "cell_type": "markdown",
     "metadata": {},
     "source": [
      "<br>\n",
      "<br>"
     ]
    },
    {
     "cell_type": "heading",
     "level": 1,
     "metadata": {},
     "source": [
      "Introduction"
     ]
    },
    {
     "cell_type": "markdown",
     "metadata": {},
     "source": [
      "[[back to top](#Sections)]"
     ]
    },
    {
     "cell_type": "markdown",
     "metadata": {},
     "source": [
      "Starting more than half a century ago, scientists became very serious about addressing the question: \"Can we build a model that learns from available data and automatically makes the right decisions and predictions?\" Looking back, this sounds almost like a rhetoric question, and the answer can be found in enumerous applications that are emerging from the fields of pattern classification, machine learning, and artificial intelligence.  \n",
      "\n",
      "Data from various sensoring devices, combined with powerful learning algorithms and domain knowledge led to many great inventions that we now take for granted in our everyday life: Internet queries via search engines like Google, text recognition at the post office, barcode scanners at the supermarket, the diagnosis of diseases, speech recognition by Siri or Google Now on our mobile phone, just to name a few.\n",
      "\n",
      "One of the sub-fiels of predictive modeling is supervised pattern classification; supervised pattern classification is the task of training a model based on labeled training data, which then can be used to assign a pre-defined class label to new objects. One example that we will explore throughout this article is spam filtering via naive Bayes classifiers in order to predict whether a new text message can be categorized as spam or not-spam.\n",
      "Naive Bayes classifiers, a family of classifiers that are based on the popular Bayes' probability theorem, are known for creating simple yet well performing models, especially in the fields of document classification and disease prediction.\n",
      "\n",
      "![](../../Images/bayes_smsspam/learning_algorithm_1.png)\n",
      "\n",
      "A more detailed overview of predictive modeling can be found in my previous article [Predictive modeling, supervised machine learning, and pattern classification - the big picture](http://sebastianraschka.com/Articles/2014_intro_supervised_learning.html). \n"
     ]
    },
    {
     "cell_type": "markdown",
     "metadata": {},
     "source": [
      "<br>\n",
      "<br>"
     ]
    },
    {
     "cell_type": "heading",
     "level": 1,
     "metadata": {},
     "source": [
      "Naive Bayes classifier"
     ]
    },
    {
     "cell_type": "markdown",
     "metadata": {},
     "source": [
      "[[back to top](#Sections)]"
     ]
    },
    {
     "cell_type": "markdown",
     "metadata": {},
     "source": [
      "<br>\n",
      "<br>"
     ]
    },
    {
     "cell_type": "heading",
     "level": 2,
     "metadata": {},
     "source": [
      "Overview"
     ]
    },
    {
     "cell_type": "markdown",
     "metadata": {},
     "source": [
      "[[back to top](#Sections)]"
     ]
    },
    {
     "cell_type": "markdown",
     "metadata": {},
     "source": [
      "Naive Bayes classifiers are linear classifiers that are known for being simple yet very efficient. The probablistic model of naive Bayes classifiers is based on Bayes' theorem and the adjective \"naive\" comes from the the assumption that the features in a dataset are mutually independent. In practice, the independence assumption is often violated, but naive Bayes classifiers still tend to perform very well under this unrealistic assumption<sup>1</sup>. Especially for small sample sizes, naive Bayes classifiers can outperform the more powerful alternatives<sup>2</sup>."
     ]
    },
    {
     "cell_type": "markdown",
     "metadata": {},
     "source": [
      "Being relatively robust, easy to implement, fast, and accurate, naive Bayes classifiers are used in many different fields. Some examples include the diagnosis of diseases and making decisions about treatment processes<sup>3</sup>, the classification of RNA sequences in taxonomic studies<sup>4</sup>, and spam filtering in e-mail clients<sup>5</sup>.  \n",
      "However, strong violations of the independence assumptions and non-linear classification problems can lead to very poor performances of naive Bayes classifiers.  \n",
      "We have to keep in mind that the type of data and the type problem to be solved dictate which classification model we want to choose. In practice, it is always recommended - if possible - to compare different classification models on the particular dataset and consider the prediction performances as well as computational efficiency. \n",
      "\n",
      "**In the following sections, we will take a closer look at the probability model of the naive Bayes classifier and apply the concept to a simple toy problem. Later, we will use a publicly available SMS (text message) collection to train a naive Bayes classifier in Python that allows us to classify unseen messages as spam or ham.**\n",
      "\n",
      "![](../../Images/bayes_smsspam/linear_vs_nonlinear_problems.png)\n"
     ]
    },
    {
     "cell_type": "markdown",
     "metadata": {},
     "source": [
      "<hr>\n",
      "\n",
      "<sup>1</sup> Rish, Irina. 2001. \"[An Empirical Study of the Naive Bayes Classifier.](http://www.citeulike.org/user/JoSeK/article/352583)\" In IJCAI 2001 Workshop on Empirical Methods in Artificial Intelligence, 3:41\u201346. \n",
      "\n",
      "<sup>2</sup> Domingos, Pedro, and Michael Pazzani. 1997. \"[On the Optimality of the Simple Bayesian Classifier under Zero-One Loss.](http://link.springer.com/article/10.1023%2FA%3A1007413511361#page-1)\" Machine Learning 29 (2-3): 103\u201330. doi:10.1023/A:1007413511361.\n",
      "\n",
      "<sup>3</sup> Kazmierska, Joanna, and Julian Malicki. 2008. \"[Application of the Na\u00efve Bayesian Classifier to Optimize Treatment Decisions.](http://www.sciencedirect.com/science/article/pii/S0167814007005221)\" Radiotherapy and Oncology 86 (2): 211\u201316. doi:10.1016/j.radonc.2007.10.019.\n",
      "\n",
      "<sup>4</sup> Wang, Q., G. M. Garrity, J. M. Tiedje, and J. R. Cole. 2007. \"[Naive Bayesian Classifier for Rapid Assignment of rRNA Sequences into the New Bacterial Taxonomy.](http://aem.asm.org/content/73/16/5261.abstract)\" Applied and Environmental Microbiology 73 (16): 5261\u201367. doi:10.1128/AEM.00062-07.\n",
      "\n",
      "<sup>5</sup> Sahami, Mehran, Susan Dumais, David Heckerman, and Eric Horvitz. 1998. \"[A Bayesian Approach to Filtering Junk E-Mail.](http://citeseerx.ist.psu.edu/viewdoc/summary?doi=10.1.1.48.1254)\" In Learning for Text Categorization: Papers from the 1998 Workshop, 62:98\u2013105.\n",
      "\n",
      "\n",
      "\n",
      "\n",
      "\n",
      "\n",
      "\n",
      "\n",
      "\n",
      "\n",
      "<hr>"
     ]
    },
    {
     "cell_type": "markdown",
     "metadata": {},
     "source": [
      "<br>\n",
      "<br>"
     ]
    },
    {
     "cell_type": "heading",
     "level": 2,
     "metadata": {},
     "source": [
      "Posterior probabilities"
     ]
    },
    {
     "cell_type": "markdown",
     "metadata": {},
     "source": [
      "[[back to top](#Sections)]"
     ]
    },
    {
     "cell_type": "markdown",
     "metadata": {},
     "source": [
      "In order to understand how naive Bayes classifiers work, we have to briefly recapitulate the concept of Bayesian probabilities.\n",
      "The probability model that was formulated by Thomas Bayes (1701-1761) is quite simple yet powerful; we can write in down in simple words as follows:"
     ]
    },
    {
     "cell_type": "markdown",
     "metadata": {},
     "source": [
      "\\begin{equation} \\text{posterior probability} = \\frac{\\text{conditional probability} \\cdot \\text{prior probibility}}{\\text{evidence}} \\end{equation}"
     ]
    },
    {
     "cell_type": "markdown",
     "metadata": {},
     "source": [
      "This theorem forms the core of the whole concept of naive Bayes classficiation. If we expressed the posterior probability in the context of a classification problem, our question would be: \"For a particular object, what is the probability that this object belongs to class *i* given its observed feature values?\"\n",
      "\n",
      "A very simple example could be, \"What is the probability that a person has diabetes, given a certain value for a pre-breakfast blood glucose measurement and a certain value for a post-breakfast blood glucose measurement?\"\n",
      "\n",
      "\n",
      "$P(\\text{diabetes} \\mid \\pmb x_i) \\;, \\quad \\pmb x_i = [90 \\text{mg/dl}, 145 \\text{mg/dl}]$\n",
      "\n",
      "We can express it more mathematically as:"
     ]
    },
    {
     "cell_type": "markdown",
     "metadata": {},
     "source": [
      "\\begin{equation} P(\\omega_j \\mid \\pmb x_i) = \\frac{P(\\pmb x_i \\mid \\omega_j) \\cdot P(\\omega_j)}{P(\\pmb x_i)} \\end{equation}\n",
      "\n",
      "where \n",
      "\n",
      "- *$i$ = 1, 2, ..., n* (sample number)\n",
      "- *$j$ = 1, 2, ..., m* (class label)\n",
      "\n",
      "- $\\omega_j$ = class $j$\n",
      "- $\\pmb x_i$ = features of sample $i$ \n",
      "- $P(\\pmb x_i \\mid \\omega_j)$ = probability of observing $\\pmb x_i$ given $\\omega_j$"
     ]
    },
    {
     "cell_type": "markdown",
     "metadata": {},
     "source": [
      "In the naive Bayes probability model we classify objects based on the most probable hypothesis. Typically, we use the so-called Maximum A Posteriori (MAP) estimation to formulate a decision rule given the training data. In other words, we assign an observation $\\pmb x_i$ to the class $\\omega_j$ that has the largest posterior probability:\n",
      "\n",
      "\\begin{equation} \\text{predicted class label} \\leftarrow \\underset{j = 1 ..., m} {\\text{arg max}} \\; P(\\omega_{j} \\mid \\pmb x_i)   \\end{equation}\n",
      "\n",
      "In contrast to a Maximum Likelihood (ML) for parameter estimation, the MAP allows us to incorporate an evidence and prior knowledge in order to make a prediction (more about the terms evidence and prior probability later).\n",
      "\n",
      "To continue with our example above, we can formulate the decision rule based on the posterior probabilities as follows:\n",
      "\n",
      "\\begin{equation} \\text{person has diabetes if} \\\\\n",
      "P(\\text{diabetes} \\mid \\pmb x_i) \\ge P(\\text{not-diabetes} \\mid \\pmb x_i) \\\\\n",
      "\\text{else classify person as healthy}.\\end{equation}"
     ]
    },
    {
     "cell_type": "markdown",
     "metadata": {},
     "source": [
      "<br>\n",
      "<br>"
     ]
    },
    {
     "cell_type": "heading",
     "level": 2,
     "metadata": {},
     "source": [
      "Class-conditional probabilities"
     ]
    },
    {
     "cell_type": "markdown",
     "metadata": {},
     "source": [
      "[[back to top](#Sections)]"
     ]
    },
    {
     "cell_type": "markdown",
     "metadata": {},
     "source": [
      "Bayes classifiers makes the important assumption that our samples are ***i.i.d.***  \n",
      "The abbreviation \"i.i.d.\" stands for \"independent and identically distributed\" and describes random variables that are independent from one another and are drawn from a similar probability distribution. Independence means that the probability of one observation does not affect the probability of another observation (e.g., time series and network graphs are not independent).  One popular example of \"i.i.d.\" variables would be the tossing of a coin: The first coin flip does not affect the outcome of a second coin flip and so forth. E.g., the probability of a fair coin landing on \"heads\" is always 0.5 no matter how often we'd flip the coin.\n",
      "\n",
      "An additional (\"naive\") assumption is the \"conditional independence\" of the features; this assumptions allows us to estimate the class-conditional probabilities, which are often also called \"likelihoods\", for a particular sample directly from the training data instead of evaluating all possibilities of ***x***.\n",
      "\n",
      "So, given an d-dimensional feature vector ***x***, we can calculate the class conditional probability as follows:"
     ]
    },
    {
     "cell_type": "markdown",
     "metadata": {},
     "source": [
      "\\begin{equation} P(\\pmb x \\mid \\omega_j) = P(x_1 \\mid \\omega_j) \\cdot P(x_2 \\mid \\omega_j) \\cdot \\ldots \\cdot P(x_d \\mid \\omega_j) =  \\prod_{k=1}^{d} P( x_k \\mid \\omega_j) \\end{equation}"
     ]
    },
    {
     "cell_type": "markdown",
     "metadata": {},
     "source": [
      "Where $P(\\pmb x \\mid \\omega_j)$ simply means: \"How likely is it to observe this particular pattern $\\pmb x$ given that it belongs to class $\\omega_j$?\""
     ]
    },
    {
     "cell_type": "markdown",
     "metadata": {},
     "source": [
      "And the \"individual\" likelihoods for every feature in the feature vector can be estimated via the Maximum Likelihood Estimate. E.g., in case of categorical data:\n",
      "    \n",
      "\\begin{equation} \\hat{P}(x_i \\mid \\omega_j) = \\frac{N_{i,c}}{N_i}  \\quad (i = (1, ..., d))\\end{equation}\n",
      "\n",
      "- $N_{i,c}$: Count of observing feature $x_i$ in class $\\omega_j$.\n",
      "- $N_ic$: Count of observing feature $x_i$ in all classes.$"
     ]
    },
    {
     "cell_type": "markdown",
     "metadata": {},
     "source": [
      "To illustrate this concept with an example, let's assume that we have a collection of 500 documents where 100 documents are spam messages. Now, we want to calculate the class-conditional probability for a new message \"Hello World\" given that it is \"spam.\"\n",
      "Here, our pattern consists of two features: \"hello\" and \"world,\" and we can calculate the class-conditional probability as product of the \"probability of encountering 'hello' given the message is spam\" and the \"probability of encountering 'world' given the message is 'spam'.\""
     ]
    },
    {
     "cell_type": "markdown",
     "metadata": {},
     "source": [
      "\\begin{equation} P(\\pmb x=[\\text{'hello', 'world'}] \\mid \\omega=\\text{'spam'}) = P(\\text{'hello'} \\mid \\text{'spam'}) \\cdot P(\\text{'world'} \\mid \\text{'spam'}) \\end{equation}"
     ]
    },
    {
     "cell_type": "markdown",
     "metadata": {},
     "source": [
      "Using the training dataset of 500 documents, we can use the Maximum Likelihood Estimate to estimate those probabilities: We'd simply calculate how often the words occur in the spam messages. E.g., "
     ]
    },
    {
     "cell_type": "markdown",
     "metadata": {},
     "source": [
      "\\begin{equation} \\hat{P}(\\pmb x=[\\text{'hello', 'world'}] \\mid \\omega=\\text{'spam'}) = \\frac{20}{100} \\cdot \\frac{2}{100} = 0.004 \\end{equation}"
     ]
    },
    {
     "cell_type": "markdown",
     "metadata": {},
     "source": [
      "<br>"
     ]
    },
    {
     "cell_type": "markdown",
     "metadata": {},
     "source": [
      "However, recalling the \"naive\" assumption of conditional independence, we notice a problem here. Our assumption is that a particular word does not influence the probabilities of encountering other words in the same document. Taking the two words  \"peanut\" and \"butter\" as an example, it is intuitive to say that this assumption is obviously violated: If a text contains the word \"peanut\" it becomes more likely that it also contains the word \"butter.\"\n",
      "\n",
      "In practice, the conditional independence assumption is indeed often violated, but naive Bayes classifiers are known to perform still well in those cases (Zhang, Harry. 2004. \"[The Optimality of Naive Bayes.](http://www.aaai.org/Papers/FLAIRS/2004/Flairs04-097.pdf)\" AA 1 (2): 3)."
     ]
    },
    {
     "cell_type": "markdown",
     "metadata": {},
     "source": [
      "<br>\n",
      "<br>"
     ]
    },
    {
     "cell_type": "heading",
     "level": 2,
     "metadata": {},
     "source": [
      "Prior probabilities"
     ]
    },
    {
     "cell_type": "markdown",
     "metadata": {},
     "source": [
      "[[back to top](#Sections)]"
     ]
    },
    {
     "cell_type": "markdown",
     "metadata": {},
     "source": [
      "In contrast to a frequentist's approach, the concept of Bayesian inference introduces an additional prior probability (short: prior) that can be interpreted as a prior belief of *a priori* knowledge.\n",
      "\n",
      "\\begin{equation} \\text{posterior probability} = \\frac{\\text{conditional probability} \\cdot \\text{prior probibility}}{\\text{evidence}} \\end{equation}\n",
      "\n",
      "In the case of pattern classification, the prior probabilities are also called class priors, or in other words: \"The general probability of encountering a particular class.\" In the case of spam classification, the priors could be formulated as $P(\\text{spam})$=\"the probability that any new message is a spam message\" and $P(\\text{ham})= 1-P(\\text{spam})$.\n",
      "\n",
      "Note that if we would choose uniform priors, the posterior probabilities were be entirely determined by the class-conditional probabilities and the evidence term. And since the evidence term is a constant, the decision rule in this case depends  on the class-conditional probabilities, which is similar to a Maximum Likelihood Estimate.\n",
      "\n",
      "\n",
      "We can obtain this *a priori* knowledge e.g., by consulting a domain expert or estimate it from the training data (assuming that the training data is i.i.d. and a representative sample of the entire population. For example, a Maximum Likelihood Estimate approach would be:\n",
      "\n",
      "\\begin{equation} \\hat{P}(\\omega_j) = \\frac{N_{\\omega_j}}{N_c}  \\end{equation}\n",
      "\n",
      "- $N_{\\omega_j}$: Count of samples from class $\\omega_j$.\n",
      "- $N_c$: Count of all samples.\n",
      "\n",
      "If we'd apply this concept to spam classification, we could write:\n",
      "\n",
      "\n",
      "\\begin{equation}\\hat{P}(\\text{spam}) = \\frac{\\text{# of spam messages in training data}}{\\text{# of all mesages in training data}} \\end{equation}\n"
     ]
    },
    {
     "cell_type": "markdown",
     "metadata": {},
     "source": [
      "<br>"
     ]
    },
    {
     "cell_type": "markdown",
     "metadata": {},
     "source": [
      "To illustrate the effect of the prior probabilities on the decision rule, let us take a look at the figure below. Here, we have a 1-dimensional pattern *x* (continuous attribute, plotted as \"x\" symbols) that follows a normal distribution and belongs to one out of two classes (blue and green). The patterns from one class ($\\omega_1=\\text{blue}$) are drawn from a normal distribution that has its mean at x=4 and a standard deviation of 1. The probability distribution of the other class ($\\omega_2=\\text{green}$) is centered at x=10 and also has a standard deviation of 1. The bell-curves denote the probability densities of the samples that were drawn from the two different normal distributions. \n",
      "\n"
     ]
    },
    {
     "cell_type": "markdown",
     "metadata": {},
     "source": [
      "So far, we've only been looking at the class conditional probabilities, e.g., we could estimate that  \n",
      "\n",
      "- $P(x=4 \\mid \\omega_1) \\approx 0.4$ or $P(x=10 \\mid \\omega_1) < 0.001$ \n",
      "- $P(x=4 \\mid \\omega_2) < 0.001$ or $P(x=10 \\mid \\omega_2) \\approx 0.4$\n",
      "\n"
     ]
    },
    {
     "cell_type": "markdown",
     "metadata": {},
     "source": [
      "Now, if we chose uniform priors, that is $P(\\omega_1) = P(\\omega_2) = 0.5$, the decision rule would be entirely dependent on those class-conditional probabilities, so that the decision rule would fall directly between the two distributions where $P(x \\mid \\omega_1) = P(x \\mid \\omega_2)$. However, if we chose a prior probability for $P(\\omega_1)$ that is > 0.5, the decision region of class $\\omega_1$ would expand, because the posterior probability for $\\omega_1$ will increase.\n",
      "\n",
      "In context of spam classification we could think of encountering a new message that only contains words that are equally likely to appear in spam or ham messages. In this case, we would base our decision on prior knowledge, e.g., we could assume that a random message is in 9 out of 10 cases not spam and therefore classify the new message as ham."
     ]
    },
    {
     "cell_type": "markdown",
     "metadata": {},
     "source": [
      "![prior probabilities affecting the decision boundary](../../Images/bayes_smsspam/effect_priors_1.png)"
     ]
    },
    {
     "cell_type": "markdown",
     "metadata": {},
     "source": [
      "The code that was used to generate this plot can be found [here](http://nbviewer.ipython.org/github/rasbt/pattern_classification/blob/master/Images/bayes_smsspam/pdfs.ipynb)."
     ]
    },
    {
     "cell_type": "markdown",
     "metadata": {},
     "source": [
      "<br>\n",
      "<br>"
     ]
    },
    {
     "cell_type": "heading",
     "level": 2,
     "metadata": {},
     "source": [
      "Evidence"
     ]
    },
    {
     "cell_type": "markdown",
     "metadata": {},
     "source": [
      "[[back to top](#Sections)]"
     ]
    },
    {
     "cell_type": "markdown",
     "metadata": {},
     "source": [
      "After we discussed the class-conditional probability and the prior probability, there is only one term missing in order to compute posterior probility: the \"evidence.\"\n",
      "\n",
      "\\begin{equation} \\text{posterior probability} = \\frac{\\text{conditional probability} \\cdot \\text{prior probibility}}{\\text{evidence}} \\end{equation}"
     ]
    },
    {
     "cell_type": "markdown",
     "metadata": {},
     "source": [
      "The evidence $P(\\pmb x)$ can be understood as the probability of encountering a particular pattern $\\pmb x$ in general (independent from the class label)."
     ]
    },
    {
     "cell_type": "markdown",
     "metadata": {},
     "source": [
      "Given our more formal definition of posterior probability:\n",
      "\\begin{equation} P(\\omega_j \\mid \\pmb x_i) = \\frac{P(\\pmb x_i \\mid \\omega_j) \\cdot P(\\omega_j)}{P(\\pmb x_i)} \\end{equation}\n",
      "\n",
      "we can calculate the evidence as follows:\n",
      "\n",
      "\\begin{equation}P(\\pmb x_i) = P(\\pmb x_i \\mid \\omega_j) \\cdot P(\\omega_j) \\cdot P(\\pmb x_i \\mid \\omega_j^C) \\cdot P(\\omega_j^C)\\end{equation}\n",
      "\n",
      "where $\\omega_j^C$ stands for \"complement\" and basically translate to \"**not** class $\\omega_j$.\" \n",
      "\n",
      "\n"
     ]
    },
    {
     "cell_type": "markdown",
     "metadata": {},
     "source": [
      "Although the evidence term is required to accurately calculate the posterior probabilities, we don't need to keep this term in our decision rule. \n",
      "\n",
      "E.g., if our decision rule is\n",
      "\n",
      "\"Classify sample $\\pmb x_i$ as $\\omega_1$ if $P(\\omega_1 \\mid \\pmb x_i) > P(\\omega_2 \\mid \\pmb x_i)$ else classify the sample as $\\omega_2$,\"  \n",
      "\n",
      "we can see that the evidence terms simply cancel each other out:\n",
      "\n",
      "\\begin{equation}  \\frac{P(\\pmb x_i \\mid \\omega_1) \\cdot P(\\omega_1)}{P(\\pmb x_i)} > \\frac{P(\\pmb x_i \\mid \\omega_2) \\cdot P(\\omega_2)}{P(\\pmb x_i)} \\end{equation}\n"
     ]
    },
    {
     "cell_type": "markdown",
     "metadata": {},
     "source": [
      "\\begin{equation}\\Rightarrow P(\\pmb x_i \\mid \\omega_1) \\cdot P(\\omega_1) > P(\\pmb x_i \\mid \\omega_2) \\cdot P(\\omega_2)\\end{equation}"
     ]
    },
    {
     "cell_type": "markdown",
     "metadata": {},
     "source": [
      "<br>\n",
      "<br>"
     ]
    },
    {
     "cell_type": "heading",
     "level": 2,
     "metadata": {},
     "source": [
      "Multinomial naive Bayes - A toy example"
     ]
    },
    {
     "cell_type": "markdown",
     "metadata": {},
     "source": [
      "[[back to top](#Sections)]"
     ]
    },
    {
     "cell_type": "markdown",
     "metadata": {},
     "source": [
      "To apply the concepts of posterior probabilities and decision rules in a naive Bayes classifier, let us walk through a simple simple toy example given the following training set:"
     ]
    },
    {
     "cell_type": "markdown",
     "metadata": {},
     "source": [
      "![](../../Images/bayes_smsspam/toy_dataset_1.png)"
     ]
    },
    {
     "cell_type": "markdown",
     "metadata": {},
     "source": [
      "We assume that this dataset consists of 12 samples from 2 classes indicated by the symbols \"+\" and \"-\". Each sample is described by two features: A color and a shape. \n",
      "\n",
      "- class labels: $\\omega_j \\in \\{+, -\\}$\n",
      "- feature vector: $\\pmb x_i = [x_{i1} \\; x_{i2}], \\quad x_{i1} \\in \\{ \\text{blue}, \\text{green}, \\text{red}, \\text{yellow} \\}, \\quad x_{i2} \\in \\{\\text{circle}, \\text{square} \\}$\n",
      "\n",
      "\n",
      " "
     ]
    },
    {
     "cell_type": "markdown",
     "metadata": {},
     "source": [
      "The task is to classify a new sample (while we pretend that we don't know that its true class label is \"+\"):\n",
      "![](../../Images/bayes_smsspam/toy_dataset_2.png)"
     ]
    },
    {
     "cell_type": "heading",
     "level": 4,
     "metadata": {},
     "source": [
      "Decision rule"
     ]
    },
    {
     "cell_type": "markdown",
     "metadata": {},
     "source": [
      "First, let us define the decision rule:\n",
      "\n",
      "Classify sample as \"+\"  if   \n",
      "\n",
      "$P(\\omega=\\text{+} \\mid \\pmb x = \\text{blue, square}) \\geq P(\\omega=\\text{-} \\mid \\pmb x = \\text{blue, square})$  \n",
      "\n",
      "else classify sample as \"-.\"\n"
     ]
    },
    {
     "cell_type": "markdown",
     "metadata": {},
     "source": [
      "<br>"
     ]
    },
    {
     "cell_type": "heading",
     "level": 4,
     "metadata": {},
     "source": [
      "Prior probabilities"
     ]
    },
    {
     "cell_type": "markdown",
     "metadata": {},
     "source": [
      "Under the assumption that our samples are i.i.d, we can obtain the prior probabilities via the Maximum Likelihood Estimate (i.e., calculate the frequencies of how often each class label is represented in the training dataset):\n",
      "\n",
      "$P(\\text{+}) = \\frac{7}{12} = 0.58$    \n",
      "\n",
      "$P(\\text{-}) = \\frac{5}{12} = 0.42$    "
     ]
    },
    {
     "cell_type": "markdown",
     "metadata": {},
     "source": [
      "<br>"
     ]
    },
    {
     "cell_type": "heading",
     "level": 4,
     "metadata": {},
     "source": [
      "Class-conditional probabilities"
     ]
    },
    {
     "cell_type": "markdown",
     "metadata": {},
     "source": [
      "Under the assumption that the features \"color\" and \"shape\" are mutually independent, the class-conditional probabilities can be calculated as a simple product of the individual conditional probabilities."
     ]
    },
    {
     "cell_type": "markdown",
     "metadata": {},
     "source": [
      "Via Maximum Likelihood Estimate, e.g., $P(\\text{blue} \\mid \\text{-})$ is simply the frequency of observing a \"blue\" sample among all samples in the training dataset that belong to class \"+.\""
     ]
    },
    {
     "cell_type": "markdown",
     "metadata": {},
     "source": [
      "$P(\\pmb x \\mid \\text{+}) = P(\\text{blue} \\mid \\text{+}) \\cdot P(\\text{square} \\mid \\text{+}) = \\frac{3}{7} \\cdot \\frac{5}{7} = 0.31$   \n",
      "\n",
      "$P(\\pmb x \\mid \\text{-}) = P(\\text{blue} \\mid \\text{-}) \\cdot P(\\text{square} \\mid \\text{-}) = \\frac{3}{5} \\cdot \\frac{3}{5} = 0.36$  "
     ]
    },
    {
     "cell_type": "markdown",
     "metadata": {},
     "source": [
      "<br>"
     ]
    },
    {
     "cell_type": "heading",
     "level": 4,
     "metadata": {},
     "source": [
      "Posterior probabilities"
     ]
    },
    {
     "cell_type": "markdown",
     "metadata": {},
     "source": [
      "Now, we can simply calculate the product of the class-conditional and prior probabilities in order to obtain the posterior probabilities."
     ]
    },
    {
     "cell_type": "markdown",
     "metadata": {},
     "source": [
      "$P(\\text{+}\\mid \\pmb x) = P(\\pmb x \\mid \\text{+}) \\cdot P(\\text{+}) = 0.31  \\cdot  0.58 = 0.18$  \n",
      "\n",
      "$P(\\text{-} \\mid \\pmb x) = P(\\pmb x \\mid \\text{-}) \\cdot P(\\text{-}) = 0.36  \\cdot  0.42 = 0.15$"
     ]
    },
    {
     "cell_type": "markdown",
     "metadata": {},
     "source": [
      "<br>"
     ]
    },
    {
     "cell_type": "heading",
     "level": 4,
     "metadata": {},
     "source": [
      "Classify"
     ]
    },
    {
     "cell_type": "markdown",
     "metadata": {},
     "source": [
      "In this last step, we compare the posterior probabilities and assign the class label based on our decision rule:"
     ]
    },
    {
     "cell_type": "markdown",
     "metadata": {},
     "source": [
      "$\\text{If } P(\\text{+} \\mid \\pmb x) \\geq P(\\text{-} \\mid \\pmb x) \\Rightarrow \\text{classify as +} \\text{, else } \\text{classify as -}$  \n",
      "\n",
      "And since \n",
      "\n",
      "$0.18 > 0.15$  \n",
      "\n",
      "$\\text{we classify the sample as } \\text{+}$  "
     ]
    },
    {
     "cell_type": "markdown",
     "metadata": {},
     "source": [
      "<br>"
     ]
    },
    {
     "cell_type": "markdown",
     "metadata": {},
     "source": [
      "If we take a look at the calculation of the posterior probabilties again, we can see in this simple example how the prior probabilities affected our decision rule. If we had equal prior probabilities for both classes, the new pattern would be classified as \"-\" instead of \"+.\" This underlines the importance of having a representative training dataset, and in practice, it is usually recommended to additionally consult a domain expert in order to determine the prior probabilities."
     ]
    },
    {
     "cell_type": "markdown",
     "metadata": {},
     "source": [
      "<br>\n",
      "<br>"
     ]
    },
    {
     "cell_type": "heading",
     "level": 3,
     "metadata": {},
     "source": [
      "Additive smoothening"
     ]
    },
    {
     "cell_type": "markdown",
     "metadata": {},
     "source": [
      "[[back to top](#Sections)]"
     ]
    },
    {
     "cell_type": "markdown",
     "metadata": {},
     "source": [
      "At this point we might wonder what would happen if we encountered a sample that has the color attribute \"yellow.\" \n",
      "\n",
      "![](../../Images/bayes_smsspam/toy_dataset_3.png)"
     ]
    },
    {
     "cell_type": "markdown",
     "metadata": {},
     "source": [
      "The color \"yellow\" does not appear in our training dataset. Thus, the class-conditional probability will become 0. The posterior probabilities will also become 0 as result from multiplying the prior probabilities with the class-conditional probabilities.\n",
      "\n",
      "$P(\\omega_1 \\mid \\pmb x) = 0  \\cdot  0.42 = 0$  \n",
      "\n",
      "$P(\\omega_2 \\mid \\pmb x) = 0  \\cdot  0.58 = 0$  \n",
      "\n",
      "In order to make a decision based on the prior probabilities, an additional smoothening term can be added to the multinomial Bayes model to ensure non-zero class-conditional probabilities for categorical data:\n",
      "\n",
      "\n",
      "\\begin{equation} \\hat{P}(x_i \\mid \\omega_j) = \\frac{N_{i,c}+\\alpha}{N_i + \\alpha \\, d}  \\quad (i = (1, ..., d))\\end{equation}\n",
      "\n",
      "- $N_{i,c}$: Count of observing feature $x_i$ in class $\\omega_j$.\n",
      "- $N_ic$: Count of observing feature $x_i$ in all classes.\n",
      "- $\\alpha$: Parameter for additive smoothening. \n",
      "- $d$: Dimensionality of the feature vector $\\pmb x = [x_1, ..., x_d]$.\n",
      "\n",
      "Two common variants of additive smoothening are the so-called Lidstone smoothening ($\\alpha<1$) or  Laplace smoothening ($\\alpha=1$).\n"
     ]
    },
    {
     "cell_type": "heading",
     "level": 1,
     "metadata": {},
     "source": [
      "<hr>\n",
      "everything below here is in progress ... \n",
      "<hr>"
     ]
    },
    {
     "cell_type": "markdown",
     "metadata": {},
     "source": [
      "<br>\n",
      "<br>"
     ]
    },
    {
     "cell_type": "heading",
     "level": 2,
     "metadata": {},
     "source": [
      "Naive Bayes and text classfication"
     ]
    },
    {
     "cell_type": "markdown",
     "metadata": {},
     "source": [
      "[[back to top](#Sections)]"
     ]
    },
    {
     "cell_type": "markdown",
     "metadata": {},
     "source": [
      "- training set is tokenized (punctuation and formatting characters are removed), optionally stopwords\n",
      "- building vocabulary set based on the words that are ocurring in the training dataset and associate it with a word count.\n",
      "E.g., {\"able\":120, \"acre\":5, ..., \"zoo\":8} (unigram approach; bag of words)\n",
      "\n",
      "- stop words\n",
      "\n",
      "Aristotle quote: \"Change in all things is sweet\".\n",
      "\n",
      "n-grams, \n",
      "\n",
      "1-gram, unigram: change, in, all, things, is, sweet\n",
      "2-gram, bigram: change in, in all, all things, things is, is sweet\n",
      "trigram: change in all, all things is, things is sweet\n",
      "\n",
      "- feature vector is the whole vocabulary for every text (very high dimensional)\n",
      "\n",
      "Maximum Likelihoods estimates for the parameters to calculate the posterior:\n",
      "\n",
      "- prior: $P(\\omega_j)$ simply by frequency, e.g., $\\frac {\\text{# of spam msg.}}{\\text{# of all msg.}}$\n",
      "\n",
      "- class-conditional probability (assuming the words are conditionally independent): \n",
      "\n"
     ]
    },
    {
     "cell_type": "code",
     "collapsed": false,
     "input": [],
     "language": "python",
     "metadata": {},
     "outputs": []
    },
    {
     "cell_type": "markdown",
     "metadata": {},
     "source": [
      "<br>\n",
      "<br>"
     ]
    },
    {
     "cell_type": "heading",
     "level": 3,
     "metadata": {},
     "source": [
      "Mutli-variate Bernoulli naive Bayes"
     ]
    },
    {
     "cell_type": "markdown",
     "metadata": {},
     "source": [
      "[[back to top](#Sections)]"
     ]
    },
    {
     "cell_type": "markdown",
     "metadata": {},
     "source": [
      "- no term frequencies but Boolean: Does word occur in document? yes or no?"
     ]
    },
    {
     "cell_type": "markdown",
     "metadata": {},
     "source": [
      "\\begin{equation} P(\\pmb x \\mid \\omega_j) = \\prod_{i=1}^{m} P(x_i \\mid \\omega_j)^b \\cdot (1-P(x_i \\mid  \\omega_j))^{(1-b)} \\end{equation}\n",
      "\n",
      "- b = whether word occurs or not $b \\in {0,1}$"
     ]
    },
    {
     "cell_type": "markdown",
     "metadata": {},
     "source": [
      "\\begin{equation} \\hat{P}(x_i \\mid \\omega_j) = \\frac{df_{xi, y} + 1}{df_y + 2} \\end{equation} "
     ]
    },
    {
     "cell_type": "markdown",
     "metadata": {},
     "source": [
      "- $df_{xi, y}$ is the number of documents in the training dataset that contain $x_i$ and belong to class $\\omega_j$\n",
      "- $df_y$ Number of documents in the training dataset that belong to class $\\omega_j$\n",
      "- +1 and +2 are the parameters for Laplace smoothening\n"
     ]
    },
    {
     "cell_type": "markdown",
     "metadata": {},
     "source": [
      "<br>\n",
      "<br>"
     ]
    },
    {
     "cell_type": "heading",
     "level": 3,
     "metadata": {},
     "source": [
      "Multinomial naive Bayes"
     ]
    },
    {
     "cell_type": "markdown",
     "metadata": {},
     "source": [
      "[[back to top](#Sections)]"
     ]
    },
    {
     "cell_type": "heading",
     "level": 4,
     "metadata": {},
     "source": [
      "Term frequency"
     ]
    },
    {
     "cell_type": "markdown",
     "metadata": {},
     "source": [
      "A more informative approach to characterize text documents than binary values is to use the so-called \"term frequency\" tf(t, d). The term frequency is typically defined as the number of times a given term *t* (i.e., word) appears in a document *d* -- this approach is sometimes also called \"raw frequency.\" An alternative approach is to normalize the term frequency by dividing the (raw) term frequency by the length of the document.\n",
      "\n",
      "\n",
      "\\begin{equation}\\text{normalized term frequency} = \\frac{tf(t, d)}{n_d}\\end{equation}\n",
      "\n",
      "- $tf(t, d)$: (Raw) term frequency; count of term *t* in document *d*.\n",
      "- $n_d$: Total number of terms in document *d*."
     ]
    },
    {
     "cell_type": "markdown",
     "metadata": {},
     "source": [
      "<br>"
     ]
    },
    {
     "cell_type": "markdown",
     "metadata": {},
     "source": [
      "We can use the term frequencies from our training data to estimate the class-conditional probabilities for our multinomial model as follows:"
     ]
    },
    {
     "cell_type": "markdown",
     "metadata": {},
     "source": [
      "\\begin{equation} \\hat{P}(x_i \\mid \\omega_j) = \\frac{\\sum tf(x_i, d \\in \\omega_j) + \\alpha}{\\sum N_{d \\in \\omega j} + \\alpha \\cdot V} \\end{equation} "
     ]
    },
    {
     "cell_type": "markdown",
     "metadata": {},
     "source": [
      "- $x_i$: A word from the feature vector $\\pmb x$ for a particular sample.\n",
      "- $\\sum tf(x_i, d \\in \\omega_j)$: The sum of (raw) term frequencies of word $x_i$ from all documents in the training sample that belong to class $\\omega_j$.\n",
      "- $\\sum N_{d \\in \\omega j}$: The sum of all term frequencies in the training dataset for class $\\omega_j$.\n",
      "- $\\alpha$: An addititive smoothening parameter ($\\alpha = 1$ for Laplace smoothening).\n",
      "- $V$: The size of the vocabulary (number of different words in the training set)."
     ]
    },
    {
     "cell_type": "markdown",
     "metadata": {},
     "source": [
      "And the class-conditional probability of encountering the text $\\pmb x$ can be calculated as the product from the likelihoods of the idndividual words (remember the \"naive\" assumption of conditional independence)."
     ]
    },
    {
     "cell_type": "markdown",
     "metadata": {},
     "source": [
      "\\begin{equation} P(\\pmb x \\mid \\omega_j) = P(x_1 \\mid \\omega_j) \\cdot P(x_2 \\mid \\omega_j) \\cdot   \\dotsc \\cdot P(x_n \\mid \\omega_j) = \\prod_{i= 1}^{m}  P(x_i \\mid \\omega_j)  \\end{equation}"
     ]
    },
    {
     "cell_type": "markdown",
     "metadata": {},
     "source": [
      "<br>"
     ]
    },
    {
     "cell_type": "heading",
     "level": 4,
     "metadata": {},
     "source": [
      "Term frequency - inverse document frequency (Tf-idf)"
     ]
    },
    {
     "cell_type": "markdown",
     "metadata": {},
     "source": [
      "The \"term frequency - inverse document frequency\" (Tf-idf) is another alternative for characterizing text documents. It can be understood as a weighted \"term frequency\", which is especially useful if stop words weren't removed from the text corpus. The Tf-idf approach assumes that the importance of a word is inversely proportional to how often it occurs across documents. Although Tf-idf is most commonly used to rank documents by relevance in different text mining tasks, such as page ranking by search engines, it can also be applied to text classification via naive Bayes.\n",
      "\n",
      "\\begin{equation}\\text{Tf-idf} = tf_n(t,d) \\times idf(t)\\end{equation}\n",
      "\n",
      "where $tf_n(d,f)$ is the normalized term frequency, and $idf$, the inverse document frequency, is calculated via\n",
      "\n",
      "\\begin{equation}idf(t) = \\log\\Bigg(\\frac{n_d}{n_d(t)}\\Bigg) \\end{equation}\n",
      "\n",
      "- $n_d$: The total number of documents.\n",
      "- $n_d(t)$: The number of documents that contain the term $t$.\n",
      "\n"
     ]
    },
    {
     "cell_type": "markdown",
     "metadata": {},
     "source": [
      "<br>\n",
      "<br>"
     ]
    },
    {
     "cell_type": "heading",
     "level": 2,
     "metadata": {},
     "source": [
      "Variants of the naive Bayes model"
     ]
    },
    {
     "cell_type": "markdown",
     "metadata": {},
     "source": [
      "[[back to top](#Sections)]"
     ]
    },
    {
     "cell_type": "markdown",
     "metadata": {},
     "source": [
      "We have discussed the \"conditional independence\" assumption in the previous section about the calculation of the class-conditional probabilities. However, we haven't talked about the individual underlying probability distributions of the individual attributes, yet. \n",
      "Basically, there are three different variants of the naive Bayes classifier:\n",
      "\n",
      "- Gaussian naive Bayes\n",
      "- Multinomial naive Bayes\n",
      "- Bernoulli naive Bayes\n",
      "\n",
      "The terms \"Gaussian\", \"Multinomial\", and \"Bernoulli\" just describe how the different features of a one or multi-dimensional dataset are distributed in order to calculate the class-conditional probability $P(\\pmb x_i \\mid \\omega_j)$ for the samples $i= 1, 2, ..., n$ and the different classes $j = 1, 2 ..., m$.\n",
      "\n"
     ]
    },
    {
     "cell_type": "markdown",
     "metadata": {},
     "source": [
      "<br>\n",
      "<br>"
     ]
    },
    {
     "cell_type": "heading",
     "level": 4,
     "metadata": {},
     "source": [
      "Continuous variables"
     ]
    },
    {
     "cell_type": "markdown",
     "metadata": {},
     "source": [
      "[[back to top](#Sections)]"
     ]
    },
    {
     "cell_type": "markdown",
     "metadata": {},
     "source": [
      "The naive Bayes model is not restricted to categorical data like in our example above, but we can also train a naive Bayes classifier on continuous data. The Iris flower data set would be a simple example for a supervised classification task with continuous features: The Iris dataset contains widths and lengths of petals and sepals measured in centimeters.  \n",
      "One strategy for dealing with continuous data in naive Bayes classification would be to discretize the features and form distinct categories. A more common approach is to use a Gaussian or Multinomial kernel to calculate the class-conditional probabilities.\n",
      "\n",
      "For the Iris example, we could assume that the probability distribution for the features  follow a normal  (Gaussian)  distribution:"
     ]
    },
    {
     "cell_type": "markdown",
     "metadata": {},
     "source": [
      "\\begin{equation} P(x_{ik} \\mid \\omega) = \\frac{1}{\\sqrt{2\\pi\\sigma^2_{\\omega}}} \\exp\\left(-\\frac{(x_{ik} - \\mu_{\\omega})^2}{2\\sigma^2_{\\omega}}\\right) \\end{equation}\n",
      "\n",
      "\\begin{equation} P(\\pmb x_i \\mid \\omega) = \\prod_{k=1}^{d} P(\\pmb x_{ik} \\mid \\omega) \\end{equation}"
     ]
    },
    {
     "cell_type": "markdown",
     "metadata": {},
     "source": [
      "<br>\n",
      "<br>"
     ]
    },
    {
     "cell_type": "heading",
     "level": 3,
     "metadata": {},
     "source": [
      "Eager and lazy learning algorithms"
     ]
    },
    {
     "cell_type": "markdown",
     "metadata": {},
     "source": [
      "Being an \"eager learner\", one of the advantages of naive classifiers is that they are generally fast in classifying new instances.   \n",
      "The concept of \"eager learners\" describes learning algorithms that learn a model from a training dataset as soon as the data becomes available. Once the model is learned, the training data does not have to be re-evaluated in order to make a new prediction. For \"eager learners\", the computationally most expensive step is the model building, and the classification of new instances is relatively fast.  \n",
      "\"Lazy learners\", however, memorize and re-evaluate the training dataset for prediciting the class label of a new instance. The advantage of \"lazy learning\" is that the model building (training) phase is relatively fast. On the other hand, the acutal prediction is typically slower compared to \"eager learners\" due to the evaluation of the training data. An example of a \"lazy learner\" would be a k-nearest neighbor algorithm. If a new instance is encountered, the algorithm would evaluate the k-nearest neighbors in order to decide upon a class label for the new instance, e.g., via the majority rule (= assign the class label that occurs most frequently amongst the k-nearest neighbors)."
     ]
    },
    {
     "cell_type": "markdown",
     "metadata": {},
     "source": [
      "<br>\n",
      "<br>"
     ]
    },
    {
     "cell_type": "markdown",
     "metadata": {},
     "source": [
      "<br>\n",
      "<br>"
     ]
    },
    {
     "cell_type": "heading",
     "level": 1,
     "metadata": {},
     "source": [
      "Application - The SMS spam dataset"
     ]
    },
    {
     "cell_type": "markdown",
     "metadata": {},
     "source": [
      "[[back to top](#Sections)]"
     ]
    },
    {
     "cell_type": "code",
     "collapsed": false,
     "input": [
      "import pandas as pd\n",
      "\n",
      "df = pd.read_csv(\n",
      "        'https://raw.githubusercontent.com/rasbt/pattern_classification/master/data/sms_spam_collection.txt', \n",
      "        sep='\\t', \n",
      "        header=None)\n",
      "\n",
      "df.columns = ['class', 'text']\n",
      "\n",
      "df.head(3)"
     ],
     "language": "python",
     "metadata": {},
     "outputs": [
      {
       "output_type": "stream",
       "stream": "stderr",
       "text": [
        "/Users/sebastian/miniconda3/envs/py34/lib/python3.4/site-packages/pandas/io/excel.py:626: UserWarning: Installed openpyxl is not supported at this time. Use >=1.6.1 and <2.0.0.\n",
        "  .format(openpyxl_compat.start_ver, openpyxl_compat.stop_ver))\n"
       ]
      },
      {
       "html": [
        "<div style=\"max-height:1000px;max-width:1500px;overflow:auto;\">\n",
        "<table border=\"1\" class=\"dataframe\">\n",
        "  <thead>\n",
        "    <tr style=\"text-align: right;\">\n",
        "      <th></th>\n",
        "      <th>class</th>\n",
        "      <th>text</th>\n",
        "    </tr>\n",
        "  </thead>\n",
        "  <tbody>\n",
        "    <tr>\n",
        "      <th>0</th>\n",
        "      <td> spam</td>\n",
        "      <td> Free entry in 2 a wkly comp to win FA Cup fina...</td>\n",
        "    </tr>\n",
        "    <tr>\n",
        "      <th>1</th>\n",
        "      <td>  ham</td>\n",
        "      <td> Go until jurong point, crazy.. Available only ...</td>\n",
        "    </tr>\n",
        "    <tr>\n",
        "      <th>2</th>\n",
        "      <td>  ham</td>\n",
        "      <td>                     Ok lar... Joking wif u oni...</td>\n",
        "    </tr>\n",
        "  </tbody>\n",
        "</table>\n",
        "</div>"
       ],
       "metadata": {},
       "output_type": "pyout",
       "prompt_number": 3,
       "text": [
        "  class                                               text\n",
        "0  spam  Free entry in 2 a wkly comp to win FA Cup fina...\n",
        "1   ham  Go until jurong point, crazy.. Available only ...\n",
        "2   ham                      Ok lar... Joking wif u oni..."
       ]
      }
     ],
     "prompt_number": 3
    },
    {
     "cell_type": "code",
     "collapsed": false,
     "input": [
      "df.tail(3)"
     ],
     "language": "python",
     "metadata": {},
     "outputs": [
      {
       "html": [
        "<div style=\"max-height:1000px;max-width:1500px;overflow:auto;\">\n",
        "<table border=\"1\" class=\"dataframe\">\n",
        "  <thead>\n",
        "    <tr style=\"text-align: right;\">\n",
        "      <th></th>\n",
        "      <th>class</th>\n",
        "      <th>text</th>\n",
        "    </tr>\n",
        "  </thead>\n",
        "  <tbody>\n",
        "    <tr>\n",
        "      <th>5569</th>\n",
        "      <td> ham</td>\n",
        "      <td> Pity, * was in mood for that. So...any other s...</td>\n",
        "    </tr>\n",
        "    <tr>\n",
        "      <th>5570</th>\n",
        "      <td> ham</td>\n",
        "      <td> The guy did some bitching but I acted like i'd...</td>\n",
        "    </tr>\n",
        "    <tr>\n",
        "      <th>5571</th>\n",
        "      <td> ham</td>\n",
        "      <td>                        Rofl. Its true to its name</td>\n",
        "    </tr>\n",
        "  </tbody>\n",
        "</table>\n",
        "</div>"
       ],
       "metadata": {},
       "output_type": "pyout",
       "prompt_number": 4,
       "text": [
        "     class                                               text\n",
        "5569   ham  Pity, * was in mood for that. So...any other s...\n",
        "5570   ham  The guy did some bitching but I acted like i'd...\n",
        "5571   ham                         Rofl. Its true to its name"
       ]
      }
     ],
     "prompt_number": 4
    },
    {
     "cell_type": "code",
     "collapsed": false,
     "input": [
      "%matplotlib inline"
     ],
     "language": "python",
     "metadata": {},
     "outputs": [],
     "prompt_number": 5
    },
    {
     "cell_type": "code",
     "collapsed": false,
     "input": [
      "from matplotlib import pyplot as plt\n",
      "import numpy as np\n",
      "\n",
      "plt.pie(\n",
      "    (len(df[df['class'] == 'spam']), len(df[df['class'] == 'ham'])),\n",
      "    labels=('spam','ham'),\n",
      "    shadow=True,\n",
      "    colors=('yellowgreen', 'lightskyblue'),\n",
      "    explode=(0,0.15),\n",
      "    startangle=90,\n",
      "    autopct='%1.1f%%',\n",
      "    )\n",
      "plt.legend(fancybox=True)\n",
      "plt.axis('equal')\n",
      "plt.tight_layout()\n",
      "plt.show()"
     ],
     "language": "python",
     "metadata": {},
     "outputs": [
      {
       "metadata": {},
       "output_type": "display_data",
       "png": "[encoded data removed]",
       "text": [
        "<matplotlib.figure.Figure at 0x108b18b70>"
       ]
      }
     ],
     "prompt_number": 6
    },
    {
     "cell_type": "markdown",
     "metadata": {},
     "source": [
      "<br>\n",
      "<br>"
     ]
    },
    {
     "cell_type": "heading",
     "level": 2,
     "metadata": {},
     "source": [
      "Label Encoder"
     ]
    },
    {
     "cell_type": "markdown",
     "metadata": {},
     "source": [
      "[[back to top](#Sections)]"
     ]
    },
    {
     "cell_type": "code",
     "collapsed": false,
     "input": [
      "from sklearn.preprocessing import LabelEncoder\n",
      "\n",
      "X = df['text'].values \n",
      "y = df['class'].values\n",
      "\n",
      "print('before: %s ...' %y[:5])\n",
      "\n",
      "le = LabelEncoder()\n",
      "y = le.fit_transform(y)\n",
      "\n",
      "print('after: %s ...' %y[:5])"
     ],
     "language": "python",
     "metadata": {},
     "outputs": [
      {
       "output_type": "stream",
       "stream": "stdout",
       "text": [
        "before: ['spam' 'ham' 'ham' 'ham' 'ham'] ...\n",
        "after: [1 0 0 0 0] ...\n"
       ]
      }
     ],
     "prompt_number": 7
    },
    {
     "cell_type": "markdown",
     "metadata": {},
     "source": [
      "<br>\n",
      "<br>"
     ]
    },
    {
     "cell_type": "heading",
     "level": 2,
     "metadata": {},
     "source": [
      "Test and training datasets"
     ]
    },
    {
     "cell_type": "markdown",
     "metadata": {},
     "source": [
      "[[back to top](#Sections)]"
     ]
    },
    {
     "cell_type": "code",
     "collapsed": false,
     "input": [
      "from sklearn.cross_validation import train_test_split\n",
      "\n",
      "X_train, X_test, y_train, y_test = train_test_split(X, y, test_size=0.30, random_state=12345)"
     ],
     "language": "python",
     "metadata": {},
     "outputs": [],
     "prompt_number": 8
    },
    {
     "cell_type": "markdown",
     "metadata": {},
     "source": [
      "<br>\n",
      "<br>"
     ]
    },
    {
     "cell_type": "heading",
     "level": 2,
     "metadata": {},
     "source": [
      "Feature extraction: Word counts and Vectorizers"
     ]
    },
    {
     "cell_type": "markdown",
     "metadata": {},
     "source": [
      "[[back to top](#Sections)]"
     ]
    },
    {
     "cell_type": "code",
     "collapsed": false,
     "input": [
      "from sklearn.feature_extraction.text import TfidfVectorizer,CountVectorizer\n",
      "\n",
      "vec = CountVectorizer().fit(['Hello World, this is a test!'])\n",
      "data1 = vec.transform(['This is a test'])\n",
      "data2 = vec.transform(['Hello World'])"
     ],
     "language": "python",
     "metadata": {},
     "outputs": [],
     "prompt_number": 9
    },
    {
     "cell_type": "code",
     "collapsed": false,
     "input": [
      "print('Features:\\n%s' %vec.get_feature_names())\n",
      "print(\"\\nText 'This is a test':\\n%s\" %data1.toarray())\n",
      "print(\"\\nText 'Hello World':\\n%s\" %data2.toarray())"
     ],
     "language": "python",
     "metadata": {},
     "outputs": [
      {
       "output_type": "stream",
       "stream": "stdout",
       "text": [
        "Features:\n",
        "['hello', 'is', 'test', 'this', 'world']\n",
        "\n",
        "Text 'This is a test':\n",
        "[[0 1 1 1 0]]\n",
        "\n",
        "Text 'Hello World':\n",
        "[[1 0 0 0 1]]\n"
       ]
      }
     ],
     "prompt_number": 10
    },
    {
     "cell_type": "markdown",
     "metadata": {},
     "source": [
      "\"Stop Words are words which do not contain important significance to be used in Search Queries. Usually these words are filtered out from search queries because they return vast amount of unnecessary information. A better definition is provided below:\n",
      "\n",
      "\u201cWords that do not appear in the index in a particular database because they are either insignificant (i.e., articles, prepositions) or so common that the results would be higher than the system can handle (as in the case of IUCAT where terms such as United States or Department are stop words in keyword searching.) Stop words vary from system to system. Also, some systems will merely ignore stop words where use of stop words in other systems will result in retrieving zero hits. \u201d\""
     ]
    },
    {
     "cell_type": "code",
     "collapsed": false,
     "input": [
      "from sklearn.feature_extraction.text import TfidfVectorizer,CountVectorizer\n",
      "\n",
      "vec = CountVectorizer().fit(X)\n",
      "allwords = vec.transform(X)\n",
      "spam = vec.transform(X[y==1])\n",
      "ham = vec.transform(X[y==0])"
     ],
     "language": "python",
     "metadata": {},
     "outputs": [],
     "prompt_number": 11
    },
    {
     "cell_type": "code",
     "collapsed": false,
     "input": [
      "spam_col_sum = np.sum(spam.toarray(), axis=0)\n",
      "spam_count_sorted = sorted([(count,index) for (index,count) in enumerate(spam_col_sum)], reverse=True)\n",
      "\n",
      "ham_col_sum = np.sum(ham.toarray(), axis=0)\n",
      "ham_count_sorted = sorted([(count,index) for (index,count) in enumerate(ham_col_sum)], reverse=True)"
     ],
     "language": "python",
     "metadata": {},
     "outputs": [],
     "prompt_number": 12
    },
    {
     "cell_type": "code",
     "collapsed": false,
     "input": [
      "fig, (ax1, ax2) = plt.subplots(nrows=1, ncols=2, figsize=(8,4))\n",
      "\n",
      "spam_labels = [vec.get_feature_names()[i[1]] for i in spam_count_sorted[:10]]\n",
      "ham_labels = [vec.get_feature_names()[i[1]] for i in ham_count_sorted[:10]]\n",
      "\n",
      "# plot bars\n",
      "x_pos = list(range(len(spam_labels)))\n",
      "\n",
      "ax1.bar(x_pos, \n",
      "        [i[0]/np.sum(spam_col_sum) for i in spam_count_sorted[:10]], \n",
      "        align='center', \n",
      "        alpha=0.5)\n",
      "\n",
      "ax2.bar(x_pos, \n",
      "        [i[0]/np.sum(ham_col_sum) for i in ham_count_sorted[:10]], \n",
      "        align='center', \n",
      "        alpha=0.5)\n",
      "\n",
      "# set axes labels and title\n",
      "ax1.set_ylabel('frequency in total spam text corpus')\n",
      "ax1.set_xticklabels(x_pos, spam_labels)\n",
      "\n",
      "ax2.set_xticklabels(x_pos, ham_labels)\n",
      "ax2.set_ylabel('frequency in total ham text corpus')\n",
      "\n",
      "for ax in (ax1,ax2):\n",
      "    # hiding axis ticks\n",
      "    ax.tick_params(axis=\"both\", which=\"both\", bottom=\"off\", top=\"off\",  \n",
      "            labelbottom=\"on\", left=\"off\", right=\"off\", labelleft=\"on\")\n",
      "\n",
      "    # remove axis spines\n",
      "    ax.spines[\"top\"].set_visible(False)  \n",
      "    ax.spines[\"right\"].set_visible(False) \n",
      "    ax.spines[\"bottom\"].set_visible(False) \n",
      "    ax.spines[\"left\"].set_visible(False)\n",
      "\n",
      "plt.tight_layout()\n",
      "\n",
      "plt.show()"
     ],
     "language": "python",
     "metadata": {},
     "outputs": [
      {
       "output_type": "stream",
       "stream": "stderr",
       "text": [
        "/Users/sebastian/miniconda3/envs/py34/lib/python3.4/site-packages/matplotlib/backends/backend_agg.py:517: DeprecationWarning: npy_PyFile_Dup is deprecated, use npy_PyFile_Dup2\n",
        "  filename_or_obj, self.figure.dpi)\n"
       ]
      },
      {
       "metadata": {},
       "output_type": "display_data",
       "png": "[encoded data removed]",
       "text": [
        "<matplotlib.figure.Figure at 0x10a7ff400>"
       ]
      }
     ],
     "prompt_number": 13
    },
    {
     "cell_type": "code",
     "collapsed": false,
     "input": [
      "print('Top 10 spam words:\\n')\n",
      "for i in spam_count_sorted[:10]:\n",
      "    print('%s (%sx)' %(vec.get_feature_names()[i[1]], i[0]))\n",
      "    \n",
      "print('\\nTop 10 ham words:\\n')\n",
      "for i in ham_count_sorted[:10]:\n",
      "    print('%s (%sx)' %(vec.get_feature_names()[i[1]], i[0]))"
     ],
     "language": "python",
     "metadata": {},
     "outputs": [
      {
       "output_type": "stream",
       "stream": "stdout",
       "text": [
        "Top 10 spam words:\n",
        "\n",
        "to (691x)\n",
        "call (355x)\n",
        "you (297x)\n",
        "your (264x)\n",
        "free (224x)"
       ]
      },
      {
       "output_type": "stream",
       "stream": "stdout",
       "text": [
        "\n",
        "the (206x)\n",
        "for (204x)\n",
        "now (199x)\n",
        "or (188x)\n",
        "txt (163x)"
       ]
      },
      {
       "output_type": "stream",
       "stream": "stdout",
       "text": [
        "\n",
        "\n",
        "Top 10 ham words:\n",
        "\n",
        "you (1948x)\n",
        "to (1562x)\n",
        "the (1133x)\n",
        "and (858x)\n",
        "in (823x)"
       ]
      },
      {
       "output_type": "stream",
       "stream": "stdout",
       "text": [
        "\n",
        "me (777x)\n",
        "my (754x)\n",
        "is (739x)\n",
        "it (718x)\n",
        "that (560x)\n"
       ]
      }
     ],
     "prompt_number": 14
    },
    {
     "cell_type": "markdown",
     "metadata": {},
     "source": [
      "\"TfidfVectorizer works like the CountVectorizer, but with a more advanced calculation called Term Frequency Inverse Document Frequency (TF-IDF). This is a statistic for measuring the importance of a word in a document or corpus. Intuitively, it looks for words that are more frequent in the current document, compared with their frequency in the whole corpus of documents. You can see this as a way to normalize the results and avoid words that are too frequent, and thus not useful to characterize the instances.\""
     ]
    },
    {
     "cell_type": "markdown",
     "metadata": {},
     "source": [
      "\"CountVectorizer basically creates a dictionary of words from the text corpus. Then, each instance is converted to a vector of numeric features where each element will be the count of the number of times a particular word appears in the document.\""
     ]
    },
    {
     "cell_type": "markdown",
     "metadata": {},
     "source": [
      "<br>\n",
      "<br>"
     ]
    },
    {
     "cell_type": "heading",
     "level": 2,
     "metadata": {},
     "source": [
      "K-fold cross-validation and evaluation metrics"
     ]
    },
    {
     "cell_type": "markdown",
     "metadata": {},
     "source": [
      "[[back to top](#Sections)]"
     ]
    },
    {
     "cell_type": "markdown",
     "metadata": {},
     "source": [
      "The model is most commonly evaluated by the empirical error rate, which is calculated by the number of correct classifications (i.e., false postives and false negatives) divided by the number of total classifications. Inversly, the accuracy of a model is calculated by true postives and true negatives / number of total classifications or simply 1-error."
     ]
    },
    {
     "cell_type": "markdown",
     "metadata": {},
     "source": [
      "It is important to note that the test set should only be used once for evaluating the prediction error of a classifier after training it on the training dataset; repetitive evaluations of different models using the same test dataset would be prone to overfitting.\n",
      "A common approach to compare and evaluate different pre-processing techniques and models is cross-validation. Here, we will use a variant called \"k-fold cross-validation\" in order to compare different preprocessing steps and demonstrate the usefulness of a Pipeline.\n",
      "\n"
     ]
    },
    {
     "cell_type": "markdown",
     "metadata": {},
     "source": []
    },
    {
     "cell_type": "code",
     "collapsed": false,
     "input": [
      "from sklearn.naive_bayes import MultinomialNB\n",
      "from sklearn.naive_bayes import BernoulliNB\n",
      "\n",
      "from sklearn.pipeline import Pipeline"
     ],
     "language": "python",
     "metadata": {},
     "outputs": [],
     "prompt_number": 15
    },
    {
     "cell_type": "code",
     "collapsed": false,
     "input": [
      "# Multinomial Model\n",
      "\n",
      "clf_1 = Pipeline([\n",
      "    ('vectorizer', CountVectorizer()),\n",
      "    ('classifier', MultinomialNB(alpha=1.0, fit_prior=True)),\n",
      "    ])\n",
      "\n",
      "clf_2 = Pipeline([\n",
      "    ('vectorizer', CountVectorizer(ngram_range=(1,2))),\n",
      "    ('classifier', MultinomialNB(alpha=1.0, fit_prior=True)),\n",
      "    ])\n",
      "\n",
      "clf_3 = Pipeline([\n",
      "    ('vectorizer', CountVectorizer(stop_words=\"english\")),\n",
      "    ('classifier', MultinomialNB(alpha=1.0, fit_prior=True)),\n",
      "    ])\n",
      "\n",
      "clf_4 = Pipeline([\n",
      "    ('vectorizer', CountVectorizer(ngram_range=(1,2), stop_words=\"english\")),\n",
      "    ('classifier',  MultinomialNB(alpha=1.0, fit_prior=True)),\n",
      "    ])\n",
      "\n",
      "# Multi-variate Bernoulli\n",
      "\n",
      "clf_5 = Pipeline([\n",
      "    ('vectorizer', CountVectorizer()),\n",
      "    ('classifier', BernoulliNB(alpha=1.0, binarize=0.0, fit_prior=True)),\n",
      "    ])\n",
      "\n",
      "clf_6 = Pipeline([\n",
      "    ('vectorizer', CountVectorizer(ngram_range=(1,2))),\n",
      "    ('classifier', BernoulliNB(alpha=1.0, binarize=0.0, fit_prior=True)),\n",
      "    ])\n",
      "\n",
      "clf_7 = Pipeline([\n",
      "    ('vectorizer', CountVectorizer(stop_words=\"english\")),\n",
      "    ('classifier', BernoulliNB(alpha=1.0, binarize=0.0, fit_prior=True)),\n",
      "    ])\n",
      "\n",
      "clf_8 = Pipeline([\n",
      "    ('vectorizer', CountVectorizer(ngram_range=(1,2), stop_words=\"english\")),\n",
      "    ('classifier', BernoulliNB(alpha=1.0, binarize=0.0, fit_prior=True)),\n",
      "    ])\n",
      "\n",
      "# Tf-idf\n",
      "\n",
      "clf_9 = Pipeline([\n",
      "    ('vectorizer', TfidfVectorizer(ngram_range=(1,2), stop_words=\"english\")),\n",
      "    ('classifier',  MultinomialNB(alpha=1.0, fit_prior=True)),\n",
      "    ])"
     ],
     "language": "python",
     "metadata": {},
     "outputs": [],
     "prompt_number": 20
    },
    {
     "cell_type": "code",
     "collapsed": false,
     "input": [
      "from sklearn.cross_validation import cross_val_score, KFold\n",
      "\n",
      "# Constructing the k-fold cross validation iterator (k=10)  \n",
      "\n",
      "cv = KFold(n=X_train.shape[0],  # total number of samples\n",
      "           n_folds=10,           # number of folds the dataset is divided into\n",
      "           random_state=12345)\n",
      "\n"
     ],
     "language": "python",
     "metadata": {},
     "outputs": [],
     "prompt_number": 21
    },
    {
     "cell_type": "markdown",
     "metadata": {},
     "source": [
      "<br>\n",
      "<br>"
     ]
    },
    {
     "cell_type": "heading",
     "level": 3,
     "metadata": {},
     "source": [
      "Accuracy"
     ]
    },
    {
     "cell_type": "markdown",
     "metadata": {},
     "source": [
      "[[back to top](#Sections)]"
     ]
    },
    {
     "cell_type": "markdown",
     "metadata": {},
     "source": [
      "ACC = (TP + TN) / (TP+TN + FP+FN)"
     ]
    },
    {
     "cell_type": "code",
     "collapsed": false,
     "input": [
      "acc_scores = [\n",
      "    cross_val_score(clf, X_train, y_train, cv=cv, scoring='accuracy')\n",
      "            for clf in [clf_1, clf_2, clf_3, clf_4, clf_5, clf_6, clf_7, clf_8]\n",
      "    ]\n",
      "\n",
      "for score,label in zip(acc_scores, \n",
      "                       ['MultinomialNB, CountVectorizer unigram', \n",
      "                        'MultinomialNB, CountVectorizer bigram',\n",
      "                        'MultinomialNB, CountVectorizer unigram w. stopwords', \n",
      "                        'MultinomialNB, CountVectorizer bigram w. stopwords', \n",
      "                        'BernoulliNB, CountVectorizer unigram', \n",
      "                        'BernoulliNB, CountVectorizer bigram',\n",
      "                        'BernoulliNB, CountVectorizer unigram w. stopwords', \n",
      "                        'BernoulliNB, CountVectorizer bigram w. stopwords',\n",
      "                        ]\n",
      "                       ):\n",
      "    print(\"Accuracy: {:.2%} (+/- {:.2%}), {:}\".format(score.mean(), score.std(), label))"
     ],
     "language": "python",
     "metadata": {},
     "outputs": [
      {
       "output_type": "stream",
       "stream": "stdout",
       "text": [
        "Accuracy: 98.46% (+/- 0.77%), MultinomialNB, CountVectorizer unigram\n",
        "Accuracy: 98.44% (+/- 0.67%), MultinomialNB, CountVectorizer bigram\n",
        "Accuracy: 98.49% (+/- 0.57%), MultinomialNB, CountVectorizer unigram w. stopwords\n",
        "Accuracy: 98.56% (+/- 0.77%), MultinomialNB, CountVectorizer bigram w. stopwords\n",
        "Accuracy: 97.41% (+/- 0.95%), BernoulliNB, CountVectorizer unigram\n",
        "Accuracy: 93.15% (+/- 2.08%), BernoulliNB, CountVectorizer bigram\n",
        "Accuracy: 96.95% (+/- 1.13%), BernoulliNB, CountVectorizer unigram w. stopwords\n",
        "Accuracy: 92.74% (+/- 2.19%), BernoulliNB, CountVectorizer bigram w. stopwords\n"
       ]
      }
     ],
     "prompt_number": 24
    },
    {
     "cell_type": "markdown",
     "metadata": {},
     "source": [
      "<br>\n",
      "<br>"
     ]
    },
    {
     "cell_type": "heading",
     "level": 3,
     "metadata": {},
     "source": [
      "Confusion matrix"
     ]
    },
    {
     "cell_type": "markdown",
     "metadata": {},
     "source": [
      "[[back to top](#Sections)]"
     ]
    },
    {
     "cell_type": "markdown",
     "metadata": {},
     "source": [
      "<table cellspacing=\"0\" border=\"0\">\n",
      "    <colgroup width=\"60\"></colgroup>\n",
      "    <colgroup span=\"4\" width=\"82\"></colgroup>\n",
      "    <tr>\n",
      "        <td style=\"border-top: 1px solid #c1c1c1; border-bottom: 1px solid #c1c1c1; border-left: 1px solid #c1c1c1; border-right: 1px solid #c1c1c1\" colspan=2 rowspan=2 height=\"44\" align=\"center\" bgcolor=\"#FFFFFF\"><b><font face=\"Helvetica\" size=4><br></font></b></td>\n",
      "        <td style=\"border-top: 1px solid #c1c1c1; border-bottom: 1px solid #c1c1c1; border-left: 1px solid #c1c1c1; border-right: 1px solid #c1c1c1\" colspan=3 align=\"center\" bgcolor=\"#FFFFFF\"><b><font face=\"Helvetica\" size=4>predicted class</font></b></td>\n",
      "        </tr>\n",
      "    <tr>\n",
      "        <td style=\"border-top: 1px solid #c1c1c1; border-bottom: 1px solid #c1c1c1; border-left: 1px solid #c1c1c1; border-right: 1px solid #c1c1c1\" align=\"left\" bgcolor=\"#EEEEEE\"><font face=\"Helvetica\" size=4>0 (=Ham)</font></td>\n",
      "        <td style=\"border-top: 1px solid #c1c1c1; border-bottom: 1px solid #c1c1c1; border-left: 1px solid #c1c1c1; border-right: 1px solid #c1c1c1\" align=\"left\" bgcolor=\"#EEEEEE\"><font face=\"Helvetica\" size=4>1 (=Spam)</font></td>\n",
      "\n",
      "    </tr>\n",
      "    <tr>\n",
      "        <td style=\"border-top: 1px solid #c1c1c1; border-bottom: 1px solid #c1c1c1; border-left: 1px solid #c1c1c1; border-right: 1px solid #c1c1c1\" rowspan=3 height=\"116\" align=\"center\" bgcolor=\"#F6F6F6\"><b><font face=\"Helvetica\" size=4>true class</font></b></td>\n",
      "        <td style=\"border-top: 1px solid #c1c1c1; border-bottom: 1px solid #c1c1c1; border-left: 1px solid #c1c1c1; border-right: 1px solid #c1c1c1\" align=\"left\" bgcolor=\"#EEEEEE\"><font face=\"Helvetica\" size=4>0 (=Ham)</font></td>\n",
      "        <td style=\"border-top: 1px solid #c1c1c1; border-bottom: 1px solid #c1c1c1; border-left: 1px solid #c1c1c1; border-right: 1px solid #c1c1c1\" align=\"left\" bgcolor=\"#99FFCC\"><font face=\"Helvetica\" size=4>True Negative (TN)</font></td>\n",
      "        <td style=\"border-top: 1px solid #c1c1c1; border-bottom: 1px solid #c1c1c1; border-left: 1px solid #c1c1c1; border-right: 1px solid #c1c1c1\" align=\"left\" bgcolor=\"#F6F6F6\"><font face=\"Helvetica\" size=4>False Positive (FP)</font></td>\n",
      "\n",
      "    </tr>\n",
      "    <tr>\n",
      "        <td style=\"border-top: 1px solid #c1c1c1; border-bottom: 1px solid #c1c1c1; border-left: 1px solid #c1c1c1; border-right: 1px solid #c1c1c1\" align=\"left\" bgcolor=\"#EEEEEE\"><font face=\"Helvetica\" size=4>1 (=Spam)</font></td>\n",
      "        <td style=\"border-top: 1px solid #c1c1c1; border-bottom: 1px solid #c1c1c1; border-left: 1px solid #c1c1c1; border-right: 1px solid #c1c1c1\" align=\"left\" bgcolor=\"#FFFFFF\"><font face=\"Helvetica\" size=4>False Negative (FN)</font></td>\n",
      "        <td style=\"border-top: 1px solid #c1c1c1; border-bottom: 1px solid #c1c1c1; border-left: 1px solid #c1c1c1; border-right: 1px solid #c1c1c1\" align=\"left\" bgcolor=\"#99FFCC\"><font face=\"Helvetica\" size=4>True Positive (TP)</font></td>\n",
      "\n",
      "    </tr>\n",
      "\n",
      "</table>"
     ]
    },
    {
     "cell_type": "markdown",
     "metadata": {},
     "source": [
      "<br>\n",
      "<br>"
     ]
    },
    {
     "cell_type": "heading",
     "level": 3,
     "metadata": {},
     "source": [
      "Precision and recall"
     ]
    },
    {
     "cell_type": "markdown",
     "metadata": {},
     "source": [
      "[[back to top](#Sections)]"
     ]
    },
    {
     "cell_type": "markdown",
     "metadata": {},
     "source": [
      "Compute the precision\n",
      "The precision is the ratio tp / (tp + fp) where tp is the number of true positives and fp the number of false positives. The precision is intuitively the ability of the classifier not to label as positive a sample that is negative"
     ]
    },
    {
     "cell_type": "markdown",
     "metadata": {},
     "source": [
      "PREC tp / (tp + fp)\n",
      "\"The precision is intuitively the ability of the classifier not to label as positive a sample that is negative.\"\n",
      "\"\"of all things that were labeled as spam, how many were actually spam?\"\"\n",
      "\n",
      "RECALL tp / (tp + fn)\n",
      "\"recall is intuitively the ability of the classifier to find all the positive samples.\"\n",
      "\"\"of all the things that are truly spam, how many did we label?\"\""
     ]
    },
    {
     "cell_type": "code",
     "collapsed": false,
     "input": [
      "prec_recall_scores = [\n",
      "    (cross_val_score(clf, X_train, y_train, cv=cv, scoring='precision'),\n",
      "    cross_val_score(clf, X_train, y_train, cv=cv, scoring='recall'))\n",
      "            for clf in [clf_1, clf_2, clf_3, clf_4, clf_5, clf_6]\n",
      "    ]\n",
      "\n",
      "for score,label in zip(prec_recall_scores, \n",
      "                       ['CountVectorizer unigram', \n",
      "                        'CountVectorizer bigram',\n",
      "                        'CountVectorizer trigram', \n",
      "                        'TfidfVectorizer unigram', \n",
      "                        'TfidfVectorizer bigram',\n",
      "                        'TfidfVectorizer trigram'\n",
      "                        ]\n",
      "                       ):\n",
      "    print(\"Precision: {:.2%} (+/- {:.2%}), {:}\".format(score[0].mean(), score[0].std(), label))\n",
      "    print(\"Recall: {:.2%} (+/- {:.2%}), {:}\\n\".format(score[1].mean(), score[1].std(), label))"
     ],
     "language": "python",
     "metadata": {},
     "outputs": []
    },
    {
     "cell_type": "code",
     "collapsed": false,
     "input": [
      "from sklearn.naive_bayes import GaussianNB\n",
      "\n",
      "clf_7 = Pipeline([\n",
      "    ('vectorizer', CountVectorizer(ngram_range=(1,2), stop_words='english')),\n",
      "    ('classifier', MultinomialNB()),\n",
      "    ])\n",
      "\n",
      "clf_8 = Pipeline([\n",
      "    ('vectorizer', TfidfVectorizer(ngram_range=(1,2), stop_words='english')),\n",
      "    ('classifier', MultinomialNB()),\n",
      "    ])"
     ],
     "language": "python",
     "metadata": {},
     "outputs": [],
     "prompt_number": 19
    },
    {
     "cell_type": "code",
     "collapsed": false,
     "input": [
      "prec_recall_scores = [\n",
      "    (cross_val_score(clf, X_train, y_train, cv=cv, scoring='precision'),\n",
      "     cross_val_score(clf, X_train, y_train, cv=cv, scoring='recall'))\n",
      "            for clf in [clf_2, clf_7, clf_5, clf_8]\n",
      "    ]\n",
      " \n",
      "for score,label in zip(prec_recall_scores, \n",
      "                       [\n",
      "                        'CountVectorizer bigram',\n",
      "                        'CountVectorizer bigram w. stop words',\n",
      "                        'TfidfVectorizer bigram',\n",
      "                        'TfidfVectorizer bigram w. stop words',\n",
      "                        ]\n",
      "                       ):\n",
      "    print(\"Precision: {:.2%} (+/- {:.2%}), {:}\".format(score[0].mean(), score[0].std(), label))\n",
      "    print(\"Recall: {:.2%} (+/- {:.2%}), {:}\\n\".format(score[1].mean(), score[1].std(), label))"
     ],
     "language": "python",
     "metadata": {},
     "outputs": [
      {
       "output_type": "stream",
       "stream": "stdout",
       "text": [
        "Precision: 99.25% (+/- 1.21%), CountVectorizer bigram\n",
        "Recall: 88.99% (+/- 3.90%), CountVectorizer bigram\n",
        "\n",
        "Precision: 97.60% (+/- 1.91%), CountVectorizer bigram w. stop words\n",
        "Recall: 91.48% (+/- 4.24%), CountVectorizer bigram w. stop words\n",
        "\n",
        "Precision: 100.00% (+/- 0.00%), TfidfVectorizer bigram\n",
        "Recall: 55.56% (+/- 6.28%), TfidfVectorizer bigram\n",
        "\n",
        "Precision: 100.00% (+/- 0.00%), TfidfVectorizer bigram w. stop words\n",
        "Recall: 68.58% (+/- 6.02%), TfidfVectorizer bigram w. stop words\n",
        "\n"
       ]
      }
     ],
     "prompt_number": 20
    },
    {
     "cell_type": "markdown",
     "metadata": {},
     "source": [
      "<br>\n",
      "<br>"
     ]
    },
    {
     "cell_type": "heading",
     "level": 3,
     "metadata": {},
     "source": [
      "Receiver Operator Characteristics - ROC Curves"
     ]
    },
    {
     "cell_type": "markdown",
     "metadata": {},
     "source": [
      "[[back to top](#Sections)]"
     ]
    },
    {
     "cell_type": "markdown",
     "metadata": {},
     "source": [
      "<br>\n",
      "<br>"
     ]
    },
    {
     "cell_type": "heading",
     "level": 2,
     "metadata": {},
     "source": [
      "Hyperparameter tuning and Grid Search"
     ]
    },
    {
     "cell_type": "markdown",
     "metadata": {},
     "source": [
      "[[back to top](#Sections)]"
     ]
    },
    {
     "cell_type": "markdown",
     "metadata": {},
     "source": [
      "- GridSearch and roc_auc_score\n",
      "- alpha and priors\n",
      "\n",
      "Regarding your actual problem: you can try to adjust the learner parameters with GridSearchCV using scoring='precision' or a custom scoring function based on sklearn.metric.fbeta_score or roc_auc_score. "
     ]
    },
    {
     "cell_type": "markdown",
     "metadata": {},
     "source": [
      "<br>\n",
      "<br>"
     ]
    },
    {
     "cell_type": "heading",
     "level": 2,
     "metadata": {},
     "source": [
      "Training and evaluation"
     ]
    },
    {
     "cell_type": "markdown",
     "metadata": {},
     "source": [
      "[[back to top](#Sections)]"
     ]
    },
    {
     "cell_type": "code",
     "collapsed": false,
     "input": [
      "clf_2.fit(X_train, y_train)\n",
      "y_pred = clf_2.predict(X_test)"
     ],
     "language": "python",
     "metadata": {},
     "outputs": [],
     "prompt_number": 24
    },
    {
     "cell_type": "code",
     "collapsed": false,
     "input": [
      "from sklearn.metrics import confusion_matrix\n",
      "\n",
      "cm = confusion_matrix(y_test, y_pred)\n",
      "\n",
      "fig = plt.figure(figsize=(6,6))\n",
      "ax = plt.subplot(111) \n",
      "\n",
      "cax = ax.matshow(cm)\n",
      "\n",
      "fig.colorbar(cax)\n",
      "\n",
      "ax.set_ylabel('True label')\n",
      "ax.set_xlabel('Predicted label')\n",
      "ax.set_xticklabels(['', 'ham', 'spam'])\n",
      "ax.set_yticklabels(['', 'ham', 'spam'])\n",
      "\n",
      "plt.title('Confusion matrix')\n",
      "plt.show()\n",
      "\n",
      "print(cm)"
     ],
     "language": "python",
     "metadata": {},
     "outputs": [
      {
       "metadata": {},
       "output_type": "display_data",
       "png": "[encoded data removed]",
       "text": [
        "<matplotlib.figure.Figure at 0x10bb00da0>"
       ]
      },
      {
       "output_type": "stream",
       "stream": "stdout",
       "text": [
        "[[1426    6]\n",
        " [  23  217]]\n"
       ]
      }
     ],
     "prompt_number": 25
    },
    {
     "cell_type": "code",
     "collapsed": false,
     "input": [
      "from sklearn.metrics import accuracy_score, recall_score, precision_score\n",
      "\n",
      "for score in [accuracy_score, recall_score, precision_score]:\n",
      "    print('%s: %s' %(score.__name__, score(y_test, y_pred)))"
     ],
     "language": "python",
     "metadata": {},
     "outputs": [
      {
       "output_type": "stream",
       "stream": "stdout",
       "text": [
        "accuracy_score: 0.982655502392\n",
        "recall_score: 0.904166666667\n",
        "precision_score: 0.973094170404\n"
       ]
      }
     ],
     "prompt_number": 26
    },
    {
     "cell_type": "markdown",
     "metadata": {},
     "source": [
      "<br>\n",
      "<br>"
     ]
    },
    {
     "cell_type": "heading",
     "level": 4,
     "metadata": {},
     "source": [
      "ROC curve"
     ]
    },
    {
     "cell_type": "markdown",
     "metadata": {},
     "source": [
      "[[back to top](#Sections)]"
     ]
    },
    {
     "cell_type": "code",
     "collapsed": false,
     "input": [
      "from sklearn.metrics import roc_curve, auc\n",
      "probas = clf_2.fit(X_train, y_train).predict_proba(X_test)\n",
      "fpr, tpr, thresholds = roc_curve(y_test, probas[:, 1], pos_label=1)\n",
      "roc_auc = auc(fpr, tpr)\n",
      "\n",
      "plt.xlabel('False Positive Rate')\n",
      "plt.ylabel('True Positive Rate')\n",
      "plt.title('Receiver operating characteristic (ROC)')\n",
      "\n",
      "plt.plot(fpr, tpr, lw=1)\n",
      "\n",
      "plt.show()"
     ],
     "language": "python",
     "metadata": {},
     "outputs": [
      {
       "metadata": {},
       "output_type": "display_data",
       "png": "[encoded data removed]",
       "text": [
        "<matplotlib.figure.Figure at 0x1089516a0>"
       ]
      }
     ],
     "prompt_number": 30
    },
    {
     "cell_type": "markdown",
     "metadata": {},
     "source": [
      "<br>\n",
      "<br>"
     ]
    },
    {
     "cell_type": "heading",
     "level": 1,
     "metadata": {},
     "source": [
      "Further readings"
     ]
    },
    {
     "cell_type": "markdown",
     "metadata": {},
     "source": [
      "[[back to top](#Sections)]"
     ]
    },
    {
     "cell_type": "heading",
     "level": 3,
     "metadata": {},
     "source": [
      "Naive Bayes classifiers"
     ]
    },
    {
     "cell_type": "markdown",
     "metadata": {},
     "source": [
      "- Domingos, Pedro, and Michael Pazzani. \"[On the Optimality of the Simple Bayesian Classifier under Zero-One Loss.](http://link.springer.com/article/10.1023%2FA%3A1007413511361)\" Machine Learning 29, no. 2\u20133 (November 1, 1997): 103\u201330. doi:10.1023/A:1007413511361.\n",
      "\n",
      "- Rish, Irina. \"[An Empirical Study of the Naive Bayes Classifier.](http://www.citeulike.org/user/JoSeK/article/352583)\" In IJCAI 2001 Workshop on Empirical Methods in Artificial Intelligence, 3:41\u201346, 2001. \n",
      "\n",
      "- Rennie, Jason D., Lawrence Shih, Jaime Teevan, David R. Karger, and others. 2003. \u201c[Tackling the Poor Assumptions of Naive Bayes Text Classifiers.](http://www.aaai.org/Papers/ICML/2003/ICML03-081.pdf)\u201d In ICML, 3:616\u201323. Washington DC).\n",
      "\n"
     ]
    },
    {
     "cell_type": "heading",
     "level": 3,
     "metadata": {},
     "source": [
      "Naive Bayes and spam filtering"
     ]
    },
    {
     "cell_type": "markdown",
     "metadata": {},
     "source": [
      "- Sahami, Mehran, Susan Dumais, David Heckerman, and Eric Horvitz. \"[A Bayesian Approach to Filtering Junk E-Mail.](http://research.microsoft.com/en-us/um/people/horvitz/junkfilter.htm)\" In Learning for Text Categorization: Papers from the 1998 Workshop, 62:98\u2013105, 1998. \n",
      "\n",
      "- Almeida, Tiago A., Jos\u00e9 Mar\u00eda G. Hidalgo, and Akebo Yamakami. \"[Contributions to the Study of SMS Spam Filtering: New Collection and Results.](http://dl.acm.org/citation.cfm?doid=2034691.2034742)\" In Proceedings of the 11th ACM Symposium on Document Engineering, 259\u201362. DocEng \u201911. New York, NY, USA: ACM, 2011. doi:10.1145/2034691.2034742.\n"
     ]
    },
    {
     "cell_type": "code",
     "collapsed": false,
     "input": [],
     "language": "python",
     "metadata": {},
     "outputs": []
    }
   ],
   "metadata": {}
  }
 ]
}